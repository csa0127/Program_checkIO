{
 "cells": [
  {
   "cell_type": "markdown",
   "metadata": {},
   "source": [
    "Errors during transcription are rather common. Unintentional keystrokes can cause characters to be rearranged, dropped or inserted in manually typed text.\n",
    "\n",
    "Luckily for the robots, you have ways to solve problems like this. Your CheckSum helps to reduce the likelihood of errors by introducing a final character that is calculated from the previous characters. With the proper reasoning, the final character can always be calculated. This way, when inputs are entered, you can instantly verify that the final character matches the character predicted by CheckSum. If the two do not match, the input is rejected. The end result is that you would see fewer data entry errors.\n",
    "\n",
    "How CheckSum Works:\n",
    "CheckSum reasoning will need map points. This is a definition lookup for how to process the input necessary to generate the final character, which will be enable us instantly verify that our input is correct. In other words, for each sequence character of the input, we are confident there can only be one possible input, all thanks to this final character. \n",
    "\n",
    "The steps you must take to obtain the final character are as follows: \n",
    "From the rightmost input, traverse from right to left, and apply 'map point character lookup' for even-indexed characters.\n",
    "Add map point results for even-indexed characters with the unchanged digits from the original number.\n",
    "Find the remainder of this sum with 10. For an example sum of 67, the remainder is 7. ( 67 modulo 10 = 7 )\n",
    "Your final character should be 0 if the sum is a multiple-of-10, but it should be 10 minus remainder if the sum is not a multiple-of-10.\n",
    "To generate the 'map point character lookup' table: \n",
    "Double the value of a character.\n",
    "If the product of this doubling operation is greater than 9 (e.g: 7 * 2 = 14), reduce it by summing the digits of the product. (i.e., find its digital root. e.g., 10: 1 + 0 = 1, 14: 1 + 4 = 5) Only do this once. Even if the sum is greater than 9, leave it alone.\n",
    "Could you give me an example please?\n",
    "Okay, take a look this example for a (pretend) account number: \"7992739871\". We will add final character to it, so it looks something like: \"7992739871x,\" with x being the final character-to-be-found. \n",
    "\n",
    "Here is what a 'map point character lookup' table looks like for 0 through 9: \n",
    "\n",
    "Digits\t:\t0\t1\t2\t3\t4\t5\t6\t7\t8\t9\n",
    "Doubled\t:\t0\t2\t4\t6\t8\t10\t12\t14\t16\t18\n",
    "Reduced\t:\t0\t2\t4\t6\t8\t1+0\t1+2\t1+4\t1+6\t1+8\n",
    "Map Point\t:\t0\t2\t4\t6\t8\t1\t3\t5\t7\t9\n",
    "\n",
    "And here is how we will obtain final character: \n",
    "\n",
    "Index\t:\t0\t1\t2\t3\t4\t5\t6\t7\t8\t9\n",
    "Reversed\t:\t1\t7\t8\t9\t3\t7\t2\t9\t9\t7\n",
    "From table\t:\t2\t\t7\t\t6\t\t4\t\t9\t\tTotal: 67\n",
    "Unchanged\t:\t\t7\t\t9\t\t7\t\t9\t\t7\n",
    "Final Character\t:\t10 - ( 67 % 10 ) = 10 - 7 =\t3\n",
    "\n",
    "So, we can release the account number as follows: 799 273 9871 3 \n",
    "Alphanumeric Input\n",
    "To make this more interesting, we can use alphanumeric input, which is a possible combination of 10 digits and 26 capital letters. It means that we will have to upgrade our map point to support letters. How we achieve that? We use each character's ASCII value to help us determine the character sequence. For example: 'A' has an ASCII value 65. To determine its sequence in our map, we need to substract 48. \n",
    "\n",
    "For this example, 'A' is 7 since 65 - 48 = 17, 17 * 2 = 34 and 3 + 4 = 7. (Remember to only apply 'map point character lookup' to even-indexed characters. If 'A' is an odd-indexed character, its value is 17) \n",
    "Alphanumeric Example\n",
    "Alright, we have another example here: \"139MT\". Let's see how we can obtain the final character... \n",
    "\n",
    "Reversed\t:\tT\tM\t9\t3\t1\n",
    "Sum of digits\t:\t9\t29\t9\t3\t2\tTotal: 52\n",
    "Final Character\t:\t10 - ( 52 % 10 ) = 10 - 2 =\t8\n",
    "Here is detail for how we do it:\n",
    "\n",
    "T:  ASCII of 84, 84 - 48 = 36, 36 * 2 = 72, and 7 + 2 = 9\n",
    "M:  ASCII of 77, and 77 - 48 = 29\n",
    "9:  from map point is, 9, or ASCII of 57, 57 - 48 = 9, 9 * 2 = 18, and 1 + 8 = 9\n",
    "3:  just 3, or ASCII of 51, and 51 - 48 = 3\n",
    "1:  from map point is, 2, or ASCII of 49, 49 - 48 = 1, and 1 * 2 = 2\n",
    "Sum of digits is 52, since 9 + 29 + 9 + 3 + 1 = 52\n",
    "Final character is 8, since 10 - ( 52 % 10 ) = 10 - 2 = 8\n",
    "\n",
    "Now it's time to test your CheckSum module!\n",
    "Input: Unsanitized numeric or alphanumeric due to formatting purpose\n",
    "\n",
    "Output: List of its final character and sum of digits"
   ]
  },
  {
   "cell_type": "code",
   "execution_count": 67,
   "metadata": {},
   "outputs": [],
   "source": [
    "data = \"123\""
   ]
  },
  {
   "cell_type": "code",
   "execution_count": 76,
   "metadata": {},
   "outputs": [],
   "source": [
    "def checkio(data):\n",
    "    dataList = [x for x in data if (x.isdigit() or x.isalpha())]\n",
    "    dataList.reverse()\n",
    "    dataResult = sum([ord(x)-48 for x in dataList[1::2]])\n",
    "    for d in dataList[0::2]:\n",
    "        temp = (ord(d)-48)*2\n",
    "        dataResult += (temp//10 +temp%10)\n",
    "    dataStr = str((10 - dataResult % 10)%10)\n",
    "    \n",
    "    return [dataStr, dataResult]"
   ]
  },
  {
   "cell_type": "code",
   "execution_count": 77,
   "metadata": {},
   "outputs": [
    {
     "data": {
      "text/plain": [
       "['0', 10]"
      ]
     },
     "execution_count": 77,
     "metadata": {},
     "output_type": "execute_result"
    }
   ],
   "source": [
    "checkio(data)"
   ]
  },
  {
   "cell_type": "code",
   "execution_count": null,
   "metadata": {},
   "outputs": [],
   "source": []
  }
 ],
 "metadata": {
  "kernelspec": {
   "display_name": "Python 3",
   "language": "python",
   "name": "python3"
  },
  "language_info": {
   "codemirror_mode": {
    "name": "ipython",
    "version": 3
   },
   "file_extension": ".py",
   "mimetype": "text/x-python",
   "name": "python",
   "nbconvert_exporter": "python",
   "pygments_lexer": "ipython3",
   "version": "3.6.4"
  }
 },
 "nbformat": 4,
 "nbformat_minor": 2
}
