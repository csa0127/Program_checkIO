{
 "cells": [
  {
   "cell_type": "markdown",
   "metadata": {},
   "source": [
    "Stephan works with simple forms when constructing something, and he need some programming tools to calculate his expenses. Let's take a trip back to our school days and pull out some simple geometry for this.\n",
    "\n",
    "You should write a function to calculate the area of simple figures: circles, rectangles and triangles. You are give an arbitrary number of arguments and depending on this, the function calculates area for the different figures.\n",
    "\n",
    "One argument -- The diameter of a circle and you need calculate the area of the circle.\n",
    "Two arguments -- The side lengths of a rectangle and you need calculate the area of the rectangle.\n",
    "Three arguments -- The lengths of each side on a triangle and you need calculate the area of the triangle.\n",
    "simple-areas\n",
    "\n",
    "The result should be given with two digits precision as ±0.01.\n",
    "\n",
    "Tips: Think about how to work with an arbitrary number of arguments.\n",
    "\n",
    "Input: One, two or three arguments as floats or as integers.\n",
    "\n",
    "Output: The area of the circle, the rectangle or the triangle as a float."
   ]
  },
  {
   "cell_type": "code",
   "execution_count": 8,
   "metadata": {},
   "outputs": [
    {
     "data": {
      "text/plain": [
       "7.07"
      ]
     },
     "execution_count": 8,
     "metadata": {},
     "output_type": "execute_result"
    }
   ],
   "source": [
    "import math\n",
    "a = math.sqrt(6*1*2*3)\n",
    "b= 1.5*1.5*math.pi\n",
    "round(b,2)"
   ]
  },
  {
   "cell_type": "code",
   "execution_count": 23,
   "metadata": {},
   "outputs": [],
   "source": [
    "import math\n",
    "area_circle = lambda x: round(math.pi*x*x/4,2)\n",
    "#def area_circle(*args):\n",
    "#    return round(math.pi*args[0]*args[0]/4,2)\n",
    "def area_rectangle(*args):\n",
    "    return round(args[0]*args[1],2)\n",
    "def area_triangle(*args):\n",
    "    p = sum(args)/2\n",
    "    return round(math.sqrt(p*(p-args[0])*(p-args[1])*(p-args[2])),2)\n",
    "    \n",
    "    \n",
    "def simple_areas(*args):\n",
    "    if(len(args) == 1): return area_circle(*args)\n",
    "    elif(len(args)==2): return area_rectangle(*args)\n",
    "    else: return area_triangle(*args)"
   ]
  },
  {
   "cell_type": "code",
   "execution_count": 24,
   "metadata": {},
   "outputs": [
    {
     "data": {
      "text/plain": [
       "7.07"
      ]
     },
     "execution_count": 24,
     "metadata": {},
     "output_type": "execute_result"
    }
   ],
   "source": [
    "simple_areas(3)"
   ]
  },
  {
   "cell_type": "code",
   "execution_count": null,
   "metadata": {},
   "outputs": [],
   "source": []
  },
  {
   "cell_type": "code",
   "execution_count": null,
   "metadata": {},
   "outputs": [],
   "source": []
  }
 ],
 "metadata": {
  "kernelspec": {
   "display_name": "Python 3",
   "language": "python",
   "name": "python3"
  },
  "language_info": {
   "codemirror_mode": {
    "name": "ipython",
    "version": 3
   },
   "file_extension": ".py",
   "mimetype": "text/x-python",
   "name": "python",
   "nbconvert_exporter": "python",
   "pygments_lexer": "ipython3",
   "version": "3.6.4"
  }
 },
 "nbformat": 4,
 "nbformat_minor": 2
}
