{
 "cells": [
  {
   "cell_type": "markdown",
   "metadata": {},
   "source": [
    "You are an active traveler who have visited a lot of countries. The main city in the every country is its capital and each country can have only one capital city. So your task is to create the class Capital which has some special properties: the first created instance of this class will be unique and single, and all of the other instances should be the same as the very first one. \n",
    "Also you should add the name() method which returns the name of the capital. \n",
    "In this mission you should use the Singleton design pattern.\n",
    "\n",
    "Input: The class Capital.\n",
    "\n",
    "Output: The name of the capital.\n",
    "\n",
    "How it is used: For creation of a unique object as a single instance.\n",
    "\n",
    "Precondition: All data is correct."
   ]
  },
  {
   "cell_type": "code",
   "execution_count": 11,
   "metadata": {},
   "outputs": [],
   "source": [
    "class Singleton(type):\n",
    "    _unique_instantce = None\n",
    "    \n",
    "    def __call__(cls,*args,**kwargs):\n",
    "        if cls._unique_instantce is None:\n",
    "            cls._unique_instantce = super(Singleton,cls).__call__(*args,**kwargs)\n",
    "        return cls._unique_instantce\n",
    "    \n",
    "class Capital(metaclass = Singleton):\n",
    "    def __init__(self, city_name):\n",
    "        self._name = city_name\n",
    "    def name(self):\n",
    "        return self._name"
   ]
  },
  {
   "cell_type": "code",
   "execution_count": 14,
   "metadata": {},
   "outputs": [],
   "source": []
  },
  {
   "cell_type": "code",
   "execution_count": 18,
   "metadata": {},
   "outputs": [],
   "source": [
    "def singleton(cls):\n",
    "    instances = {}\n",
    "    def wrapper(*args, **kwargs):\n",
    "        if cls not in instances:\n",
    "            instances[cls] = cls(*args, **kwargs)\n",
    "        return instances[cls]\n",
    "    return wrapper\n",
    "\n",
    "@singleton\n",
    "class Capital(object):\n",
    "    def __init__(self, city_name):\n",
    "        self.capital=city_name\n",
    "    def name(self):\n",
    "        return self.capital"
   ]
  },
  {
   "cell_type": "code",
   "execution_count": 19,
   "metadata": {},
   "outputs": [],
   "source": [
    "ukraine_capital_1 = Capital(\"Kyiv\")\n",
    "ukraine_capital_2 = Capital(\"London\")\n",
    "ukraine_capital_3 = Capital(\"Marocco\")"
   ]
  },
  {
   "cell_type": "code",
   "execution_count": 20,
   "metadata": {},
   "outputs": [
    {
     "data": {
      "text/plain": [
       "'Kyiv'"
      ]
     },
     "execution_count": 20,
     "metadata": {},
     "output_type": "execute_result"
    }
   ],
   "source": [
    "ukraine_capital_2.name()"
   ]
  },
  {
   "cell_type": "code",
   "execution_count": 21,
   "metadata": {},
   "outputs": [
    {
     "data": {
      "text/plain": [
       "True"
      ]
     },
     "execution_count": 21,
     "metadata": {},
     "output_type": "execute_result"
    }
   ],
   "source": [
    "ukraine_capital_2 is ukraine_capital_1"
   ]
  },
  {
   "cell_type": "code",
   "execution_count": null,
   "metadata": {},
   "outputs": [],
   "source": []
  }
 ],
 "metadata": {
  "kernelspec": {
   "display_name": "Python 3",
   "language": "python",
   "name": "python3"
  },
  "language_info": {
   "codemirror_mode": {
    "name": "ipython",
    "version": 3
   },
   "file_extension": ".py",
   "mimetype": "text/x-python",
   "name": "python",
   "nbconvert_exporter": "python",
   "pygments_lexer": "ipython3",
   "version": "3.6.4"
  }
 },
 "nbformat": 4,
 "nbformat_minor": 2
}
