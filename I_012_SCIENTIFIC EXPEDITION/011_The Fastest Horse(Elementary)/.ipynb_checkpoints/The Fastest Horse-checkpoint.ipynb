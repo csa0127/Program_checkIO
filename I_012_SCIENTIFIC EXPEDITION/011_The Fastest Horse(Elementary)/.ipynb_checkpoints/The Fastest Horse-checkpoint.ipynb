{
 "cells": [
  {
   "cell_type": "markdown",
   "metadata": {},
   "source": [
    "Input: Racing time as an array of arrays.\n",
    "\n",
    "Output: The number of the fastest horse that has the most wins (Important: in this task the horse numbers starts from \"1\", not from \"0\")"
   ]
  },
  {
   "cell_type": "code",
   "execution_count": 61,
   "metadata": {},
   "outputs": [],
   "source": [
    "from collections import Counter\n",
    "def strToint(string):\n",
    "    return int(string[0])*60+int(string[2:])\n",
    "\n",
    "def fastest_horse(horses:list) -> int:\n",
    "    result = []\n",
    "    for race in range(len(horses)):\n",
    "        result.append(horses[race].index(min(horses[race])))\n",
    "    return Counter(result).most_common(1)[0][0]+1\n",
    "    "
   ]
  },
  {
   "cell_type": "code",
   "execution_count": 63,
   "metadata": {},
   "outputs": [
    {
     "data": {
      "text/plain": [
       "3"
      ]
     },
     "execution_count": 63,
     "metadata": {},
     "output_type": "execute_result"
    }
   ],
   "source": [
    "fastest_horse(hor1)"
   ]
  },
  {
   "cell_type": "code",
   "execution_count": 50,
   "metadata": {},
   "outputs": [],
   "source": [
    "hor = [\"1:10\",\"1:15\",\"1:20\"],[\"1:05\",\"1:10\",\"1:15\"],[\"2:59\",\"2:59\",\"2:59\"]"
   ]
  },
  {
   "cell_type": "code",
   "execution_count": 58,
   "metadata": {},
   "outputs": [],
   "source": [
    "hor1 = [['1:13', '1:26', '1:11'], ['1:10', '1:18', '1:14'], ['1:20', '1:23', '1:15']]"
   ]
  },
  {
   "cell_type": "markdown",
   "metadata": {},
   "source": [
    "### another solution from forum"
   ]
  },
  {
   "cell_type": "code",
   "execution_count": 56,
   "metadata": {},
   "outputs": [],
   "source": [
    "def fastest_horse1(horses):\n",
    "    # r is all candidate\n",
    "    r = range(len(horses[0]))\n",
    "    # At first, we make winner list.\n",
    "    winner_list = [min(r, key=race.__getitem__) for race in horses]\n",
    "    print(winner_list)\n",
    "    # Second, we determine maximum winner.\n",
    "    return max(r, key=winner_list.count) + 1\n"
   ]
  },
  {
   "cell_type": "code",
   "execution_count": 60,
   "metadata": {},
   "outputs": [
    {
     "name": "stdout",
     "output_type": "stream",
     "text": [
      "[0, 0, 0]\n"
     ]
    },
    {
     "data": {
      "text/plain": [
       "1"
      ]
     },
     "execution_count": 60,
     "metadata": {},
     "output_type": "execute_result"
    }
   ],
   "source": [
    "fastest_horse1(hor)"
   ]
  },
  {
   "cell_type": "code",
   "execution_count": null,
   "metadata": {},
   "outputs": [],
   "source": []
  }
 ],
 "metadata": {
  "kernelspec": {
   "display_name": "Python 3",
   "language": "python",
   "name": "python3"
  },
  "language_info": {
   "codemirror_mode": {
    "name": "ipython",
    "version": 3
   },
   "file_extension": ".py",
   "mimetype": "text/x-python",
   "name": "python",
   "nbconvert_exporter": "python",
   "pygments_lexer": "ipython3",
   "version": "3.6.4"
  }
 },
 "nbformat": 4,
 "nbformat_minor": 2
}
