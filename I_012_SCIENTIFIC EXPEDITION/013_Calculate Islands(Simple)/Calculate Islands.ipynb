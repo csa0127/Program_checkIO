{
 "cells": [
  {
   "cell_type": "markdown",
   "metadata": {},
   "source": [
    "Input: A map as a list of lists with 1 or 0.\n",
    "\n",
    "Output: The sizes of island as a list of integers."
   ]
  },
  {
   "cell_type": "code",
   "execution_count": null,
   "metadata": {},
   "outputs": [],
   "source": []
  },
  {
   "cell_type": "code",
   "execution_count": 49,
   "metadata": {},
   "outputs": [],
   "source": [
    "lmap = [[0, 0, 0, 0, 0],\n",
    "        [0, 0, 1, 1, 0],\n",
    "        [0, 0, 0, 1, 0],\n",
    "        [0, 1, 0, 0, 0],\n",
    "        [0, 0, 0, 0, 0]]"
   ]
  },
  {
   "cell_type": "code",
   "execution_count": 52,
   "metadata": {},
   "outputs": [],
   "source": [
    "from typing import List\n",
    "import itertools\n",
    "direction = {p for p in itertools.product([-1, 0, 1], repeat=2)}\n",
    "\n",
    "def checkio(land_map: List[List[int]]) -> List[int]:\n",
    "    h = len(land_map)\n",
    "    w = len(land_map[0])\n",
    "    unchecked = [[land_map[y][x] == 1 for x in range(w)] for y in range(h)]\n",
    "    \n",
    "    def search(y,x):\n",
    "        if 0<=y<h and 0<=x<w and unchecked[y][x]:\n",
    "            unchecked[y][x] = False\n",
    "            return 1+sum(search(y+p[1],x+p[0]) for p in direction)\n",
    "        else: \n",
    "            return 0\n",
    "    \n",
    "    result = [search(y,x) for y in range(h) for x in range(w)]\n",
    "    return sorted([r for r in result if r > 0])"
   ]
  },
  {
   "cell_type": "code",
   "execution_count": 59,
   "metadata": {},
   "outputs": [
    {
     "data": {
      "text/plain": [
       "[1, 3]"
      ]
     },
     "execution_count": 59,
     "metadata": {},
     "output_type": "execute_result"
    }
   ],
   "source": [
    "checkio(lmap)"
   ]
  },
  {
   "cell_type": "code",
   "execution_count": 58,
   "metadata": {},
   "outputs": [],
   "source": [
    "import itertools\n",
    "\n",
    "ADJACENT = {p for p in itertools.product([-1, 0, 1], repeat=2)} - {0, 0}\n",
    "\n",
    "def checkio(data):\n",
    "    def get_island_size(start):\n",
    "        size = 0\n",
    "        stack = [start]\n",
    "        while stack:\n",
    "            x, y = stack.pop()\n",
    "            if 0 <= x < w and 0 <= y < h and unchecked[y][x]:\n",
    "                unchecked[y][x] = False\n",
    "                size += 1\n",
    "                stack += [(x + p[0], y + p[1]) for p in ADJACENT]\n",
    "        return size\n",
    "\n",
    "    h, w = len(data), len(data[0])\n",
    "    unchecked = [[data[y][x] == 1 for x in range(w)] for y in range(h)]\n",
    "    pts = [(x, y) for y in range(h) for x in range(w)]\n",
    "    result = [get_island_size(pt) for pt in pts]\n",
    "    return sorted(r for r in result if r > 0)"
   ]
  },
  {
   "cell_type": "code",
   "execution_count": 48,
   "metadata": {},
   "outputs": [],
   "source": []
  },
  {
   "cell_type": "code",
   "execution_count": null,
   "metadata": {},
   "outputs": [],
   "source": []
  }
 ],
 "metadata": {
  "kernelspec": {
   "display_name": "Python 3",
   "language": "python",
   "name": "python3"
  },
  "language_info": {
   "codemirror_mode": {
    "name": "ipython",
    "version": 3
   },
   "file_extension": ".py",
   "mimetype": "text/x-python",
   "name": "python",
   "nbconvert_exporter": "python",
   "pygments_lexer": "ipython3",
   "version": "3.6.4"
  }
 },
 "nbformat": 4,
 "nbformat_minor": 2
}
