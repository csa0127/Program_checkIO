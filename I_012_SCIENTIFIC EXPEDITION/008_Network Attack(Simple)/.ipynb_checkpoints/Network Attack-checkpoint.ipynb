{
 "cells": [
  {
   "cell_type": "markdown",
   "metadata": {},
   "source": [
    "Input: Network information as a list of lists with integers.\n",
    "\n",
    "Output: The total time of taken to capture the network as an integer."
   ]
  },
  {
   "cell_type": "code",
   "execution_count": 51,
   "metadata": {},
   "outputs": [],
   "source": [
    "matrix =[[0,1,1,0,0,1],\n",
    "         [1,6,1,0,1,1],\n",
    "         [1,1,3,0,1,0],\n",
    "         [0,0,0,9,1,0],\n",
    "         [0,1,1,1,4,0],\n",
    "         [1,1,0,0,0,6]]"
   ]
  },
  {
   "cell_type": "code",
   "execution_count": 86,
   "metadata": {},
   "outputs": [],
   "source": [
    "from collections import deque\n",
    "def get_security(number,input_matrix):\n",
    "    return input_matrix[number][number]\n",
    "def get_all_security(input_matrix):\n",
    "    for num in range(len(input_matrix)):\n",
    "        yield get_security(num,input_matrix)\n",
    "\n",
    "def get_next(number,input_matrix,old_route):\n",
    "    temp = [i for i,e in enumerate(input_matrix[number]) if e == 1]\n",
    "    temp2 = []\n",
    "    for num in temp:\n",
    "        if num not in old_route:\n",
    "            yield num\n",
    "    \n",
    "def capture(matrix):\n",
    "    ##que = deque([(now,old,security_remain)])\n",
    "    security_max = sum(list(get_all_security(matrix)))\n",
    "    security_min = max(list(get_all_security(matrix)))\n",
    "    for i in range(security_min,security_max+1):\n",
    "        que = deque([(0,[0],i)])\n",
    "        route_all = [0]\n",
    "        while(que):\n",
    "            oldData = que.popleft()   \n",
    "            for next_route in get_next(oldData[0],matrix,oldData[1]):\n",
    "                route = list(tuple(oldData[1]))\n",
    "                remain_new = oldData[2] - get_security(next_route,matrix)\n",
    "                if(remain_new >= 0): \n",
    "                    route.append(next_route)\n",
    "                    route_all.append(next_route)\n",
    "                    que.append((next_route,route,remain_new))\n",
    "        if(set(route_all) == set([d for d in range(len(matrix))])):\n",
    "            return i"
   ]
  },
  {
   "cell_type": "code",
   "execution_count": 87,
   "metadata": {},
   "outputs": [
    {
     "data": {
      "text/plain": [
       "16"
      ]
     },
     "execution_count": 87,
     "metadata": {},
     "output_type": "execute_result"
    }
   ],
   "source": [
    "capture(matrix)"
   ]
  },
  {
   "cell_type": "code",
   "execution_count": null,
   "metadata": {},
   "outputs": [],
   "source": []
  }
 ],
 "metadata": {
  "kernelspec": {
   "display_name": "Python 3",
   "language": "python",
   "name": "python3"
  },
  "language_info": {
   "codemirror_mode": {
    "name": "ipython",
    "version": 3
   },
   "file_extension": ".py",
   "mimetype": "text/x-python",
   "name": "python",
   "nbconvert_exporter": "python",
   "pygments_lexer": "ipython3",
   "version": "3.6.4"
  }
 },
 "nbformat": 4,
 "nbformat_minor": 2
}
