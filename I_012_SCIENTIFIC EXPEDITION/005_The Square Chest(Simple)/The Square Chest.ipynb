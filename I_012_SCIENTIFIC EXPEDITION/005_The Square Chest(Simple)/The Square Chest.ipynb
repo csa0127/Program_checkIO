{
 "cells": [
  {
   "cell_type": "code",
   "execution_count": 73,
   "metadata": {},
   "outputs": [],
   "source": [
    "from typing import List\n",
    "def Toset(lines):\n",
    "    list1 = []\n",
    "    for items in lines:\n",
    "        list1.append(set(items))\n",
    "    return list1\n",
    "def check_square(square,lines_list):\n",
    "    result = 0\n",
    "    for i in range(len(square)):\n",
    "        count = 0\n",
    "        for items in square[i]:\n",
    "            if set(items) in lines_list: count += 1\n",
    "            else: count = 0\n",
    "        if(count == len(square[i])): result += 1\n",
    "    return result\n",
    "\n",
    "def checkio(lines_list: List[List[int]]) -> int:\n",
    "    square0 = []\n",
    "    square1 = []\n",
    "    square2 = []\n",
    "    square0 += [[[j+1+4*i,j+2+4*i],[j+1+4*i,j+5+4*i],\n",
    "                 [j+2+4*i,j+6+4*i],[j+5+4*i,j+6+4*i]] for i in range(3) for j in range(3)]\n",
    "    square1 += [[[j+1+4*i,j+2+4*i],[j+2+4*i,j+3+4*i],[j+1+4*i,j+5+4*i],[j+3+4*i,j+7+4*i],\n",
    "                [j+5+4*i,j+9+4*i],[j+7+4*i,j+11+4*i],[j+9+4*i,j+10+4*i],[j+10+4*i,j+11+4*i]] for i in range(2) for j in range(2)]\n",
    "    square2 = [[[1, 2], [2, 3], [3, 4], [1, 5], [4, 8],\n",
    "                [5, 9], [8, 12],[9, 13], [12, 16], [13, 14], [14, 15], [15, 16]]]\n",
    "    \n",
    "    return check_square(square0,Toset(lines_list))+check_square(square1,Toset(lines_list))+check_square(square2,Toset(lines_list))"
   ]
  },
  {
   "cell_type": "code",
   "execution_count": 74,
   "metadata": {},
   "outputs": [],
   "source": [
    "lines = [[16, 15], [16, 12], [15, 11], [11, 10],\n",
    "                     [10, 14], [14, 13], [13, 9]]"
   ]
  },
  {
   "cell_type": "code",
   "execution_count": 75,
   "metadata": {},
   "outputs": [
    {
     "data": {
      "text/plain": [
       "0"
      ]
     },
     "execution_count": 75,
     "metadata": {},
     "output_type": "execute_result"
    }
   ],
   "source": [
    "checkio(lines)"
   ]
  },
  {
   "cell_type": "code",
   "execution_count": null,
   "metadata": {},
   "outputs": [],
   "source": []
  }
 ],
 "metadata": {
  "kernelspec": {
   "display_name": "Python 3",
   "language": "python",
   "name": "python3"
  },
  "language_info": {
   "codemirror_mode": {
    "name": "ipython",
    "version": 3
   },
   "file_extension": ".py",
   "mimetype": "text/x-python",
   "name": "python",
   "nbconvert_exporter": "python",
   "pygments_lexer": "ipython3",
   "version": "3.6.4"
  }
 },
 "nbformat": 4,
 "nbformat_minor": 2
}
