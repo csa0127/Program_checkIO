{
 "cells": [
  {
   "cell_type": "markdown",
   "metadata": {},
   "source": [
    "Input: Plain or encrypted text.\n",
    "\n",
    "Output: Encrypted or decrypted text of the message.\n",
    "\n",
    "How it is used: For the encryption and decryption of the important information.\n",
    "\n",
    "Precondition: Only [a-z], [A-Z], [0-9], \".\", \":\", \"!\", \"?\", \"$\", \"%\", \"@\" in the text."
   ]
  },
  {
   "cell_type": "code",
   "execution_count": 22,
   "metadata": {},
   "outputs": [],
   "source": [
    "class HackerLanguage:\n",
    "    def __init__(self):\n",
    "        self.ori = ''\n",
    "        self.asc = ''\n",
    "    \n",
    "    def write(self,str_in):\n",
    "        self.ori += str_in\n",
    "        return self.ori\n",
    "    \n",
    "    def delete(self,num):\n",
    "        self.ori = self.ori[0:-num]\n",
    "        return self.ori\n",
    "    \n",
    "    def send(self):\n",
    "        self.asc= ''\n",
    "        for s in self.ori:\n",
    "            if(s.isalpha()):\n",
    "                self.asc += bin(ord(s))[2:]\n",
    "            elif(s.isspace()):\n",
    "                self.asc += '1000000'\n",
    "            else:\n",
    "                self.asc += s\n",
    "        return self.asc\n",
    "    \n",
    "    def read(self,asc_in):\n",
    "        result = ''\n",
    "        asc_temp = asc_in\n",
    "        while(asc_temp != ''):\n",
    "            if(asc_temp[0] in ['1','0']):\n",
    "                try:\n",
    "                    temp = chr(int(asc_temp[0:7],2))\n",
    "                    if(temp.isalpha() == True):\n",
    "                        result += temp\n",
    "                        asc_temp = asc_temp[7:]\n",
    "                    elif(temp == '@'):\n",
    "                        result += ' '\n",
    "                        asc_temp = asc_temp[7:]\n",
    "                    else:\n",
    "                        result += asc_temp[0]\n",
    "                        asc_temp = asc_temp[1:]\n",
    "                except:\n",
    "                    result += asc_temp[0]\n",
    "                    asc_temp = asc_temp[1:]  \n",
    "            else:\n",
    "                result += asc_temp[0]\n",
    "                asc_temp = asc_temp[1:]\n",
    "        return result\n"
   ]
  },
  {
   "cell_type": "code",
   "execution_count": 23,
   "metadata": {},
   "outputs": [],
   "source": [
    "message1 = HackerLanguage()"
   ]
  },
  {
   "cell_type": "code",
   "execution_count": 25,
   "metadata": {},
   "outputs": [
    {
     "data": {
      "text/plain": [
       "'My email is mr.robot@gmail.com'"
      ]
     },
     "execution_count": 25,
     "metadata": {},
     "output_type": "execute_result"
    }
   ],
   "source": [
    "message1.read('10011011111001100000011001011101101110000111010011101100100000011010011110011100000011011011110010.11100101101111110001011011111110100@11001111101101110000111010011101100.110001111011111101101')"
   ]
  },
  {
   "cell_type": "markdown",
   "metadata": {},
   "source": [
    "### another solution by using re"
   ]
  },
  {
   "cell_type": "code",
   "execution_count": 18,
   "metadata": {},
   "outputs": [],
   "source": [
    "import re\n",
    "\n",
    "\n",
    "class HackerLanguage1:\n",
    "    def __init__(self):\n",
    "        self.buffer = []\n",
    "\n",
    "    def write(self, text):\n",
    "        self.buffer.extend(text)\n",
    "\n",
    "    def delete(self, length):\n",
    "        self.buffer = self.buffer[:-length]\n",
    "\n",
    "    def send(self):\n",
    "        return ''.join(\n",
    "            bin(ord(c))[2:] if c.isalpha() else c for c in self.buffer\n",
    "        ).replace(' ', '1000000')\n",
    "\n",
    "    def read(self, coded):\n",
    "        return re.sub(\n",
    "            r'[01]{7}',\n",
    "            lambda e: chr(int(e[0], 2)) if e[0] != '1000000' else ' ',\n",
    "            coded\n",
    "        )"
   ]
  },
  {
   "cell_type": "code",
   "execution_count": 19,
   "metadata": {},
   "outputs": [],
   "source": [
    "m = HackerLanguage1()"
   ]
  },
  {
   "cell_type": "code",
   "execution_count": 26,
   "metadata": {},
   "outputs": [
    {
     "data": {
      "text/plain": [
       "'My email is mr.robot@gmail.com'"
      ]
     },
     "execution_count": 26,
     "metadata": {},
     "output_type": "execute_result"
    }
   ],
   "source": [
    "m.read('10011011111001100000011001011101101110000111010011101100100000011010011110011100000011011011110010.11100101101111110001011011111110100@11001111101101110000111010011101100.110001111011111101101')"
   ]
  },
  {
   "cell_type": "code",
   "execution_count": null,
   "metadata": {},
   "outputs": [],
   "source": []
  }
 ],
 "metadata": {
  "kernelspec": {
   "display_name": "Python 3",
   "language": "python",
   "name": "python3"
  },
  "language_info": {
   "codemirror_mode": {
    "name": "ipython",
    "version": 3
   },
   "file_extension": ".py",
   "mimetype": "text/x-python",
   "name": "python",
   "nbconvert_exporter": "python",
   "pygments_lexer": "ipython3",
   "version": "3.6.4"
  }
 },
 "nbformat": 4,
 "nbformat_minor": 2
}
