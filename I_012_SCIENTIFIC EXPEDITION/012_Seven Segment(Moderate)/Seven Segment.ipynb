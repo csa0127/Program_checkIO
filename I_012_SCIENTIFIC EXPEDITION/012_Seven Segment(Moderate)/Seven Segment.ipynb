{
 "cells": [
  {
   "cell_type": "markdown",
   "metadata": {},
   "source": [
    "Input: Two arguments. The first one contains the lit segments as a set of letters representing segments. The second one contains the broken segments as a set of letters representing segments.\n",
    "\n",
    "Output: The total number that the device may be displaying."
   ]
  },
  {
   "cell_type": "code",
   "execution_count": null,
   "metadata": {},
   "outputs": [],
   "source": []
  },
  {
   "cell_type": "code",
   "execution_count": 178,
   "metadata": {},
   "outputs": [],
   "source": [
    "import itertools\n",
    "SegDef = {1:{'B','C'},\n",
    "          2:{'A','B','G','E','D'},\n",
    "          3:{'A','B','C','G','D'},\n",
    "          4:{'B','C','F','G'},\n",
    "          5:{'A','F','G','C','D'},\n",
    "          6:{'A','F','G','C','D','E'},\n",
    "          7:{'A','B','C'},\n",
    "          8:{'A','B','C','D','E','F','G'},\n",
    "          9:{'A','B','C','D','F','G'},\n",
    "          0:{'A','B','C','D','E','F'}}\n",
    "def get_key(dict_input,value):\n",
    "    return [k for k,v in dict_input.items() if v == value]\n",
    "\n",
    "def single_segment(lit_seg, broken_seg):\n",
    "    lit_data = []\n",
    "    if(get_key(SegDef,lit_seg) != []):\n",
    "        lit_data.append((get_key(SegDef,lit_seg))[0])\n",
    "\n",
    "    for i in range(len(broken_seg)):\n",
    "        temp = list(itertools.combinations(broken_seg,i+1))\n",
    "        for j in range(len(temp)):\n",
    "            if(get_key(SegDef,set(list(lit_seg)+list(temp[j]))) != []):\n",
    "                lit_data.append(get_key(SegDef,set(list(lit_seg)+list(temp[j])))[0])    \n",
    "    return lit_data\n",
    "\n",
    "def seven_segment(lit_seg_t,broken_seg_t):\n",
    "    lit_seg1 = lit_seg_t.intersection(SegDef[8])\n",
    "    lit_seg2 = set(map(lambda x:x.upper(),list(lit_seg_t.difference(SegDef[8]))))\n",
    "    \n",
    "    broken_seg1 = broken_seg_t.intersection(SegDef[8])\n",
    "    broken_seg2 = set(map(lambda x:x.upper(),list(broken_seg_t.difference(SegDef[8]))))\n",
    "    data_seg1 = single_segment(lit_seg1,broken_seg1)\n",
    "    data_seg2 = single_segment(lit_seg2,broken_seg2)\n",
    "    print(data_seg1,data_seg2)\n",
    "    return len(data_seg1)*len(data_seg2)"
   ]
  },
  {
   "cell_type": "code",
   "execution_count": 183,
   "metadata": {},
   "outputs": [],
   "source": [
    "lit = {'A', 'B', 'C', 'D', 'E', 'F', 'a', 'b', 'c', 'd', 'e', 'f'}\n",
    "broken = {'G', 'g'}"
   ]
  },
  {
   "cell_type": "code",
   "execution_count": 184,
   "metadata": {},
   "outputs": [
    {
     "name": "stdout",
     "output_type": "stream",
     "text": [
      "[0, 8] [0, 8]\n"
     ]
    },
    {
     "data": {
      "text/plain": [
       "4"
      ]
     },
     "execution_count": 184,
     "metadata": {},
     "output_type": "execute_result"
    }
   ],
   "source": [
    "seven_segment(lit,broken)"
   ]
  },
  {
   "cell_type": "code",
   "execution_count": null,
   "metadata": {},
   "outputs": [],
   "source": []
  },
  {
   "cell_type": "markdown",
   "metadata": {},
   "source": [
    "### amazing solution from forum"
   ]
  },
  {
   "cell_type": "code",
   "execution_count": 186,
   "metadata": {},
   "outputs": [],
   "source": [
    "DIGITS  = tuple(set(s) for s in ('bc', 'abged', 'abgcd', 'fgbc', 'afgcd', 'afgced', 'abc', 'abcdefg', 'abcdfg', 'abcdef'))\n",
    "\n",
    "def seven_segment1(lit_seg, broken_seg):\n",
    "    first_lit = { c.lower() for c in lit_seg if c.isupper() }\n",
    "    first_broken = { c.lower() for c in broken_seg if c.isupper() }\n",
    "    second_lit = { c for c in lit_seg if c.islower() }\n",
    "    second_broken = { c for c in broken_seg if c.islower() }\n",
    "    \n",
    "    return (sum(first_lit <= d <= (first_lit | first_broken) for d in DIGITS) \n",
    "            * sum(second_lit <= d <= (second_lit | second_broken) for d in DIGITS))"
   ]
  },
  {
   "cell_type": "markdown",
   "metadata": {},
   "source": [
    "### think abcdefg as 0b1111111"
   ]
  },
  {
   "cell_type": "code",
   "execution_count": 194,
   "metadata": {},
   "outputs": [],
   "source": [
    "\n",
    "def seven_segment2(lit_seg, broken_seg):\n",
    "    d = (126, 48, 109, 121, 51, 91, 95, 112, 127, 123) # 0..9\n",
    "    l1 = int(''.join('1' if c in lit_seg else '0' for c in 'ABCDEFG'),2)\n",
    "    l2 = int(''.join('1' if c in lit_seg else '0' for c in 'abcdefg'),2)\n",
    "    b1 = int(''.join('1' if c in broken_seg else '0' for c in 'ABCDEFG'),2)\n",
    "    b2 = int(''.join('1' if c in broken_seg else '0' for c in 'abcdefg'),2)\n",
    "    \n",
    "    return sum(1 for x in d if not l1^x&~b1) * sum(1 for x in d if not l2^x&~b2)"
   ]
  },
  {
   "cell_type": "code",
   "execution_count": null,
   "metadata": {},
   "outputs": [],
   "source": []
  }
 ],
 "metadata": {
  "kernelspec": {
   "display_name": "Python 3",
   "language": "python",
   "name": "python3"
  },
  "language_info": {
   "codemirror_mode": {
    "name": "ipython",
    "version": 3
   },
   "file_extension": ".py",
   "mimetype": "text/x-python",
   "name": "python",
   "nbconvert_exporter": "python",
   "pygments_lexer": "ipython3",
   "version": "3.6.4"
  }
 },
 "nbformat": 4,
 "nbformat_minor": 2
}
