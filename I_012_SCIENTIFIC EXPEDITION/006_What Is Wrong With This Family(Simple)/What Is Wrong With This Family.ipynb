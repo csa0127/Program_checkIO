{
 "cells": [
  {
   "cell_type": "markdown",
   "metadata": {},
   "source": [
    "Input: list of lists. Every element has two strings. List has at least one element\n",
    "\n",
    "Output: bool. Is family tree correct.\n"
   ]
  },
  {
   "cell_type": "markdown",
   "metadata": {},
   "source": [
    "is_family([\n",
    "  ['Logan', 'Mike']\n",
    "]) == True\n",
    "\n",
    "is_family([\n",
    "  ['Logan', 'Mike'],\n",
    "  ['Logan', 'Jack']\n",
    "]) == True\n",
    "\n",
    "is_family([\n",
    "  ['Logan', 'Mike'],\n",
    "  ['Logan', 'Jack'],\n",
    "  ['Mike', 'Alexander']\n",
    "]) == True\n",
    "\n",
    "is_family([\n",
    "  ['Logan', 'Mike'],\n",
    "  ['Logan', 'Jack'],\n",
    "  ['Mike', 'Logan']\n",
    "]) == False  # Can you be a father for your father?\n",
    "\n",
    "is_family([\n",
    "  ['Logan', 'Mike'],\n",
    "  ['Logan', 'Jack'],\n",
    "  ['Mike', 'Jack']\n",
    "]) == False  # Can you be a father for your brother?\n",
    "\n",
    "is_family([\n",
    "  ['Logan', 'William'],\n",
    "  ['Logan', 'Jack'],\n",
    "  ['Mike', 'Alexander']\n",
    "]) == False  # Looks like Mike is stranger in Logan's family"
   ]
  },
  {
   "cell_type": "code",
   "execution_count": 44,
   "metadata": {},
   "outputs": [],
   "source": [
    "def is_family(tree):\n",
    "    family = set(tree[0])\n",
    "    length = len(tree)-1\n",
    "    first_father = tree[0][0]\n",
    "    count = 0\n",
    "    while (length > 0):\n",
    "        count += 1\n",
    "        for father, son in tree[1:]:\n",
    "            if father in family and son not in family:\n",
    "                family.add(son)\n",
    "                length = length - 1\n",
    "        for father, son in tree[1:]:\n",
    "            if son == first_father and father not in family:\n",
    "                family.add(father)\n",
    "                first_father = father\n",
    "                length = length - 1\n",
    "        if(count == (len(tree)+1)):\n",
    "            return False\n",
    "    return True"
   ]
  },
  {
   "cell_type": "code",
   "execution_count": null,
   "metadata": {},
   "outputs": [],
   "source": []
  },
  {
   "cell_type": "code",
   "execution_count": 45,
   "metadata": {},
   "outputs": [],
   "source": [
    "tree = [[\"Logan\",\"William\"],[\"Mike\",\"Alexander\"],[\"William\",\"Alexander\"]]"
   ]
  },
  {
   "cell_type": "code",
   "execution_count": 46,
   "metadata": {},
   "outputs": [
    {
     "data": {
      "text/plain": [
       "False"
      ]
     },
     "execution_count": 46,
     "metadata": {},
     "output_type": "execute_result"
    }
   ],
   "source": [
    "is_family(tree)"
   ]
  },
  {
   "cell_type": "code",
   "execution_count": null,
   "metadata": {},
   "outputs": [],
   "source": []
  },
  {
   "cell_type": "code",
   "execution_count": null,
   "metadata": {},
   "outputs": [],
   "source": []
  },
  {
   "cell_type": "code",
   "execution_count": null,
   "metadata": {},
   "outputs": [],
   "source": []
  }
 ],
 "metadata": {
  "kernelspec": {
   "display_name": "Python 3",
   "language": "python",
   "name": "python3"
  },
  "language_info": {
   "codemirror_mode": {
    "name": "ipython",
    "version": 3
   },
   "file_extension": ".py",
   "mimetype": "text/x-python",
   "name": "python",
   "nbconvert_exporter": "python",
   "pygments_lexer": "ipython3",
   "version": "3.6.4"
  }
 },
 "nbformat": 4,
 "nbformat_minor": 2
}
