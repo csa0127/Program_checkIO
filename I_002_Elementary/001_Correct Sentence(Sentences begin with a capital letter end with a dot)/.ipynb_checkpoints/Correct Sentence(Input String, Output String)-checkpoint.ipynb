{
 "cells": [
  {
   "cell_type": "code",
   "execution_count": 16,
   "metadata": {},
   "outputs": [],
   "source": [
    "def correct_sentence(text: str) -> str:\n",
    "    \"\"\"\n",
    "        returns a corrected sentence which starts with a capital letter\n",
    "        and ends with a dot.\n",
    "    \"\"\"\n",
    "    # your code here\n",
    "    textdef = text[0].upper() + text[1:]\n",
    "    \n",
    "    return textdef+\".\" if textdef[-1] != \".\" else textdef"
   ]
  },
  {
   "cell_type": "code",
   "execution_count": 17,
   "metadata": {},
   "outputs": [
    {
     "data": {
      "text/plain": [
       "'Abcdef.'"
      ]
     },
     "execution_count": 17,
     "metadata": {},
     "output_type": "execute_result"
    }
   ],
   "source": [
    "correct_sentence(\"abcdef\")"
   ]
  },
  {
   "cell_type": "code",
   "execution_count": null,
   "metadata": {},
   "outputs": [],
   "source": []
  }
 ],
 "metadata": {
  "kernelspec": {
   "display_name": "Python 3",
   "language": "python",
   "name": "python3"
  },
  "language_info": {
   "codemirror_mode": {
    "name": "ipython",
    "version": 3
   },
   "file_extension": ".py",
   "mimetype": "text/x-python",
   "name": "python",
   "nbconvert_exporter": "python",
   "pygments_lexer": "ipython3",
   "version": "3.6.4"
  }
 },
 "nbformat": 4,
 "nbformat_minor": 2
}
