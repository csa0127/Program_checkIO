{
 "cells": [
  {
   "cell_type": "code",
   "execution_count": 38,
   "metadata": {},
   "outputs": [],
   "source": [
    "time =\"09.05.1945 06:30\""
   ]
  },
  {
   "cell_type": "code",
   "execution_count": 46,
   "metadata": {},
   "outputs": [
    {
     "data": {
      "text/plain": [
       "datetime.datetime(1945, 5, 9, 6, 30)"
      ]
     },
     "execution_count": 46,
     "metadata": {},
     "output_type": "execute_result"
    }
   ],
   "source": [
    "time_for = datetime.strptime(time,\"%d.%m.%Y %H:%M\")\n",
    "time_for"
   ]
  },
  {
   "cell_type": "markdown",
   "metadata": {},
   "source": [
    "# solution 1"
   ]
  },
  {
   "cell_type": "code",
   "execution_count": 41,
   "metadata": {},
   "outputs": [],
   "source": [
    "import calendar\n",
    "def date_time(time):\n",
    "    t = datetime.strptime(time,\"%d.%m.%Y %H:%M\")\n",
    "    str_hour = 'hours' if t.hour != 1 else 'hour'\n",
    "    str_minute = 'minutes' if t.minute != 1 else 'minute'\n",
    "    return \"{day} {month} {year} year {hour} {hour_unit} {minute} {minute_unit}\". \\\n",
    "        format(day=t.day,month=calendar.month_name[t.month],year=t.year,hour=t.hour,hour_unit=str_hour,minute=t.minute,minute_unit=str_minute)"
   ]
  },
  {
   "cell_type": "code",
   "execution_count": 42,
   "metadata": {},
   "outputs": [
    {
     "data": {
      "text/plain": [
       "'9 May 1945 year 6 hours 30 minutes'"
      ]
     },
     "execution_count": 42,
     "metadata": {},
     "output_type": "execute_result"
    }
   ],
   "source": [
    "date_time(time)"
   ]
  },
  {
   "cell_type": "code",
   "execution_count": null,
   "metadata": {},
   "outputs": [],
   "source": []
  }
 ],
 "metadata": {
  "kernelspec": {
   "display_name": "Python 3",
   "language": "python",
   "name": "python3"
  },
  "language_info": {
   "codemirror_mode": {
    "name": "ipython",
    "version": 3
   },
   "file_extension": ".py",
   "mimetype": "text/x-python",
   "name": "python",
   "nbconvert_exporter": "python",
   "pygments_lexer": "ipython3",
   "version": "3.6.4"
  }
 },
 "nbformat": 4,
 "nbformat_minor": 2
}
