{
 "cells": [
  {
   "cell_type": "code",
   "execution_count": 37,
   "metadata": {},
   "outputs": [],
   "source": [
    "dict1 = {\"name\": {\n",
    "                        \"first\": \"One\",\n",
    "                        \"last\": \"Drone\"},\n",
    "                    \"job\": \"scout\",\n",
    "                    \"recent\": {},\n",
    "                    \"additional\": {\n",
    "                        \"place\": {\n",
    "                            \"zone\": \"1\",\n",
    "                            \"cell\": \"2\"}}}"
   ]
  },
  {
   "cell_type": "code",
   "execution_count": null,
   "metadata": {},
   "outputs": [],
   "source": []
  },
  {
   "cell_type": "code",
   "execution_count": 55,
   "metadata": {},
   "outputs": [],
   "source": [
    "from collections import deque\n",
    "def flatten(dictionary):\n",
    "    que = deque([('','',dictionary)]) #index, key, value\n",
    "    index_now = ''\n",
    "    new_dict = {}\n",
    "    while que:\n",
    "        data1 = que.popleft()\n",
    "        if(isinstance(data1[2],dict) == False): new_dict.update({data1[0]:data1[2]})\n",
    "        else:\n",
    "            if(data1[2] == {}): new_dict.update({data1[0]:''})\n",
    "            else:\n",
    "                for keys,values in data1[2].items():\n",
    "                    index_now = data1[0]\n",
    "                    if(isinstance(values,dict) and values): index_now += (keys+'/')\n",
    "                    else:                                   index_now += (keys)\n",
    "                    que.append((index_now,keys,values))    \n",
    "    return new_dict"
   ]
  },
  {
   "cell_type": "code",
   "execution_count": 54,
   "metadata": {},
   "outputs": [
    {
     "data": {
      "text/plain": [
       "{'additional/place/cell': '2',\n",
       " 'additional/place/zone': '1',\n",
       " 'job': 'scout',\n",
       " 'name/first': 'One',\n",
       " 'name/last': 'Drone',\n",
       " 'recent': {}}"
      ]
     },
     "execution_count": 54,
     "metadata": {},
     "output_type": "execute_result"
    }
   ],
   "source": [
    "flatten(dict1)"
   ]
  },
  {
   "cell_type": "code",
   "execution_count": null,
   "metadata": {},
   "outputs": [],
   "source": []
  }
 ],
 "metadata": {
  "kernelspec": {
   "display_name": "Python 3",
   "language": "python",
   "name": "python3"
  },
  "language_info": {
   "codemirror_mode": {
    "name": "ipython",
    "version": 3
   },
   "file_extension": ".py",
   "mimetype": "text/x-python",
   "name": "python",
   "nbconvert_exporter": "python",
   "pygments_lexer": "ipython3",
   "version": "3.6.4"
  }
 },
 "nbformat": 4,
 "nbformat_minor": 2
}
