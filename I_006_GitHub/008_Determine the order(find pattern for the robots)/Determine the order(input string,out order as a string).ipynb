{
 "cells": [
  {
   "cell_type": "code",
   "execution_count": 70,
   "metadata": {},
   "outputs": [],
   "source": [
    "list1 = [\"aazzss\"]"
   ]
  },
  {
   "cell_type": "code",
   "execution_count": null,
   "metadata": {},
   "outputs": [],
   "source": []
  },
  {
   "cell_type": "code",
   "execution_count": 71,
   "metadata": {},
   "outputs": [],
   "source": [
    "def checkio(data):\n",
    "    letters = sorted(set(\"\".join(data)))\n",
    "    result = ''\n",
    "    count = 0\n",
    "    while(letters):\n",
    "        for letter in letters:\n",
    "            for str1 in data:\n",
    "                if letter in str1: count += str1.index(letter)\n",
    "            if count == 0:\n",
    "                result += letter\n",
    "                list2 = []\n",
    "                for str2 in data:\n",
    "                    list2.append(str2.replace(letter,''))\n",
    "                    data = list2\n",
    "                letters.remove(letter)\n",
    "                break;\n",
    "            count = 0\n",
    "    return(result)"
   ]
  },
  {
   "cell_type": "code",
   "execution_count": 72,
   "metadata": {},
   "outputs": [
    {
     "data": {
      "text/plain": [
       "'azs'"
      ]
     },
     "execution_count": 72,
     "metadata": {},
     "output_type": "execute_result"
    }
   ],
   "source": [
    "checkio(list1)"
   ]
  },
  {
   "cell_type": "code",
   "execution_count": null,
   "metadata": {},
   "outputs": [],
   "source": []
  }
 ],
 "metadata": {
  "kernelspec": {
   "display_name": "Python 3",
   "language": "python",
   "name": "python3"
  },
  "language_info": {
   "codemirror_mode": {
    "name": "ipython",
    "version": 3
   },
   "file_extension": ".py",
   "mimetype": "text/x-python",
   "name": "python",
   "nbconvert_exporter": "python",
   "pygments_lexer": "ipython3",
   "version": "3.6.4"
  }
 },
 "nbformat": 4,
 "nbformat_minor": 2
}
