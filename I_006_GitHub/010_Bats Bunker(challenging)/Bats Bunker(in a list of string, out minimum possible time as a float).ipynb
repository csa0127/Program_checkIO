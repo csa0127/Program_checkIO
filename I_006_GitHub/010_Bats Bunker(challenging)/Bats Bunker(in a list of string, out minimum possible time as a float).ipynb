{
 "cells": [
  {
   "cell_type": "code",
   "execution_count": 55,
   "metadata": {},
   "outputs": [],
   "source": [
    "list1 = [\n",
    "    \"B---B-\",\n",
    "    \"-WWW-B\",\n",
    "    \"-WA--B\",\n",
    "    \"-W-B--\",\n",
    "    \"-WWW-B\",\n",
    "    \"B-BWB-\"]"
   ]
  },
  {
   "cell_type": "code",
   "execution_count": null,
   "metadata": {},
   "outputs": [],
   "source": []
  },
  {
   "cell_type": "code",
   "execution_count": 102,
   "metadata": {},
   "outputs": [],
   "source": [
    "import itertools\n",
    "import heapq\n",
    "\n",
    "def range_float(start,stop,step):\n",
    "    while start < stop:\n",
    "        yield start\n",
    "        start += step\n",
    "def get_cells_on_line(a,b):\n",
    "    (x1,y1),(x2,y2) = a,b\n",
    "    result = set()\n",
    "    delta = max(abs(x1-x2),abs(y1-y2))\n",
    "    for i in range_float(0.5,delta,0.5):\n",
    "        xs = x1 + (x2-x1)*i/delta\n",
    "        ys = y1 + (y2-y1)*i/delta\n",
    "        xtemp = xs % 1\n",
    "        ytemp = ys % 1\n",
    "        if(xtemp > 0.49  and xtemp < 0.51):\n",
    "            x = [int(xs),int(xs)+1]\n",
    "        else:\n",
    "            x = [round(xs)]\n",
    "        if(ytemp > 0.49  and ytemp < 0.51):\n",
    "            y = [int(ys),int(ys)+1]\n",
    "        else:\n",
    "            y = [round(ys)]\n",
    "        result |= set(itertools.product(x,y))\n",
    "    return result - {a,b}\n",
    "\n",
    "    \n",
    "def get_length(a,b):\n",
    "    return ((a[0] - b[0])**2 + (a[1] - b[1])**2)**0.5\n",
    "    \n",
    "def checkio(bunker):\n",
    "    def is_connectable(a,b):\n",
    "        set1 = get_cells_on_line(a,b)\n",
    "        for i in set1:\n",
    "            if(map_data[i] == 'W'):\n",
    "                return False\n",
    "        return True\n",
    "    count = 0\n",
    "    map_data = {(x,y):c for y,line in enumerate(list1) for x,c in enumerate(line)}\n",
    "    bats = {k for k,v in map_data.items() if v in 'AB' }\n",
    "    heap = [(0,(0,0),{(0,0)})]  \n",
    "    while heap:\n",
    "        length, pos, visited = heapq.heappop(heap)\n",
    "        if(map_data[pos] == 'A'):\n",
    "            return round(length,2)\n",
    "        for bat in (bats - visited):\n",
    "            if(is_connectable(pos,bat)):\n",
    "                new_length = length + get_length(bat,pos)\n",
    "                heapq.heappush(heap,(new_length,bat,visited|{bat}))"
   ]
  },
  {
   "cell_type": "code",
   "execution_count": 103,
   "metadata": {},
   "outputs": [
    {
     "data": {
      "text/plain": [
       "9.24"
      ]
     },
     "execution_count": 103,
     "metadata": {},
     "output_type": "execute_result"
    }
   ],
   "source": [
    "checkio(list1)"
   ]
  },
  {
   "cell_type": "code",
   "execution_count": null,
   "metadata": {},
   "outputs": [],
   "source": []
  }
 ],
 "metadata": {
  "kernelspec": {
   "display_name": "Python 3",
   "language": "python",
   "name": "python3"
  },
  "language_info": {
   "codemirror_mode": {
    "name": "ipython",
    "version": 3
   },
   "file_extension": ".py",
   "mimetype": "text/x-python",
   "name": "python",
   "nbconvert_exporter": "python",
   "pygments_lexer": "ipython3",
   "version": "3.6.4"
  }
 },
 "nbformat": 4,
 "nbformat_minor": 2
}
