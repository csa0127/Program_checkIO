{
 "cells": [
  {
   "cell_type": "code",
   "execution_count": 100,
   "metadata": {},
   "outputs": [],
   "source": [
    "ori =   [[1, 2, 3],\n",
    "         [4, 6, 8],\n",
    "         [7, 5, 0]]"
   ]
  },
  {
   "cell_type": "code",
   "execution_count": 119,
   "metadata": {},
   "outputs": [],
   "source": [
    "from collections import deque\n",
    "Move = {'U':(0,-1),'D':(0,1),'L':(-1,0),'R':(1,0)}\n",
    "def getNext(number):\n",
    "    oldIndex = number.index(0)\n",
    "    oldx,oldy = oldIndex%3, oldIndex//3\n",
    "    for m in 'UDLR':\n",
    "        newx,newy = oldx + Move[m][0], oldy+Move[m][1]\n",
    "        if(newx < 3 and newx >=0 and newy<3 and newy >=0):\n",
    "            newIndex = newx + newy*3\n",
    "            oldNum = list(number)\n",
    "            oldNum[oldIndex] = oldNum[newIndex]\n",
    "            oldNum[newIndex] = 0\n",
    "            yield tuple(oldNum),m\n",
    "def checkio(data):\n",
    "    oriData = tuple(n for line in data for n in line)\n",
    "    desData = (1,2,3,4,5,6,7,8,0)\n",
    "    que = deque([(oriData,'')])\n",
    "    exist = set()\n",
    "    while(que):\n",
    "        oldData = que.popleft()\n",
    "        exist.add(oldData[0])\n",
    "        if(oldData[0] == desData):\n",
    "            return oldData[1]\n",
    "        for newData,newRoute in getNext(oldData[0]):\n",
    "            if(newData not in exist):\n",
    "                que.append((newData,oldData[1]+newRoute))"
   ]
  },
  {
   "cell_type": "code",
   "execution_count": 120,
   "metadata": {},
   "outputs": [
    {
     "data": {
      "text/plain": [
       "'ULDR'"
      ]
     },
     "execution_count": 120,
     "metadata": {},
     "output_type": "execute_result"
    }
   ],
   "source": [
    "checkio(ori)"
   ]
  },
  {
   "cell_type": "code",
   "execution_count": null,
   "metadata": {},
   "outputs": [],
   "source": []
  }
 ],
 "metadata": {
  "kernelspec": {
   "display_name": "Python 3",
   "language": "python",
   "name": "python3"
  },
  "language_info": {
   "codemirror_mode": {
    "name": "ipython",
    "version": 3
   },
   "file_extension": ".py",
   "mimetype": "text/x-python",
   "name": "python",
   "nbconvert_exporter": "python",
   "pygments_lexer": "ipython3",
   "version": "3.6.4"
  }
 },
 "nbformat": 4,
 "nbformat_minor": 2
}
