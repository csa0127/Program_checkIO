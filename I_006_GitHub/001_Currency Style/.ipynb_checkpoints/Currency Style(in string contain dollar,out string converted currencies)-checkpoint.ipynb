{
 "cells": [
  {
   "cell_type": "code",
   "execution_count": 323,
   "metadata": {},
   "outputs": [],
   "source": [
    "text = '$1.234, $5.678 and $9'\n",
    "text1 = \"$1.234.567,89\"\n",
    "text2 = \"$0,89\"\n",
    "text3 = \"Euro Style = $12.345,67, US Style = $12,345.67\"\n",
    "text4 = \"Us Style = $12,345.67, Euro Style = $12.345,67\"\n",
    "text5 = \"$5.34\"\n",
    "text6 = \"$222,100,455\""
   ]
  },
  {
   "cell_type": "code",
   "execution_count": 302,
   "metadata": {},
   "outputs": [],
   "source": [
    "p = re.compile(r'(\\$\\d*(?:\\.\\d*)*(?:,?\\d*)?)(?!\\d)')"
   ]
  },
  {
   "cell_type": "markdown",
   "metadata": {},
   "source": []
  },
  {
   "cell_type": "code",
   "execution_count": 347,
   "metadata": {},
   "outputs": [],
   "source": [
    "import re\n",
    "def checkio(text):\n",
    "    if \"$\" not in text:\n",
    "        return text\n",
    "    sub1 = text\n",
    "    sub1 = re.sub(r'\\,(\\d{2})',r'.\\1',sub1)  #r'\\1' 表示引用之前的第一个括号分组\n",
    "    sub1 = re.sub(r'\\.(\\d{3})',r',\\1',sub1)\n",
    "    return sub1"
   ]
  },
  {
   "cell_type": "code",
   "execution_count": 358,
   "metadata": {},
   "outputs": [
    {
     "data": {
      "text/plain": [
       "'Euro Style = $12,345.67, US Style = $12,345.67'"
      ]
     },
     "execution_count": 358,
     "metadata": {},
     "output_type": "execute_result"
    }
   ],
   "source": [
    "checkio2(text3)"
   ]
  },
  {
   "cell_type": "code",
   "execution_count": 357,
   "metadata": {},
   "outputs": [],
   "source": [
    "import re\n",
    "def checkio2(text):\n",
    "    words = text.split(' ')\n",
    "    result = []\n",
    "    for word in words:\n",
    "        if word.startswith('$'):\n",
    "            word = re.sub(r'\\,(\\d{2})',r'.\\1',word)\n",
    "            word = re.sub(r'\\.(\\d{3})',r',\\1',word)\n",
    "            result.append(word)\n",
    "        else:\n",
    "            result.append(word)\n",
    "    return ' '.join(result)"
   ]
  },
  {
   "cell_type": "code",
   "execution_count": null,
   "metadata": {},
   "outputs": [],
   "source": []
  }
 ],
 "metadata": {
  "kernelspec": {
   "display_name": "Python 3",
   "language": "python",
   "name": "python3"
  },
  "language_info": {
   "codemirror_mode": {
    "name": "ipython",
    "version": 3
   },
   "file_extension": ".py",
   "mimetype": "text/x-python",
   "name": "python",
   "nbconvert_exporter": "python",
   "pygments_lexer": "ipython3",
   "version": "3.6.4"
  }
 },
 "nbformat": 4,
 "nbformat_minor": 2
}
