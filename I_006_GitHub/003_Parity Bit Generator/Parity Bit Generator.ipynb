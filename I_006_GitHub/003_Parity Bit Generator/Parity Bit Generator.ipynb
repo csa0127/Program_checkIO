{
 "cells": [
  {
   "cell_type": "code",
   "execution_count": 24,
   "metadata": {},
   "outputs": [],
   "source": [
    "list1 = [144, 100, 200, 202,\n",
    "                    216, 152, 164, 88,\n",
    "                    216, 222, 65, 218,\n",
    "                    175, 217, 248, 222,\n",
    "                    171, 228, 216, 205,\n",
    "                    254, 201, 193, 220]"
   ]
  },
  {
   "cell_type": "code",
   "execution_count": 27,
   "metadata": {},
   "outputs": [],
   "source": [
    "def checkio(message):\n",
    "    strOut = ''\n",
    "    for L in list1:\n",
    "        str1 = bin(L)\n",
    "        if((str1[0:-1].count('1') % 2) ^ (int(str1[-1])) == 0): strOut += chr(int(str1[0:-1],2))\n",
    "    return strOut"
   ]
  },
  {
   "cell_type": "code",
   "execution_count": 28,
   "metadata": {},
   "outputs": [
    {
     "data": {
      "text/plain": [
       "'Hello World'"
      ]
     },
     "execution_count": 28,
     "metadata": {},
     "output_type": "execute_result"
    }
   ],
   "source": [
    "checkio(list1)"
   ]
  },
  {
   "cell_type": "code",
   "execution_count": null,
   "metadata": {},
   "outputs": [],
   "source": []
  }
 ],
 "metadata": {
  "kernelspec": {
   "display_name": "Python 3",
   "language": "python",
   "name": "python3"
  },
  "language_info": {
   "codemirror_mode": {
    "name": "ipython",
    "version": 3
   },
   "file_extension": ".py",
   "mimetype": "text/x-python",
   "name": "python",
   "nbconvert_exporter": "python",
   "pygments_lexer": "ipython3",
   "version": "3.6.4"
  }
 },
 "nbformat": 4,
 "nbformat_minor": 2
}
