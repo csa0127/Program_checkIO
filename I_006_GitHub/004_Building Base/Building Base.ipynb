{
 "cells": [
  {
   "cell_type": "code",
   "execution_count": 41,
   "metadata": {},
   "outputs": [],
   "source": [
    "class Building:\n",
    "    def __init__(self, south, west, width_WE, width_NS, height=10):\n",
    "        self.south = south\n",
    "        self.west = west\n",
    "        self.width_WE = width_WE\n",
    "        self.width_NS = width_NS\n",
    "        self.height = height\n",
    "\n",
    "    def corners(self):\n",
    "        dict1 = dict()\n",
    "        dict1['north-west'] = [self.south+self.width_NS,self.west]\n",
    "        dict1['north-east'] = [self.south+self.width_NS,self.west+self.width_WE]\n",
    "        dict1['south-west'] = [self.south,self.west]\n",
    "        dict1['south-east'] = [self.south,self.west+self.width_WE]\n",
    "        return dict1\n",
    "\n",
    "    def area(self):\n",
    "        return (self.width_WE * self.width_NS)\n",
    "\n",
    "    def volume(self):\n",
    "        return (self.area() * self.height)\n",
    "\n",
    "    def __repr__(self):\n",
    "        return \"Building({0}, {1}, {2}, {3}, {4})\".format(self.south,self.west,self.width_WE,self.width_NS,self.height)"
   ]
  }
 ],
 "metadata": {
  "kernelspec": {
   "display_name": "Python 3",
   "language": "python",
   "name": "python3"
  },
  "language_info": {
   "codemirror_mode": {
    "name": "ipython",
    "version": 3
   },
   "file_extension": ".py",
   "mimetype": "text/x-python",
   "name": "python",
   "nbconvert_exporter": "python",
   "pygments_lexer": "ipython3",
   "version": "3.6.4"
  }
 },
 "nbformat": 4,
 "nbformat_minor": 2
}
