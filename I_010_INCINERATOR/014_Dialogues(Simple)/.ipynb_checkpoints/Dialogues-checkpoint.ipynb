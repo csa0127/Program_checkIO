{
 "cells": [
  {
   "cell_type": "code",
   "execution_count": 112,
   "metadata": {},
   "outputs": [],
   "source": [
    "VOWELS = \"aeiou\"\n",
    "import re\n",
    "class Chat:\n",
    "    def __init__(self):\n",
    "        self.human_name = \"\"\n",
    "        self.robot_name = \"\"\n",
    "    \n",
    "    def connect_human(self,name):\n",
    "        self.human_name = name\n",
    "        \n",
    "    def connect_robot(self,name):\n",
    "        self.robot_name = name\n",
    "        \n",
    "    def show_human_dialogue(self):\n",
    "        string_out = \"\"\n",
    "        for i in range(len(self.human_name.message)):\n",
    "            string_out += str(self.human_name) + \" said: \" + self.human_name.message[i] + \"\\n\" +str(self.robot_name) + \" said: \" + self.robot_name.message[i]\n",
    "            if i != len(self.human_name.message)-1: string_out += \"\\n\"\n",
    "        return string_out\n",
    "        \n",
    "    def show_robot_dialogue(self):\n",
    "        string_out = \"\"\n",
    "        for i in range(len(self.human_name.message)):\n",
    "            string_out += str(self.human_name) + \" said: \" + re.sub(r\"[^aeiou0]\",\"1\",re.sub(r\"[aeiou]\",\"0\",self.human_name.message[i])) + \"\\n\" + str(self.robot_name) + \" said: \" + re.sub(r\"[^aeiou0]\",\"1\",re.sub(r\"[aeiou]\",\"0\",self.robot_name.message[i]))\n",
    "        return (string_out)\n",
    "\n",
    "class Human:\n",
    "    def __init__(self,name):\n",
    "        self.name = name\n",
    "        self.message = []\n",
    "    def send(self,message):\n",
    "        self.message += [message]\n",
    "    def __str__(self):\n",
    "        return(self.name)\n",
    "                \n",
    "class Robot:\n",
    "    def __init__(self,name):\n",
    "        self.name = name\n",
    "        self.message = []\n",
    "    def send(self,message):\n",
    "        self.message += [message]\n",
    "    def __str__(self):\n",
    "        return(self.name)\n",
    "    "
   ]
  },
  {
   "cell_type": "code",
   "execution_count": 113,
   "metadata": {},
   "outputs": [
    {
     "data": {
      "text/plain": [
       "\"Karl said: Hi! What's new?\\nR2D2 said: Hello, human. Could we speak later about it?\""
      ]
     },
     "execution_count": 113,
     "metadata": {},
     "output_type": "execute_result"
    }
   ],
   "source": [
    "chat = Chat()\n",
    "karl = Human(\"Karl\")\n",
    "bot = Robot(\"R2D2\")\n",
    "chat.connect_human(karl)\n",
    "chat.connect_robot(bot)\n",
    "karl.send(\"Hi! What's new?\")\n",
    "bot.send(\"Hello, human. Could we speak later about it?\")\n",
    "chat.show_human_dialogue()\n"
   ]
  },
  {
   "cell_type": "code",
   "execution_count": 114,
   "metadata": {},
   "outputs": [
    {
     "data": {
      "text/plain": [
       "'Karl said: 101111011111011\\nR2D2 said: 10110111010111100111101110011101011010011011'"
      ]
     },
     "execution_count": 114,
     "metadata": {},
     "output_type": "execute_result"
    }
   ],
   "source": [
    "chat.show_robot_dialogue()"
   ]
  },
  {
   "cell_type": "code",
   "execution_count": 65,
   "metadata": {},
   "outputs": [
    {
     "data": {
      "text/plain": [
       "'abc\\ncde'"
      ]
     },
     "execution_count": 65,
     "metadata": {},
     "output_type": "execute_result"
    }
   ],
   "source": [
    "\"abc\\ncde\""
   ]
  },
  {
   "cell_type": "code",
   "execution_count": 115,
   "metadata": {},
   "outputs": [
    {
     "data": {
      "text/plain": [
       "\"Bob said: Hi, Ann! Is your part of work done?\\nAnn-1244c said: Hi, Bob. Sorry, I need a few more hours. Could you wait, please?\\nBob said: Ok. But hurry up, please. It's important.\\nAnn-1244c said: Sure, thanks.\""
      ]
     },
     "execution_count": 115,
     "metadata": {},
     "output_type": "execute_result"
    }
   ],
   "source": [
    "chat = Chat()\n",
    "bob = Human('Bob')\n",
    "ann = Robot('Ann-1244c')\n",
    "chat.connect_human(bob)\n",
    "chat.connect_robot(ann)\n",
    "bob.send(\"Hi, Ann! Is your part of work done?\")\n",
    "ann.send(\"Hi, Bob. Sorry, I need a few more hours. Could you wait, please?\")\n",
    "bob.send(\"Ok. But hurry up, please. It's important.\")\n",
    "ann.send(\"Sure, thanks.\")\n",
    "\n",
    "chat.show_human_dialogue()"
   ]
  },
  {
   "cell_type": "code",
   "execution_count": 116,
   "metadata": {},
   "outputs": [
    {
     "data": {
      "text/plain": [
       "'Bob said: 10111111111110011101110111011110101\\nAnn-1244c said: 1011101111011111111001101101110101100111110011110011001111100101Bob said: 11111011101111011111001011111110110110111\\nAnn-1244c said: 1010111101111'"
      ]
     },
     "execution_count": 116,
     "metadata": {},
     "output_type": "execute_result"
    }
   ],
   "source": [
    "chat.show_robot_dialogue()"
   ]
  },
  {
   "cell_type": "code",
   "execution_count": null,
   "metadata": {},
   "outputs": [],
   "source": []
  }
 ],
 "metadata": {
  "kernelspec": {
   "display_name": "Python 3",
   "language": "python",
   "name": "python3"
  },
  "language_info": {
   "codemirror_mode": {
    "name": "ipython",
    "version": 3
   },
   "file_extension": ".py",
   "mimetype": "text/x-python",
   "name": "python",
   "nbconvert_exporter": "python",
   "pygments_lexer": "ipython3",
   "version": "3.6.4"
  }
 },
 "nbformat": 4,
 "nbformat_minor": 2
}
