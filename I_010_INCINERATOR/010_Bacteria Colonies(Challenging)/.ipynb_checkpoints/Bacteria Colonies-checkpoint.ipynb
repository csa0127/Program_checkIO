{
 "cells": [
  {
   "cell_type": "code",
   "execution_count": 22,
   "metadata": {},
   "outputs": [],
   "source": [
    "heal1 = ((0,0,1,0,0),(0,1,1,1,0),(0,0,1,0,0),(0,0,1,0,0),(0,0,1,0,0))"
   ]
  },
  {
   "cell_type": "code",
   "execution_count": 27,
   "metadata": {},
   "outputs": [],
   "source": [
    "from itertools import product\n",
    "def check_point(coordinate,heal):\n",
    "    init = 1\n",
    "    check = lambda i:[heal[coordinate[0]+dx][coordinate[1]+dy]\n",
    "                    for dx, dy in product(range(-i, i+1), repeat= 2)\n",
    "                    if 0 <= coordinate[0]+dx <len(heal) and 0 <= coordinate[1]+dy < len(heal[0])\n",
    "                    if i-1 < abs(dx)+abs(dy)<=i]\n",
    "    while (all(check(init))):\n",
    "        init+= 1\n",
    "    if(heal[coordinate[0]][coordinate[1]] == 0): init = 0\n",
    "    return init if not any(check(init)) else 0\n",
    "def healthy(heal):\n",
    "    list1 = []\n",
    "    for x in range(len(heal)):\n",
    "        for y in range(len(heal[0])):\n",
    "            list1 += [[check_point((x,y),heal),[x,y]]]\n",
    "    list1.sort()\n",
    "    return list1[-1][1] if list1[-1][0] != 0 else [0,0]"
   ]
  },
  {
   "cell_type": "code",
   "execution_count": 28,
   "metadata": {},
   "outputs": [
    {
     "data": {
      "text/plain": [
       "[0, 0]"
      ]
     },
     "execution_count": 28,
     "metadata": {},
     "output_type": "execute_result"
    }
   ],
   "source": [
    "healthy(heal1)"
   ]
  },
  {
   "cell_type": "code",
   "execution_count": null,
   "metadata": {},
   "outputs": [],
   "source": [
    "\n",
    "    "
   ]
  }
 ],
 "metadata": {
  "kernelspec": {
   "display_name": "Python 3",
   "language": "python",
   "name": "python3"
  },
  "language_info": {
   "codemirror_mode": {
    "name": "ipython",
    "version": 3
   },
   "file_extension": ".py",
   "mimetype": "text/x-python",
   "name": "python",
   "nbconvert_exporter": "python",
   "pygments_lexer": "ipython3",
   "version": "3.6.4"
  }
 },
 "nbformat": 4,
 "nbformat_minor": 2
}
