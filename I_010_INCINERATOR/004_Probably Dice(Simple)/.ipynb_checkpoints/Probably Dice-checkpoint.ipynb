{
 "cells": [
  {
   "cell_type": "markdown",
   "metadata": {},
   "source": [
    "## solution from github"
   ]
  },
  {
   "cell_type": "code",
   "execution_count": 41,
   "metadata": {},
   "outputs": [],
   "source": [
    "def generating(coef, power):\n",
    "    if power == 0:\n",
    "        return [1]\n",
    "    elif power % 2 == 0:\n",
    "        tmp = generating(coef, power / 2)\n",
    "        ans = [0] * (2 * len(tmp) - 1)\n",
    "        for i1, v1 in enumerate(tmp):\n",
    "            for i2, v2 in enumerate(tmp):\n",
    "                ans[i1 + i2] += v1 * v2\n",
    "        return ans\n",
    "    else:\n",
    "        tmp = generating(coef, power - 1)\n",
    "        ans = [0] * (len(tmp) + len(coef) - 1)\n",
    "        for i1, v1 in enumerate(tmp):\n",
    "            for i2, v2 in enumerate(coef):\n",
    "                ans[i1 + i2] += v1 * v2\n",
    "        return ans\n",
    "\n",
    "def probability(dice_number, sides, target):\n",
    "    # generating function: https://en.wikipedia.org/wiki/Generating_function\n",
    "    # the answer will be the coefficient of x^target in (x + x^2 + x^3 + ... + x^side) ^ dice_number\n",
    "    try:\n",
    "        result = float(generating([0] + [1] * sides, dice_number)[target])\n",
    "        return round(result / (sides ** dice_number), 4)\n",
    "    except IndexError:\n",
    "        return 0."
   ]
  },
  {
   "cell_type": "code",
   "execution_count": 42,
   "metadata": {},
   "outputs": [
    {
     "data": {
      "text/plain": [
       "0.0375"
      ]
     },
     "execution_count": 42,
     "metadata": {},
     "output_type": "execute_result"
    }
   ],
   "source": [
    "probability(10,10,50)"
   ]
  },
  {
   "cell_type": "code",
   "execution_count": 1,
   "metadata": {},
   "outputs": [],
   "source": [
    "def getValue(number,sides,aim):\n",
    "    if(number < 1 or aim < number or aim > number*sides): return 0\n",
    "    if(number == 1): return 1\n",
    "    summary = 0\n",
    "    for i in range(sides):\n",
    "        summary += getValue(number-1,sides,aim-i-1)\n",
    "    return summary\n",
    "def probability(number, sides, aim):\n",
    "    return round(getValue(number,sides,aim) / (sides**number),4)"
   ]
  },
  {
   "cell_type": "code",
   "execution_count": 43,
   "metadata": {},
   "outputs": [
    {
     "data": {
      "text/plain": [
       "0.0556"
      ]
     },
     "execution_count": 43,
     "metadata": {},
     "output_type": "execute_result"
    }
   ],
   "source": [
    "probability(2,6,3)"
   ]
  },
  {
   "cell_type": "code",
   "execution_count": null,
   "metadata": {},
   "outputs": [],
   "source": []
  },
  {
   "cell_type": "code",
   "execution_count": null,
   "metadata": {},
   "outputs": [],
   "source": []
  }
 ],
 "metadata": {
  "kernelspec": {
   "display_name": "Python 3",
   "language": "python",
   "name": "python3"
  },
  "language_info": {
   "codemirror_mode": {
    "name": "ipython",
    "version": 3
   },
   "file_extension": ".py",
   "mimetype": "text/x-python",
   "name": "python",
   "nbconvert_exporter": "python",
   "pygments_lexer": "ipython3",
   "version": "3.6.4"
  }
 },
 "nbformat": 4,
 "nbformat_minor": 2
}
