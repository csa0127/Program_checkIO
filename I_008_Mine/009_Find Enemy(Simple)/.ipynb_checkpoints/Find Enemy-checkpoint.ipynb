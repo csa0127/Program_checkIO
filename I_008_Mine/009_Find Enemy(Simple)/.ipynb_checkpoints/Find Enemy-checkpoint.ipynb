{
 "cells": [
  {
   "cell_type": "markdown",
   "metadata": {},
   "source": [
    "# Example for using deque.(This is from 008_Mine-Pearls in the Box)"
   ]
  },
  {
   "cell_type": "code",
   "execution_count": 1,
   "metadata": {},
   "outputs": [],
   "source": [
    "from collections import deque\n",
    "def calc(text):\n",
    "    length = len(text)\n",
    "    num_b = text.count('b') #black\n",
    "    num_w = text.count('w') #white\n",
    "    yield text.replace(\"w\",\"b\",1),num_w/length    #take white,white to black\n",
    "    yield text.replace(\"b\",\"w\",1),num_b/length    #take black,black to white\n",
    "def result_w(text):\n",
    "    return text.count('w') / len(text)\n",
    "def checkio(marbles: str, step: int):\n",
    "    que = deque([(marbles,1)])\n",
    "    step_temp = 2**(step-1) - 1\n",
    "    result = 0\n",
    "    while(step_temp > 0):\n",
    "        oldData = que.popleft()\n",
    "        for newData,newPercent in calc(oldData[0]):\n",
    "            que.append((newData,oldData[1]*newPercent))\n",
    "        step_temp -= 1\n",
    "    while(que):\n",
    "        result_data = que.popleft()\n",
    "        result += result_w(result_data[0])*result_data[1]\n",
    "    return round(result,2)"
   ]
  },
  {
   "cell_type": "markdown",
   "metadata": {},
   "source": [
    "# Solution for this topic"
   ]
  },
  {
   "cell_type": "code",
   "execution_count": 164,
   "metadata": {},
   "outputs": [],
   "source": [
    "from collections import deque\n",
    "actNS = ['N', 'S','NE', 'SE', 'SW', 'NW']\n",
    "actNESW = ['NE', 'SW', 'SE', 'S','NW', 'N']\n",
    "actSENW = ['SE', 'NW', 'SW', 'S','NE', 'N']\n",
    "act_dict = {'N':actNS,'S':actNS,'NE':actNESW,'SW':actNESW,'SE':actSENW,'NW':actSENW}\n",
    "act_char = {'N': 0, 'NE': 1, 'SE':1, 'S': 0, 'SW': -1, 'NW':-1}\n",
    "act_num_odd = {'N': -1, 'NE': -1, 'SE':0, 'S':1, 'SW': 0, 'NW':-1}\n",
    "act_num_even = {'N': -1, 'NE': 0, 'SE':1, 'S':1, 'SW': 1, 'NW':0}\n",
    "num_direction = {'N':36,'NE':6, 'SE':12, 'S':18,'SW':24, 'NW':30}\n",
    "real_direction = {0:'F', 6:'R',12:'R',18:'B',24:'L',30:'L'}\n",
    "def next_location(origin,direction):\n",
    "    result_char = 65\n",
    "    result_num = 1\n",
    "    result_char = ord(origin[0]) + act_char[direction]\n",
    "    if(ord(origin[0]) % 2 == 1):\n",
    "        result_num = int(origin[1]) + act_num_odd[direction]\n",
    "    else:\n",
    "        result_num = int(origin[1]) + act_num_even[direction]\n",
    "    if((chr(result_char).isupper() == True) and (result_num > 0) and (result_num < 10)):\n",
    "        return chr(result_char)+str(result_num)\n",
    "    else:\n",
    "        return origin\n",
    "          \n",
    "def find_dir(location,step,action,direction_setting):\n",
    "    for act_temp in act_dict[direction_setting]:\n",
    "        new_location = next_location(location,act_temp)\n",
    "        if(new_location != location):\n",
    "            yield new_location,step+1,action+[act_temp]\n",
    "            \n",
    "def find_enemy(you,direction,enemy):\n",
    "    que = deque([(you,0,[])])  #location_now,step,action\n",
    "    record = [you]\n",
    "    result = False\n",
    "    number = 0\n",
    "    while(result == False):\n",
    "        oldData = que.popleft()\n",
    "        for newLocation,newStep,newAction in find_dir(oldData[0],oldData[1],oldData[2],direction):\n",
    "            if(newLocation not in record):\n",
    "                que.append((newLocation,newStep,newAction))\n",
    "                record += [newLocation]\n",
    "            if(newLocation == enemy):\n",
    "                for d in newAction:\n",
    "                    number += num_direction[d] - num_direction[direction]\n",
    "                number = number / newStep\n",
    "                \n",
    "                if(number < 0): number += 36\n",
    "                #print(number)\n",
    "                #print(newAction)\n",
    "                if(number>= 6 and number <=12): return list(('R',newStep))\n",
    "                elif(number>=24 and number<=30): return list(('L',newStep))\n",
    "                elif(number>12 and number<24): return list(('B',newStep))\n",
    "                else: return list(('F',newStep))\n"
   ]
  },
  {
   "cell_type": "code",
   "execution_count": 165,
   "metadata": {},
   "outputs": [
    {
     "data": {
      "text/plain": [
       "['B', 25]"
      ]
     },
     "execution_count": 165,
     "metadata": {},
     "output_type": "execute_result"
    }
   ],
   "source": [
    "find_enemy('A1', 'NW', 'Z9')"
   ]
  },
  {
   "cell_type": "markdown",
   "metadata": {},
   "source": [
    "### amazing solution from checkio"
   ]
  },
  {
   "cell_type": "code",
   "execution_count": 171,
   "metadata": {},
   "outputs": [],
   "source": [
    "def find_enemy2(you, adir, enemy):\n",
    "    to_hex = lambda p: (int(p[1])-(ord(p[0])-65)//2-1, ord(p[0])-65)\n",
    "    x, y = [b-a for a, b in zip(to_hex(you), to_hex(enemy))]\n",
    "    print(x,y)\n",
    "    p, q = {'N': (-x,-y), 'NE': (y, -x-y), 'SE': (x+y,-x),\n",
    "            'S': (x,y), 'SW': (-y, x+y), 'NW': (-x-y,x)}[adir]\n",
    "    rdir = 'L'*(q>0)*(-q<=p<=0)+'R'*(q<0)*(0<=p<=-q)+'F'*(p>0)+'B'\n",
    "    return rdir[0], max(abs(x), abs(y), abs(x+y))"
   ]
  },
  {
   "cell_type": "code",
   "execution_count": 173,
   "metadata": {},
   "outputs": [
    {
     "name": "stdout",
     "output_type": "stream",
     "text": [
      "-3 0\n"
     ]
    },
    {
     "data": {
      "text/plain": [
       "('F', 3)"
      ]
     },
     "execution_count": 173,
     "metadata": {},
     "output_type": "execute_result"
    }
   ],
   "source": [
    "find_enemy2('A4', 'N', 'A1')"
   ]
  },
  {
   "cell_type": "code",
   "execution_count": null,
   "metadata": {},
   "outputs": [],
   "source": []
  }
 ],
 "metadata": {
  "kernelspec": {
   "display_name": "Python 3",
   "language": "python",
   "name": "python3"
  },
  "language_info": {
   "codemirror_mode": {
    "name": "ipython",
    "version": 3
   },
   "file_extension": ".py",
   "mimetype": "text/x-python",
   "name": "python",
   "nbconvert_exporter": "python",
   "pygments_lexer": "ipython3",
   "version": "3.6.4"
  }
 },
 "nbformat": 4,
 "nbformat_minor": 2
}
