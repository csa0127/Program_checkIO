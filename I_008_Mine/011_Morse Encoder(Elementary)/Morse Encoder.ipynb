{
 "cells": [
  {
   "cell_type": "code",
   "execution_count": null,
   "metadata": {},
   "outputs": [],
   "source": []
  },
  {
   "cell_type": "code",
   "execution_count": 39,
   "metadata": {},
   "outputs": [],
   "source": [
    "MORSE = {'a': '.- ',    'b': '-... ',  'c': '-.-. ',\n",
    "         'd': '-.. ',   'e': '. ',     'f': '..-. ',\n",
    "         'g': '--. ',   'h': '.... ',  'i': '.. ',\n",
    "         'j': '.--- ',  'k': '-.- ',   'l': '.-.. ',\n",
    "         'm': '-- ',    'n': '-. ',    'o': '--- ',\n",
    "         'p': '.--. ',  'q': '--.- ',  'r': '.-. ',\n",
    "         's': '... ',   't': '- ',     'u': '..- ',\n",
    "         'v': '...- ',  'w': '.-- ',   'x': '-..- ',\n",
    "         'y': '-.-- ',  'z': '--.. ',  '0': '----- ',\n",
    "         '1': '.---- ', '2': '..--- ', '3': '...-- ',\n",
    "         '4': '....- ', '5': '..... ', '6': '-.... ',\n",
    "         '7': '--... ', '8': '---.. ', '9': '----. ',\n",
    "         ' ': '  '\n",
    "        }\n",
    "\n",
    "def morse_encoder(text):\n",
    "    return \"\".join(MORSE[a] for a in text.lower())[0:-1]"
   ]
  },
  {
   "cell_type": "code",
   "execution_count": 40,
   "metadata": {},
   "outputs": [
    {
     "data": {
      "text/plain": [
       "'.. -   .-- .- ...   .-   --. --- --- -..   -.. .- -.--'"
      ]
     },
     "execution_count": 40,
     "metadata": {},
     "output_type": "execute_result"
    }
   ],
   "source": [
    "morse_encoder('It was a good day')"
   ]
  },
  {
   "cell_type": "code",
   "execution_count": null,
   "metadata": {},
   "outputs": [],
   "source": []
  }
 ],
 "metadata": {
  "kernelspec": {
   "display_name": "Python 3",
   "language": "python",
   "name": "python3"
  },
  "language_info": {
   "codemirror_mode": {
    "name": "ipython",
    "version": 3
   },
   "file_extension": ".py",
   "mimetype": "text/x-python",
   "name": "python",
   "nbconvert_exporter": "python",
   "pygments_lexer": "ipython3",
   "version": "3.6.4"
  }
 },
 "nbformat": 4,
 "nbformat_minor": 2
}
