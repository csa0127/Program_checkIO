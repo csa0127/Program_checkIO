{
 "cells": [
  {
   "cell_type": "code",
   "execution_count": 304,
   "metadata": {},
   "outputs": [],
   "source": [
    "def identify_block(numbers):\n",
    "    record = []\n",
    "    record2 = []\n",
    "    result = ''\n",
    "    list_input = sorted(list(numbers))\n",
    "    for i in range(0,3):\n",
    "        for j in range(i+1,4):\n",
    "            if((list_input[j] - list_input[i] == 1 and list_input[i] not in [4,8,12,16]) or list_input[j] - list_input[i] == 4):\n",
    "                record.append(list_input[j] - list_input[i])\n",
    "                record2.append(sorted([list_input[j],list_input[i]]))\n",
    "    try:\n",
    "        if(len(record) == 4): result = 'O'\n",
    "        elif(sum(record) == 3 or sum(record)==12): result = 'I'\n",
    "        elif((record2[0][0] in record2[1] and record2[0][0] in record2[2]) or (record2[0][1] in record2[1] and record2[0][1] in record2[2])):\n",
    "            result = 'T'\n",
    "        elif (sum(record2[2]) - sum(record2[0]) == 10 or sum(record2[2]) - sum(record2[0]) == 6):\n",
    "            if(record == [1,4,1] and (sum(record2[2]) - sum(record2[0]) == 6)): result = 'S'\n",
    "            elif(record == [4,1,4] and (sum(record2[2]) - sum(record2[0]) == 10)): result = 'S'\n",
    "            else: result = 'Z'\n",
    "        else:\n",
    "            if((sum(record2[2]) - sum(record2[0])) == 7  or (sum(record2[2]) - sum(record2[0])) == 11): result = 'J'\n",
    "            else: result = 'L'\n",
    "    except:\n",
    "        result = None\n",
    "    return result"
   ]
  },
  {
   "cell_type": "code",
   "execution_count": 311,
   "metadata": {},
   "outputs": [
    {
     "data": {
      "text/plain": [
       "'L'"
      ]
     },
     "execution_count": 311,
     "metadata": {},
     "output_type": "execute_result"
    }
   ],
   "source": [
    "(identify_block({3,7,10,14}))"
   ]
  },
  {
   "cell_type": "code",
   "execution_count": null,
   "metadata": {},
   "outputs": [],
   "source": []
  }
 ],
 "metadata": {
  "kernelspec": {
   "display_name": "Python 3",
   "language": "python",
   "name": "python3"
  },
  "language_info": {
   "codemirror_mode": {
    "name": "ipython",
    "version": 3
   },
   "file_extension": ".py",
   "mimetype": "text/x-python",
   "name": "python",
   "nbconvert_exporter": "python",
   "pygments_lexer": "ipython3",
   "version": "3.6.4"
  }
 },
 "nbformat": 4,
 "nbformat_minor": 2
}
