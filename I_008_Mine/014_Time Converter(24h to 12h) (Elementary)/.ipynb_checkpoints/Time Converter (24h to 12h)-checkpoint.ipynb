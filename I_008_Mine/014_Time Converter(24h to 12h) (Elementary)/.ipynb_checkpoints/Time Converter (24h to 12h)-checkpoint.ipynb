{
 "cells": [
  {
   "cell_type": "code",
   "execution_count": 3,
   "metadata": {},
   "outputs": [],
   "source": [
    "def time_converter(time):\n",
    "    time_hour = int(time[0:2])\n",
    "    if(time_hour > 12): return str(time_hour-12)+time[2:5]+' p.m.'\n",
    "    elif(time_hour == 12): return str(time_hour)+time[2:5]+' p.m.'\n",
    "    elif(time_hour == 0): return str(time_hour+12) + time[2:5] + ' a.m.'\n",
    "    else: return str(time_hour)+time[2:5]+' a.m.'"
   ]
  },
  {
   "cell_type": "code",
   "execution_count": null,
   "metadata": {},
   "outputs": [],
   "source": []
  }
 ],
 "metadata": {
  "kernelspec": {
   "display_name": "Python 3",
   "language": "python",
   "name": "python3"
  },
  "language_info": {
   "codemirror_mode": {
    "name": "ipython",
    "version": 3
   },
   "file_extension": ".py",
   "mimetype": "text/x-python",
   "name": "python",
   "nbconvert_exporter": "python",
   "pygments_lexer": "ipython3",
   "version": "3.6.4"
  }
 },
 "nbformat": 4,
 "nbformat_minor": 2
}
