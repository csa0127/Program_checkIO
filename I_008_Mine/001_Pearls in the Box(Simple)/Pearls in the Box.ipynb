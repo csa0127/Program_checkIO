{
 "cells": [
  {
   "cell_type": "markdown",
   "metadata": {},
   "source": [
    "# Example for using deque.(This is from 006_Github-8 Puzzle)"
   ]
  },
  {
   "cell_type": "code",
   "execution_count": 81,
   "metadata": {},
   "outputs": [],
   "source": [
    "from collections import deque\n",
    "def calc(text):\n",
    "    length = len(text)\n",
    "    num_b = text.count('b') #black\n",
    "    num_w = text.count('w') #white\n",
    "    yield text.replace(\"w\",\"b\",1),num_w/length    #take white,white to black\n",
    "    yield text.replace(\"b\",\"w\",1),num_b/length    #take black,black to white\n",
    "def result_w(text):\n",
    "    return text.count('w') / len(text)\n",
    "def checkio(marbles: str, step: int):\n",
    "    que = deque([(marbles,1)])\n",
    "    step_temp = 2**(step-1) - 1\n",
    "    result = 0\n",
    "    while(step_temp > 0):\n",
    "        oldData = que.popleft()\n",
    "        for newData,newPercent in calc(oldData[0]):\n",
    "            que.append((newData,oldData[1]*newPercent))\n",
    "        step_temp -= 1\n",
    "    while(que):\n",
    "        result_data = que.popleft()\n",
    "        result += result_w(result_data[0])*result_data[1]\n",
    "    return round(result,2)\n"
   ]
  },
  {
   "cell_type": "code",
   "execution_count": 82,
   "metadata": {},
   "outputs": [
    {
     "data": {
      "text/plain": [
       "0.48"
      ]
     },
     "execution_count": 82,
     "metadata": {},
     "output_type": "execute_result"
    }
   ],
   "source": [
    "checkio(\"bwbwbwb\",5)"
   ]
  },
  {
   "cell_type": "code",
   "execution_count": null,
   "metadata": {},
   "outputs": [],
   "source": []
  }
 ],
 "metadata": {
  "kernelspec": {
   "display_name": "Python 3",
   "language": "python",
   "name": "python3"
  },
  "language_info": {
   "codemirror_mode": {
    "name": "ipython",
    "version": 3
   },
   "file_extension": ".py",
   "mimetype": "text/x-python",
   "name": "python",
   "nbconvert_exporter": "python",
   "pygments_lexer": "ipython3",
   "version": "3.6.4"
  }
 },
 "nbformat": 4,
 "nbformat_minor": 2
}
