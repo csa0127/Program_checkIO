{
 "cells": [
  {
   "cell_type": "code",
   "execution_count": 110,
   "metadata": {},
   "outputs": [],
   "source": [
    "poly1 =((0,0),(0,2),(2,2),(2,0))\n",
    "point1 = (0,1)"
   ]
  },
  {
   "cell_type": "code",
   "execution_count": 120,
   "metadata": {},
   "outputs": [],
   "source": [
    "def is_inside(polygon, point):\n",
    "    i=-1\n",
    "    j=len(polygon)-1\n",
    "    c=False\n",
    "    x=0\n",
    "    y=1\n",
    "    if point in polygon: return True\n",
    "    while i< len(polygon)-1:\n",
    "        i+=1\n",
    "        if((point[y]<polygon[i][y])!=(point[y]<polygon[j][y])):\n",
    "            if(point[x] < (polygon[j][x]-polygon[i][x])*(point[y] - polygon[i][y])/(polygon[j][y]-polygon[i][y]) + polygon[i][x]):\n",
    "                c = not c\n",
    "            elif (point[x] == (polygon[j][x]-polygon[i][x])*(point[y] - polygon[i][y])/(polygon[j][y]-polygon[i][y]) + polygon[i][x]):\n",
    "                return True\n",
    "        j=i\n",
    "    return c"
   ]
  },
  {
   "cell_type": "code",
   "execution_count": 121,
   "metadata": {},
   "outputs": [
    {
     "data": {
      "text/plain": [
       "True"
      ]
     },
     "execution_count": 121,
     "metadata": {},
     "output_type": "execute_result"
    }
   ],
   "source": [
    "is_inside(poly1,point1)"
   ]
  },
  {
   "cell_type": "markdown",
   "metadata": {},
   "source": [
    "# Use Polygon library"
   ]
  },
  {
   "cell_type": "code",
   "execution_count": 126,
   "metadata": {},
   "outputs": [],
   "source": [
    "from sympy import Polygon, Point\n",
    "\n",
    "def is_inside1(poly, point):\n",
    "    poly = Polygon(*poly)\n",
    "    point = Point(point)\n",
    "    return poly.contains(point) or poly.encloses_point(point)\n"
   ]
  },
  {
   "cell_type": "code",
   "execution_count": 127,
   "metadata": {},
   "outputs": [
    {
     "data": {
      "text/plain": [
       "True"
      ]
     },
     "execution_count": 127,
     "metadata": {},
     "output_type": "execute_result"
    }
   ],
   "source": [
    "is_inside1(poly1,point1)"
   ]
  },
  {
   "cell_type": "code",
   "execution_count": null,
   "metadata": {},
   "outputs": [],
   "source": []
  }
 ],
 "metadata": {
  "kernelspec": {
   "display_name": "Python 3",
   "language": "python",
   "name": "python3"
  },
  "language_info": {
   "codemirror_mode": {
    "name": "ipython",
    "version": 3
   },
   "file_extension": ".py",
   "mimetype": "text/x-python",
   "name": "python",
   "nbconvert_exporter": "python",
   "pygments_lexer": "ipython3",
   "version": "3.6.4"
  }
 },
 "nbformat": 4,
 "nbformat_minor": 2
}
