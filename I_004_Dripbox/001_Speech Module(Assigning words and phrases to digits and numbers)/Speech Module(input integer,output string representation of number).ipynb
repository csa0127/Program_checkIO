{
 "cells": [
  {
   "cell_type": "code",
   "execution_count": 39,
   "metadata": {},
   "outputs": [],
   "source": [
    "FIRST_TEN = [\"one\", \"two\", \"three\", \"four\", \"five\", \"six\", \"seven\",\n",
    "             \"eight\", \"nine\"]\n",
    "SECOND_TEN = [\"ten\", \"eleven\", \"twelve\", \"thirteen\", \"fourteen\", \"fifteen\",\n",
    "              \"sixteen\", \"seventeen\", \"eighteen\", \"nineteen\"]\n",
    "OTHER_TENS = [\"twenty\", \"thirty\", \"forty\", \"fifty\", \"sixty\", \"seventy\",\n",
    "              \"eighty\", \"ninety\"]\n",
    "HUNDRED = \"hundred\"\n",
    "\n",
    "\n",
    "def checkio(number):\n",
    "    str1 = ''\n",
    "    str1 += (FIRST_TEN[number // 100 - 1] +' '+ HUNDRED+' ') if (number//100 != 0) else ''\n",
    "    num_2 = number % 100\n",
    "    if(num_2 > 19):\n",
    "        str1 += (OTHER_TENS[num_2 // 10 - 2] + ' '+ (FIRST_TEN[num_2 % 10 - 1] if (num_2%10 != 0) else ''))  \n",
    "    else:\n",
    "        str1 += (SECOND_TEN[num_2 - 10]) if num_2 > 9 else (FIRST_TEN[num_2-1] if num_2 != 0 else '')\n",
    "    \n",
    "    #replace this for solution\n",
    "    return (str1 if str1[-1]!=' ' else str1[0:len(str1)-1])"
   ]
  },
  {
   "cell_type": "code",
   "execution_count": 40,
   "metadata": {},
   "outputs": [
    {
     "data": {
      "text/plain": [
       "'one hundred'"
      ]
     },
     "execution_count": 40,
     "metadata": {},
     "output_type": "execute_result"
    }
   ],
   "source": [
    "checkio(100)"
   ]
  },
  {
   "cell_type": "code",
   "execution_count": null,
   "metadata": {},
   "outputs": [],
   "source": []
  }
 ],
 "metadata": {
  "kernelspec": {
   "display_name": "Python 3",
   "language": "python",
   "name": "python3"
  },
  "language_info": {
   "codemirror_mode": {
    "name": "ipython",
    "version": 3
   },
   "file_extension": ".py",
   "mimetype": "text/x-python",
   "name": "python",
   "nbconvert_exporter": "python",
   "pygments_lexer": "ipython3",
   "version": "3.6.4"
  }
 },
 "nbformat": 4,
 "nbformat_minor": 2
}
