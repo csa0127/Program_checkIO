{
 "cells": [
  {
   "cell_type": "code",
   "execution_count": 2,
   "metadata": {},
   "outputs": [],
   "source": [
    "tuple1 =[[3,4],[5,6],[2,7],[1,5],[2,6],[8,4],[1,7],[4,5],[9,5],[2,3],[8,2],[2,4],[9,6],[5,7],[3,6],[1,3]]"
   ]
  },
  {
   "cell_type": "code",
   "execution_count": null,
   "metadata": {},
   "outputs": [],
   "source": []
  },
  {
   "cell_type": "code",
   "execution_count": null,
   "metadata": {},
   "outputs": [],
   "source": []
  },
  {
   "cell_type": "markdown",
   "metadata": {},
   "source": [
    "# Normal Solution"
   ]
  },
  {
   "cell_type": "code",
   "execution_count": 21,
   "metadata": {},
   "outputs": [],
   "source": [
    "def break_rings(links):\n",
    "    count = 0\n",
    "    tuples = links\n",
    "    remainRings = lambda L:set(itertools.chain(*L))\n",
    "    remainLinks = lambda r,L:[x for x in L if r not in x]\n",
    "    ringtobreak = 0\n",
    "    while True :\n",
    "        ringafterbreak = len(remainRings(tuples))\n",
    "        linkafterbreak = len(tuples)\n",
    "        #break the ring which can reduce the rings best\n",
    "        for r in remainRings(tuples):\n",
    "            check = len(remainRings(remainLinks(r,tuples)))\n",
    "            if check < ringafterbreak:\n",
    "                ringafterbreak = check\n",
    "                ringtobreak = r\n",
    "            #break the ring which can redece links best \n",
    "            elif check == ringafterbreak:\n",
    "                check = len(remainLinks(r,tuples))\n",
    "                if(check < linkafterbreak):\n",
    "                    linkafterbreak = check\n",
    "                    ringtobreak = r\n",
    "        tuples = remainLinks(ringtobreak,tuples)\n",
    "        count += 1\n",
    "        if(tuples == []) : break\n",
    "    return count"
   ]
  },
  {
   "cell_type": "code",
   "execution_count": 22,
   "metadata": {},
   "outputs": [
    {
     "data": {
      "text/plain": [
       "5"
      ]
     },
     "execution_count": 22,
     "metadata": {},
     "output_type": "execute_result"
    }
   ],
   "source": [
    "break_rings(tuple1)"
   ]
  },
  {
   "cell_type": "markdown",
   "metadata": {},
   "source": [
    "# Solution from here"
   ]
  },
  {
   "cell_type": "code",
   "execution_count": 113,
   "metadata": {},
   "outputs": [],
   "source": [
    "def break_rings1(rings):\n",
    "    wreck = lambda ring: {frozenset({part}) for part in ring}\n",
    "\n",
    "    broken = wreck(rings[0])\n",
    "    for ring in rings[1:]:\n",
    "        broken = {p | b for p in wreck(ring) for b in broken}\n",
    "    return min(map(len, broken))"
   ]
  },
  {
   "cell_type": "code",
   "execution_count": 114,
   "metadata": {},
   "outputs": [
    {
     "data": {
      "text/plain": [
       "5"
      ]
     },
     "execution_count": 114,
     "metadata": {},
     "output_type": "execute_result"
    }
   ],
   "source": [
    "break_rings1(tuple1)"
   ]
  },
  {
   "cell_type": "code",
   "execution_count": 115,
   "metadata": {},
   "outputs": [],
   "source": [
    "from itertools import product\n",
    "\n",
    "\n",
    "def break_rings2(rings):\n",
    "    return min(len(set(value)) for value in product(*rings))"
   ]
  },
  {
   "cell_type": "code",
   "execution_count": 117,
   "metadata": {},
   "outputs": [
    {
     "data": {
      "text/plain": [
       "5"
      ]
     },
     "execution_count": 117,
     "metadata": {},
     "output_type": "execute_result"
    }
   ],
   "source": [
    "break_rings2(tuple1)"
   ]
  },
  {
   "cell_type": "markdown",
   "metadata": {},
   "source": []
  },
  {
   "cell_type": "code",
   "execution_count": null,
   "metadata": {},
   "outputs": [],
   "source": []
  },
  {
   "cell_type": "code",
   "execution_count": null,
   "metadata": {},
   "outputs": [],
   "source": []
  },
  {
   "cell_type": "code",
   "execution_count": null,
   "metadata": {},
   "outputs": [],
   "source": []
  }
 ],
 "metadata": {
  "kernelspec": {
   "display_name": "Python 3",
   "language": "python",
   "name": "python3"
  }
 },
 "nbformat": 4,
 "nbformat_minor": 2
}
