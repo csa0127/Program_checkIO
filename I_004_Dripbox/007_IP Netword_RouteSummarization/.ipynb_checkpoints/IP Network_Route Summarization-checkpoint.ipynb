{
 "cells": [
  {
   "cell_type": "code",
   "execution_count": 175,
   "metadata": {},
   "outputs": [],
   "source": [
    "list1 = [\"172.16.12.0\", \"172.16.13.0\", \"172.16.14.0\", \"172.16.15.0\"]"
   ]
  },
  {
   "cell_type": "markdown",
   "metadata": {},
   "source": [
    "# Solution 1"
   ]
  },
  {
   "cell_type": "code",
   "execution_count": 176,
   "metadata": {},
   "outputs": [],
   "source": [
    "def checkio(data):\n",
    "    binChange = [\"\".join(bin(int(d))[2:].zfill(8) for d in str1.split('.')) for str1 in data]\n",
    "    bits = 0\n",
    "    bits_data = 0\n",
    "    for tuples in list(zip(*binChange)):\n",
    "        if(not (len(set(tuples))>1)): \n",
    "            bits += 1\n",
    "            bits_data |= (int(tuples[0])<<(32-bits))\n",
    "        else: break\n",
    "    \n",
    "    return '.'.join(str(int(bin(bits_data)[2:].zfill(32)[i:i+8],2)) for i in range(0,32,8)) + '/' + str(bits)"
   ]
  },
  {
   "cell_type": "markdown",
   "metadata": {},
   "source": [
    "# Solution 2(use format to solve the string,use reduce to compare the data)"
   ]
  },
  {
   "cell_type": "code",
   "execution_count": 177,
   "metadata": {},
   "outputs": [],
   "source": [
    "from functools import reduce\n",
    "\n",
    "def checkio1(data):\n",
    "    \n",
    "    def stop(): raise StopIteration\n",
    "    \n",
    "    addresses = [\"\".join([\"{0:08b}\".format(int(octet)) for octet in ip.split(\".\")]) for ip in data]\n",
    "    prefix = reduce(lambda a, b: \"\".join(a[i] if a[i] == b[i] else stop() for i in range(len(a))), addresses)\n",
    "\n",
    "    return \"{}/{}\".format(\".\".join([str(int(\"{:0<8}\".format(prefix[8*i:8*(i+1)]), 2)) for i in range(4)]), len(prefix))"
   ]
  },
  {
   "cell_type": "code",
   "execution_count": 178,
   "metadata": {},
   "outputs": [
    {
     "data": {
      "text/plain": [
       "'172.16.12.0/22'"
      ]
     },
     "execution_count": 178,
     "metadata": {},
     "output_type": "execute_result"
    }
   ],
   "source": [
    "checkio(list1)"
   ]
  },
  {
   "cell_type": "code",
   "execution_count": 179,
   "metadata": {},
   "outputs": [
    {
     "name": "stderr",
     "output_type": "stream",
     "text": [
      "D:\\ProgramFiles\\AnaConda3\\lib\\site-packages\\ipykernel_launcher.py:8: DeprecationWarning: generator 'checkio1.<locals>.<lambda>.<locals>.<genexpr>' raised StopIteration\n",
      "  \n"
     ]
    },
    {
     "data": {
      "text/plain": [
       "'172.16.12.0/22'"
      ]
     },
     "execution_count": 179,
     "metadata": {},
     "output_type": "execute_result"
    }
   ],
   "source": [
    "checkio1(list1)"
   ]
  },
  {
   "cell_type": "code",
   "execution_count": null,
   "metadata": {},
   "outputs": [],
   "source": []
  },
  {
   "cell_type": "code",
   "execution_count": null,
   "metadata": {},
   "outputs": [],
   "source": []
  }
 ],
 "metadata": {
  "kernelspec": {
   "display_name": "Python 3",
   "language": "python",
   "name": "python3"
  },
  "language_info": {
   "codemirror_mode": {
    "name": "ipython",
    "version": 3
   },
   "file_extension": ".py",
   "mimetype": "text/x-python",
   "name": "python",
   "nbconvert_exporter": "python",
   "pygments_lexer": "ipython3",
   "version": "3.6.4"
  }
 },
 "nbformat": 4,
 "nbformat_minor": 2
}
