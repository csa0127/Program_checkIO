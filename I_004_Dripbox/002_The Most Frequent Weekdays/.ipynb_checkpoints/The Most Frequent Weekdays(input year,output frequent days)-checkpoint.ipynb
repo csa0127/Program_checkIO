{
 "cells": [
  {
   "cell_type": "code",
   "execution_count": 80,
   "metadata": {},
   "outputs": [],
   "source": [
    "import datetime\n",
    "dict1 = {1:'Monday',2:'Tuesday',3:'Wednesday',4:'Thursday',5:'Friday',6:'Saturday',7:'Sunday'}\n",
    "def most_frequent_days(year):\n",
    "    \"\"\"\n",
    "        List of most frequent days of the week in the given year\n",
    "    \"\"\"\n",
    "    list1 = []\n",
    "    int1 = datetime.date(year,1,1).isocalendar()[2]\n",
    "    int2 = datetime.date(year,12,31).isocalendar()[2]\n",
    "    if int1 <= int2 :\n",
    "        for i in range(int1,int2+1):\n",
    "            list1.append(dict1[i])\n",
    "    else:\n",
    "        for i in range(1,int2+1):list1.append(dict1[i])\n",
    "        for i in range(int1,8):list1.append(dict1[i])\n",
    "            \n",
    "    return list1"
   ]
  },
  {
   "cell_type": "code",
   "execution_count": 89,
   "metadata": {},
   "outputs": [],
   "source": [
    "import datetime\n",
    "list2 = ['','Monday','Tuesday','Wednesday','Thursday','Friday','Saturday','Sunday']\n",
    "def most_frequent_days(year):\n",
    "    \"\"\"\n",
    "        List of most frequent days of the week in the given year\n",
    "    \"\"\"\n",
    "    list1 = []\n",
    "    int1 = datetime.date(year,1,1).isocalendar()[2]\n",
    "    int2 = datetime.date(year,12,31).isocalendar()[2]            \n",
    "    return (list2[int1:int2+1]) if int1 <= int2 else (list2[1:int2+1] + list2[int1:8])"
   ]
  },
  {
   "cell_type": "code",
   "execution_count": 90,
   "metadata": {},
   "outputs": [
    {
     "data": {
      "text/plain": [
       "['Monday', 'Sunday']"
      ]
     },
     "execution_count": 90,
     "metadata": {},
     "output_type": "execute_result"
    }
   ],
   "source": [
    "most_frequent_days(328)"
   ]
  },
  {
   "cell_type": "code",
   "execution_count": null,
   "metadata": {},
   "outputs": [],
   "source": []
  }
 ],
 "metadata": {
  "kernelspec": {
   "display_name": "Python 3",
   "language": "python",
   "name": "python3"
  },
  "language_info": {
   "codemirror_mode": {
    "name": "ipython",
    "version": 3
   },
   "file_extension": ".py",
   "mimetype": "text/x-python",
   "name": "python",
   "nbconvert_exporter": "python",
   "pygments_lexer": "ipython3",
   "version": "3.6.4"
  }
 },
 "nbformat": 4,
 "nbformat_minor": 2
}
