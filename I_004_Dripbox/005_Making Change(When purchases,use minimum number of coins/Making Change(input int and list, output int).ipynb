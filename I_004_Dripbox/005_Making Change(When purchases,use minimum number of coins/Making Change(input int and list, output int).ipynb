{
 "cells": [
  {
   "cell_type": "markdown",
   "metadata": {},
   "source": [
    "### check ways to make change of target by coins(all the possibility)"
   ]
  },
  {
   "cell_type": "markdown",
   "metadata": {},
   "source": [
    "# Get all the possible number of coins for all the input less than target."
   ]
  },
  {
   "cell_type": "code",
   "execution_count": 11,
   "metadata": {},
   "outputs": [
    {
     "name": "stdout",
     "output_type": "stream",
     "text": [
      "[1, 0, 1, 0, 0, 0, 0, 0]\n",
      "[1, 0, 1, 0, 0, 0, 0, 0]\n",
      "[1, 0, 1, 0, 1, 0, 0, 0]\n",
      "[1, 0, 1, 0, 1, 0, 0, 0]\n",
      "[1, 0, 1, 0, 1, 0, 1, 0]\n",
      "[1, 0, 1, 0, 1, 0, 1, 0]\n",
      "[1, 0, 1, 1, 1, 0, 1, 0]\n",
      "[1, 0, 1, 1, 1, 0, 1, 0]\n",
      "[1, 0, 1, 1, 1, 1, 1, 0]\n",
      "[1, 0, 1, 1, 1, 1, 2, 0]\n",
      "[1, 0, 1, 1, 1, 1, 2, 1]\n",
      "[1, 0, 1, 1, 2, 1, 2, 1]\n",
      "[1, 0, 1, 1, 2, 1, 2, 1]\n",
      "[1, 0, 1, 1, 2, 1, 3, 1]\n",
      "[1, 0, 1, 1, 2, 1, 3, 2]\n",
      "2\n"
     ]
    }
   ],
   "source": [
    "target = 7\n",
    "coins = [2,3,4,9,10,20,50,100,200]\n",
    "ways = [1]+[0]*target\n",
    "#print (ways)\n",
    "for coin in coins:\n",
    "    for i in range(coin,target+1):\n",
    "        ways[i]+=ways[i-coin]\n",
    "        print(ways)\n",
    "print(ways[target])"
   ]
  },
  {
   "cell_type": "markdown",
   "metadata": {},
   "source": [
    "# Get the minimum number of coins"
   ]
  },
  {
   "cell_type": "code",
   "execution_count": 54,
   "metadata": {},
   "outputs": [],
   "source": [
    "def checkio( denominations, price ):\n",
    "    minCoin = [0 for i in range(0, price+1)]\n",
    "    n = len(denominations)\n",
    "    for i in range(1, price+1):\n",
    "        smallest = float(\"inf\")\n",
    "        for j in range(0, n):\n",
    "            if (denominations[j] <= i):\n",
    "                smallest = min(smallest, minCoin[i - denominations[j]]) \n",
    "        minCoin[i] = 1 + smallest\n",
    "    return minCoin[price] if minCoin[price] != float('inf') else None"
   ]
  },
  {
   "cell_type": "code",
   "execution_count": 57,
   "metadata": {},
   "outputs": [
    {
     "name": "stdout",
     "output_type": "stream",
     "text": [
      "1\n"
     ]
    }
   ],
   "source": [
    "print(checkio([3,4,5],4))"
   ]
  },
  {
   "cell_type": "code",
   "execution_count": null,
   "metadata": {},
   "outputs": [],
   "source": []
  }
 ],
 "metadata": {
  "kernelspec": {
   "display_name": "Python 3",
   "language": "python",
   "name": "python3"
  },
  "language_info": {
   "codemirror_mode": {
    "name": "ipython",
    "version": 3
   },
   "file_extension": ".py",
   "mimetype": "text/x-python",
   "name": "python",
   "nbconvert_exporter": "python",
   "pygments_lexer": "ipython3",
   "version": "3.6.4"
  }
 },
 "nbformat": 4,
 "nbformat_minor": 2
}
