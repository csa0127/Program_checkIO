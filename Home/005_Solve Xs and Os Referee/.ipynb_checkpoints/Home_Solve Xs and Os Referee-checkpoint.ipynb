{
 "cells": [
  {
   "cell_type": "markdown",
   "metadata": {},
   "source": [
    "# Solution 1(normal method)"
   ]
  },
  {
   "cell_type": "code",
   "execution_count": 42,
   "metadata": {},
   "outputs": [],
   "source": [
    "def checkio(game_result):\n",
    "    for row in game_result:\n",
    "        if(row[0]==row[1]==row[2]):\n",
    "            if(row[0]=='X'): return \"X\"\n",
    "            elif (row[0]== 'O'):return \"O\"\n",
    "        \n",
    "    game_result_rotated = list(zip(*game_result))\n",
    "    for row in game_result_rotated:\n",
    "        if(row[0]==row[1]==row[2]):\n",
    "            if(row[0]=='X'): return \"X\"\n",
    "            elif (row[0]== 'O'):return \"O\"\n",
    "    \n",
    "    if((game_result[0][0] == game_result[1][1] == game_result[2][2]) or (game_result[0][2] == game_result[1][1] == game_result[2][0])) :\n",
    "        if(game_result[1][1]=='X'): return \"X\"\n",
    "        elif (game_result[1][1]== 'O'):return \"O\"\n",
    "        else: return \"D\"\n",
    "    else : return \"D\""
   ]
  },
  {
   "cell_type": "code",
   "execution_count": 44,
   "metadata": {},
   "outputs": [],
   "source": [
    "test = [\"O.X\",\"XX.\",\"XOO\"]\n",
    "list(list(i) for i in zip(*test))\n",
    "test_rotated = list(zip(*test))"
   ]
  },
  {
   "cell_type": "markdown",
   "metadata": {},
   "source": [
    "# Solution 2"
   ]
  },
  {
   "cell_type": "code",
   "execution_count": 61,
   "metadata": {},
   "outputs": [],
   "source": [
    "def checkio2 (game_result):\n",
    "    resultAll = \"\".join(game_result)\n",
    "    dataCheckAll = game_result + [resultAll[i:9:3] for i in range(0,3)] + [resultAll[0:9:4]] + [resultAll[2:7:2]] \n",
    "    if\"OOO\" in dataCheckAll: return \"O\"\n",
    "    elif \"XXX\" in dataCheckAll: return \"X\"\n",
    "    else: return \"D\"\n",
    "    "
   ]
  },
  {
   "cell_type": "markdown",
   "metadata": {},
   "source": [
    "# Solution 3(modify from Solution 1)"
   ]
  },
  {
   "cell_type": "code",
   "execution_count": 90,
   "metadata": {
    "scrolled": false
   },
   "outputs": [],
   "source": [
    "def checkio3(game_result):\n",
    "    for row in game_result:\n",
    "        if(row[0]==row[1]==row[2] and row[0]!=\".\"): return row[0]\n",
    "        \n",
    "    game_result_rotated = list(zip(*game_result))\n",
    "    for row in game_result_rotated:\n",
    "        if(row[0]==row[1]==row[2] and row[0]!=\".\"): return row[0]\n",
    "        \n",
    "    if(((game_result[0][0] == game_result[1][1] == game_result[2][2]) or (game_result[0][2] == game_result[1][1] == game_result[2][0])) and game_result[1][1] !=\".\") :\n",
    "        return game_result[1][1]\n",
    "    else : return \"D\""
   ]
  },
  {
   "cell_type": "code",
   "execution_count": 91,
   "metadata": {},
   "outputs": [
    {
     "data": {
      "text/plain": [
       "'X'"
      ]
     },
     "execution_count": 91,
     "metadata": {},
     "output_type": "execute_result"
    }
   ],
   "source": [
    "checkio3([\n",
    "        \"...\",\n",
    "        \"XXX\",\n",
    "        \"OO.\"])"
   ]
  },
  {
   "cell_type": "code",
   "execution_count": null,
   "metadata": {},
   "outputs": [],
   "source": []
  },
  {
   "cell_type": "code",
   "execution_count": 62,
   "metadata": {},
   "outputs": [
    {
     "data": {
      "text/plain": [
       "'X'"
      ]
     },
     "execution_count": 62,
     "metadata": {},
     "output_type": "execute_result"
    }
   ],
   "source": [
    "checkio2([\n",
    "        \"O.X\",\n",
    "        \"XX.\",\n",
    "        \"XOO\"])"
   ]
  },
  {
   "cell_type": "code",
   "execution_count": null,
   "metadata": {},
   "outputs": [],
   "source": []
  }
 ],
 "metadata": {
  "kernelspec": {
   "display_name": "Python 3",
   "language": "python",
   "name": "python3"
  },
  "language_info": {
   "codemirror_mode": {
    "name": "ipython",
    "version": 3
   },
   "file_extension": ".py",
   "mimetype": "text/x-python",
   "name": "python",
   "nbconvert_exporter": "python",
   "pygments_lexer": "ipython3",
   "version": "3.6.4"
  }
 },
 "nbformat": 4,
 "nbformat_minor": 2
}
