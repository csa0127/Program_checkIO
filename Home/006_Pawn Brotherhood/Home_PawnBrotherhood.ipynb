{
 "cells": [
  {
   "cell_type": "markdown",
   "metadata": {},
   "source": [
    "# Example1(Normal)"
   ]
  },
  {
   "cell_type": "code",
   "execution_count": 12,
   "metadata": {},
   "outputs": [],
   "source": [
    "def safe_pawns(pawns):\n",
    "    pawns_indexs = set()\n",
    "    for p in pawns_check:\n",
    "        row = int(p[1]) \n",
    "        col = ord(p[0])\n",
    "        pawns_indexs.add((row,col))\n",
    "    count=0\n",
    "    for row,col in pawns_indexs:\n",
    "        issafe = ((row - 1,col - 1) in pawns_indexs) or ((row - 1,col + 1) in pawns_indexs)\n",
    "        if issafe: count+=1\n",
    "    return count"
   ]
  },
  {
   "cell_type": "markdown",
   "metadata": {},
   "source": [
    "# Example2"
   ]
  },
  {
   "cell_type": "code",
   "execution_count": 29,
   "metadata": {},
   "outputs": [],
   "source": [
    "def safe_pawns1(pawns):\n",
    "    issafe = [pawn for pawn in pawns if chr(ord(pawn[0])-1)+str(int(pawn[1])-1) in pawns or chr(ord(pawn[0])+1)+str(int(pawn[1])-1) in pawns]\n",
    "    return len(issafe)"
   ]
  },
  {
   "cell_type": "markdown",
   "metadata": {},
   "source": [
    "# Example3 "
   ]
  },
  {
   "cell_type": "code",
   "execution_count": 60,
   "metadata": {},
   "outputs": [],
   "source": [
    "def safe_pawns2(pawns):\n",
    "    a = {int(x,18) for x in pawns}\n",
    "    return sum(bool({d-19,d+17}&a) for d in a)\n",
    "    "
   ]
  },
  {
   "cell_type": "markdown",
   "metadata": {},
   "source": [
    "# Example4 ()"
   ]
  },
  {
   "cell_type": "code",
   "execution_count": 68,
   "metadata": {},
   "outputs": [],
   "source": [
    "def safe_pawns3(pawns):\n",
    "    aint = {int(x,18) for x in pawns}\n",
    "    issafe = [p for p in aint if p-19 in aint or p+17 in aint]\n",
    "    return len(issafe)"
   ]
  },
  {
   "cell_type": "code",
   "execution_count": 80,
   "metadata": {},
   "outputs": [],
   "source": [
    "safe_pawns4 = lambda pawns: len([p for p in {int(x,18) for x in pawns} if p-19 in {int(x,18) for x in pawns} or p+17 in {int(x,18) for x in pawns}])"
   ]
  },
  {
   "cell_type": "code",
   "execution_count": 81,
   "metadata": {},
   "outputs": [
    {
     "data": {
      "text/plain": [
       "6"
      ]
     },
     "execution_count": 81,
     "metadata": {},
     "output_type": "execute_result"
    }
   ],
   "source": [
    "safe_pawns4({\"b4\", \"d4\", \"f4\", \"c3\", \"e3\", \"g5\", \"d2\"})"
   ]
  },
  {
   "cell_type": "code",
   "execution_count": null,
   "metadata": {},
   "outputs": [],
   "source": []
  }
 ],
 "metadata": {
  "kernelspec": {
   "display_name": "Python 3",
   "language": "python",
   "name": "python3"
  },
  "language_info": {
   "codemirror_mode": {
    "name": "ipython",
    "version": 3
   },
   "file_extension": ".py",
   "mimetype": "text/x-python",
   "name": "python",
   "nbconvert_exporter": "python",
   "pygments_lexer": "ipython3",
   "version": "3.6.4"
  }
 },
 "nbformat": 4,
 "nbformat_minor": 2
}
