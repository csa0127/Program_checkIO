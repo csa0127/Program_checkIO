{
 "cells": [
  {
   "cell_type": "code",
   "execution_count": 1,
   "metadata": {},
   "outputs": [],
   "source": [
    "def checkio(text):\n",
    "    \n",
    "    ##check the numbers of letters\n",
    "    textLow = text.lower();\n",
    "    freq = {};\n",
    "    for letter in textLow:\n",
    "        if(ord(letter)>=97 and ord(letter)<=122):\n",
    "            freq[letter] = textLow.count(letter);\n",
    "    text_sorted = sorted(freq.items(), key = lambda x:-x[1])\n",
    "    text_maxnum = max(text_sorted,key=lambda x:x[1])[1];\n",
    "    \n",
    "    ##align the result from max number and from a to z\n",
    "    i=0;\n",
    "    c=[];\n",
    "    letterCount = len(text_sorted);\n",
    "    while text_sorted[i][1] == text_maxnum:\n",
    "        c.append(text_sorted[i]);\n",
    "        if(i<(letterCount-1)):\n",
    "            i+=1;\n",
    "        else:\n",
    "            break;\n",
    "        print(i)\n",
    "    d = sorted(c, key = lambda x:x[0])\n",
    "    return d[0][0];"
   ]
  },
  {
   "cell_type": "code",
   "execution_count": 4,
   "metadata": {},
   "outputs": [
    {
     "name": "stdout",
     "output_type": "stream",
     "text": [
      "1\n"
     ]
    },
    {
     "data": {
      "text/plain": [
       "(True, 'Hello test')"
      ]
     },
     "execution_count": 4,
     "metadata": {},
     "output_type": "execute_result"
    }
   ],
   "source": [
    "checkio(\"Hello World!\") == \"l\", \"Hello test\"\n",
    "##checkio(\"How do you do?\") == \"o\", \"O is most wanted\"\n",
    "##checkio(\"One\") == \"e\", \"All letter only once.\"\n",
    "#checkio(\"Oops!\") == \"o\", \"Don't forget about lower case.\"\n",
    "#checkio(\"AAaooo!!!!\") == \"a\", \"Only letters.\"\n",
    "#checkio(\"abe\") == \"a\", \"The First.\""
   ]
  },
  {
   "cell_type": "code",
   "execution_count": null,
   "metadata": {},
   "outputs": [],
   "source": []
  }
 ],
 "metadata": {
  "kernelspec": {
   "display_name": "Python 3",
   "language": "python",
   "name": "python3"
  },
  "language_info": {
   "codemirror_mode": {
    "name": "ipython",
    "version": 3
   },
   "file_extension": ".py",
   "mimetype": "text/x-python",
   "name": "python",
   "nbconvert_exporter": "python",
   "pygments_lexer": "ipython3",
   "version": "3.6.4"
  }
 },
 "nbformat": 4,
 "nbformat_minor": 2
}
