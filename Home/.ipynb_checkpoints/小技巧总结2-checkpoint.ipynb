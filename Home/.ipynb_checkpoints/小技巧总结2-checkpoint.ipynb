{
 "cells": [
  {
   "cell_type": "markdown",
   "metadata": {},
   "source": [
    "## 将标点符号去除"
   ]
  },
  {
   "cell_type": "code",
   "execution_count": 1,
   "metadata": {},
   "outputs": [
    {
     "data": {
      "text/plain": [
       "'texteaein'"
      ]
     },
     "execution_count": 1,
     "metadata": {},
     "output_type": "execute_result"
    }
   ],
   "source": [
    "# solution 1(maybe slow)\n",
    "s = \"text.ea?ein,\"\n",
    "import string\n",
    "for c in string.punctuation:\n",
    "    s = s.replace(c,\"\")\n",
    "s"
   ]
  },
  {
   "cell_type": "code",
   "execution_count": 6,
   "metadata": {},
   "outputs": [
    {
     "data": {
      "text/plain": [
       "'texteaein'"
      ]
     },
     "execution_count": 6,
     "metadata": {},
     "output_type": "execute_result"
    }
   ],
   "source": [
    "#solution 2\n",
    "import re, string\n",
    "s = \"text.ea?ein,\"\n",
    "out = re.sub('[%s]' % re.escape(string.punctuation), '', s)\n",
    "out"
   ]
  },
  {
   "cell_type": "code",
   "execution_count": 11,
   "metadata": {},
   "outputs": [
    {
     "name": "stdout",
     "output_type": "stream",
     "text": [
      "stripped texteaein\n"
     ]
    }
   ],
   "source": [
    "#solution 3 use unicodedata module\n",
    "from unicodedata import category\n",
    "s = \"text.ea?ein,\"\n",
    "s = ''.join(ch for ch in s if category(ch)[0]!= 'P')\n",
    "print ('stripped', s)"
   ]
  },
  {
   "cell_type": "markdown",
   "metadata": {},
   "source": [
    "# enumerate 使用\n",
    "enumerate() 函数用于将一个可遍历的数据对象(如列表、元组或字符串)组合为一个索引序列"
   ]
  },
  {
   "cell_type": "code",
   "execution_count": 3,
   "metadata": {},
   "outputs": [
    {
     "data": {
      "text/plain": [
       "[(0, 1), (1, 2), (2, 3), (3, 4), (4, 5), (5, 6), (6, 7), (7, 8)]"
      ]
     },
     "execution_count": 3,
     "metadata": {},
     "output_type": "execute_result"
    }
   ],
   "source": [
    "set1 = {1, 2, 3, 6, 7, 8, 4, 5}\n",
    "list(enumerate(sorted(set1)))  #将原始数据按照索引排列并分组"
   ]
  },
  {
   "cell_type": "markdown",
   "metadata": {},
   "source": [
    "# Any 函数的使用\n",
    "any() 函数用于判断给定的可迭代参数 iterable 是否全部为空对象，如果都为空、0、false，则返回 False，如果不都为空、0、false，则返回 True"
   ]
  },
  {
   "cell_type": "code",
   "execution_count": 1,
   "metadata": {},
   "outputs": [
    {
     "data": {
      "text/plain": [
       "False"
      ]
     },
     "execution_count": 1,
     "metadata": {},
     "output_type": "execute_result"
    }
   ],
   "source": [
    "any(['a', 'b', 'c', 'd']) # True\n",
    "any([0, '', False])   #False"
   ]
  },
  {
   "cell_type": "markdown",
   "metadata": {},
   "source": [
    "# itertools permutations函数\n",
    "将给定的数据按照所设定的个数来给出所有有可能的排列组合，比如\"a.b,c\"按照选2来排列组合，结果为\"a,b\"\"a,c\"\"b,c\"\"b,a\"\"c,a\"\"c,b\",返回值为元组"
   ]
  },
  {
   "cell_type": "code",
   "execution_count": 4,
   "metadata": {},
   "outputs": [
    {
     "data": {
      "text/plain": [
       "[('a', 'b'), ('a', 'c'), ('b', 'a'), ('b', 'c'), ('c', 'a'), ('c', 'b')]"
      ]
     },
     "execution_count": 4,
     "metadata": {},
     "output_type": "execute_result"
    }
   ],
   "source": [
    "import itertools\n",
    "list1 = ['a','b','c']\n",
    "list2 = list(itertools.permutations(list1,2))\n",
    "list2"
   ]
  },
  {
   "cell_type": "code",
   "execution_count": null,
   "metadata": {},
   "outputs": [],
   "source": []
  },
  {
   "cell_type": "markdown",
   "metadata": {},
   "source": [
    "# Sample of Deque(from 8puzzle)"
   ]
  },
  {
   "cell_type": "code",
   "execution_count": null,
   "metadata": {},
   "outputs": [],
   "source": [
    "from collections import deque\n",
    "Move = {'U':(0,-1),'D':(0,1),'L':(-1,0),'R':(1,0)}\n",
    "def getNext(number):\n",
    "    oldIndex = number.index(0)\n",
    "    oldx,oldy = oldIndex%3, oldIndex//3\n",
    "    for m in 'UDLR':\n",
    "        newx,newy = oldx + Move[m][0], oldy+Move[m][1]\n",
    "        if(newx < 3 and newx >=0 and newy<3 and newy >=0):\n",
    "            newIndex = newx + newy*3\n",
    "            oldNum = list(number)\n",
    "            oldNum[oldIndex] = oldNum[newIndex]\n",
    "            oldNum[newIndex] = 0\n",
    "            yield tuple(oldNum),m\n",
    "def checkio(data):\n",
    "    oriData = tuple(n for line in data for n in line)\n",
    "    desData = (1,2,3,4,5,6,7,8,0)\n",
    "    que = deque([(oriData,'')])\n",
    "    exist = set()\n",
    "    while(que):\n",
    "        oldData = que.popleft()\n",
    "        exist.add(oldData[0])\n",
    "        if(oldData[0] == desData):\n",
    "            return oldData[1]\n",
    "        for newData,newRoute in getNext(oldData[0]):\n",
    "            if(newData not in exist):\n",
    "                que.append((newData,oldData[1]+newRoute))"
   ]
  },
  {
   "cell_type": "code",
   "execution_count": null,
   "metadata": {},
   "outputs": [],
   "source": []
  },
  {
   "cell_type": "code",
   "execution_count": null,
   "metadata": {},
   "outputs": [],
   "source": []
  }
 ],
 "metadata": {
  "kernelspec": {
   "display_name": "Python 3",
   "language": "python",
   "name": "python3"
  },
  "language_info": {
   "codemirror_mode": {
    "name": "ipython",
    "version": 3
   },
   "file_extension": ".py",
   "mimetype": "text/x-python",
   "name": "python",
   "nbconvert_exporter": "python",
   "pygments_lexer": "ipython3",
   "version": "3.6.4"
  }
 },
 "nbformat": 4,
 "nbformat_minor": 2
}
