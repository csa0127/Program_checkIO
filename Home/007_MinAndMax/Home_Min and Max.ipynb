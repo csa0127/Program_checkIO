{
 "cells": [
  {
   "cell_type": "code",
   "execution_count": 1,
   "metadata": {},
   "outputs": [],
   "source": [
    "def get_first_from_sorted(args,key,reverse):\n",
    "    if len(args) == 1:\n",
    "        args = iter(args[0])\n",
    "    return sorted(args,key=key,reverse=reverse)[0]\n",
    "\n",
    "def min(*args, **kwargs):\n",
    "    key = kwargs.get(\"key\", None)\n",
    "    return get_first_from_sorted(args,key,False)\n",
    "\n",
    "\n",
    "def max(*args, **kwargs):\n",
    "    key = kwargs.get(\"key\", None)\n",
    "    print (str(key))\n",
    "    return get_first_from_sorted(args,key,True)"
   ]
  },
  {
   "cell_type": "code",
   "execution_count": 2,
   "metadata": {},
   "outputs": [
    {
     "data": {
      "text/plain": [
       "[9, 0]"
      ]
     },
     "execution_count": 2,
     "metadata": {},
     "output_type": "execute_result"
    }
   ],
   "source": [
    "min([[1, 2], [3, 4], [9, 0]], key=lambda x: x[1])"
   ]
  },
  {
   "cell_type": "code",
   "execution_count": null,
   "metadata": {},
   "outputs": [],
   "source": []
  }
 ],
 "metadata": {
  "kernelspec": {
   "display_name": "Python 3",
   "language": "python",
   "name": "python3"
  },
  "language_info": {
   "codemirror_mode": {
    "name": "ipython",
    "version": 3
   },
   "file_extension": ".py",
   "mimetype": "text/x-python",
   "name": "python",
   "nbconvert_exporter": "python",
   "pygments_lexer": "ipython3",
   "version": "3.6.4"
  }
 },
 "nbformat": 4,
 "nbformat_minor": 2
}
