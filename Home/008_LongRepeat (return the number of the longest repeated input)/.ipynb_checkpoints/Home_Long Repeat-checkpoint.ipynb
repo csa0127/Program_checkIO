{
 "cells": [
  {
   "cell_type": "code",
   "execution_count": 1,
   "metadata": {},
   "outputs": [],
   "source": [
    "#Example 1\n",
    "from itertools import groupby\n",
    "long_repeat = lambda line: max([len(list(g)) for k,g in groupby(line)]) if len(line)> 0 else 0\n",
    "\n",
    "#Example 2  function:select the longest repeat value\n",
    "def long_repeat1(line):\n",
    "    \"\"\"\n",
    "        length the longest substring that consists of the same char\n",
    "    \"\"\"\n",
    "    # your code here\n",
    "    sold = \"\"\n",
    "    count = 0\n",
    "    count_old = 0\n",
    "    if(len(line) == 0): return (0)\n",
    "    \n",
    "    for s in line:\n",
    "        if s != sold:\n",
    "            sold = s\n",
    "            if(count > count_old):\n",
    "                count_old = count\n",
    "            count =0\n",
    "        else:\n",
    "            count+= 1\n",
    "    count_old = max(count_old,count)\n",
    "    return (count_old+1)"
   ]
  },
  {
   "cell_type": "code",
   "execution_count": 2,
   "metadata": {},
   "outputs": [
    {
     "data": {
      "text/plain": [
       "3"
      ]
     },
     "execution_count": 2,
     "metadata": {},
     "output_type": "execute_result"
    }
   ],
   "source": [
    "long_repeat('ddvvrwwwrggg')"
   ]
  },
  {
   "cell_type": "code",
   "execution_count": null,
   "metadata": {},
   "outputs": [],
   "source": []
  }
 ],
 "metadata": {
  "kernelspec": {
   "display_name": "Python 3",
   "language": "python",
   "name": "python3"
  },
  "language_info": {
   "codemirror_mode": {
    "name": "ipython",
    "version": 3
   },
   "file_extension": ".py",
   "mimetype": "text/x-python",
   "name": "python",
   "nbconvert_exporter": "python",
   "pygments_lexer": "ipython3",
   "version": "3.6.4"
  }
 },
 "nbformat": 4,
 "nbformat_minor": 2
}
