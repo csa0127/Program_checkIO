{
 "cells": [
  {
   "cell_type": "code",
   "execution_count": 1,
   "metadata": {},
   "outputs": [],
   "source": [
    "def checkio(data):\n",
    "    list_low = []\n",
    "    list_up = []\n",
    "    list_num = []\n",
    "    result_low = 0\n",
    "    result_up= 0\n",
    "    result_num = 0\n",
    "    for letter in range(97,123):\n",
    "        list_low.append(chr(letter))\n",
    "    for letter in range(65,91):\n",
    "        list_up.append(chr(letter))\n",
    "    for letter in range(0,10):\n",
    "        list_num.append(str(letter))\n",
    "    \n",
    "    if(len(data) >= 10):\n",
    "        for char in data:\n",
    "            if(str(list_low).find(char)!= -1): result_low+= 1;\n",
    "            elif(str(list_up).find(char)!= -1): result_up +=1;\n",
    "            elif(str(list_num).find(char)!=-1): result_num += 1;\n",
    "        if((result_low != 0)and(result_up !=0)and(result_num!=0)):\n",
    "            return True;\n",
    "        else:\n",
    "            return False;\n",
    "    else:\n",
    "        return False"
   ]
  },
  {
   "cell_type": "code",
   "execution_count": 3,
   "metadata": {},
   "outputs": [
    {
     "data": {
      "text/plain": [
       "False"
      ]
     },
     "execution_count": 3,
     "metadata": {},
     "output_type": "execute_result"
    }
   ],
   "source": [
    "checkio(\"12dafED\")"
   ]
  },
  {
   "cell_type": "code",
   "execution_count": null,
   "metadata": {},
   "outputs": [],
   "source": []
  }
 ],
 "metadata": {
  "kernelspec": {
   "display_name": "Python 3",
   "language": "python",
   "name": "python3"
  },
  "language_info": {
   "codemirror_mode": {
    "name": "ipython",
    "version": 3
   },
   "file_extension": ".py",
   "mimetype": "text/x-python",
   "name": "python",
   "nbconvert_exporter": "python",
   "pygments_lexer": "ipython3",
   "version": "3.6.4"
  }
 },
 "nbformat": 4,
 "nbformat_minor": 2
}
