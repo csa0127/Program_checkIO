{
 "cells": [
  {
   "cell_type": "markdown",
   "metadata": {},
   "source": [
    "# Brute Force"
   ]
  },
  {
   "cell_type": "code",
   "execution_count": 54,
   "metadata": {},
   "outputs": [],
   "source": [
    "def repeat_check(input_str,check_str):##every time check from the head\n",
    "    length = len(input_str)\n",
    "    record_position = 0\n",
    "    record_count = 1\n",
    "    result_count = 1\n",
    "    for position in range(len(check_str)):\n",
    "        if(position % length == 0):\n",
    "            if(input_str == check_str[position:position+length]):\n",
    "                if((record_position+length) == (position)):\n",
    "                    record_count += 1\n",
    "                    record_position += length\n",
    "                    if(result_count < record_count):\n",
    "                        result_count = record_count\n",
    "                else:\n",
    "                    record_position = position\n",
    "                    record_count = 1\n",
    "    return result_count\n",
    "def repeat_inside(line):\n",
    "    out_num = 1\n",
    "    out_line = \"\"\n",
    "    result_temp = 1\n",
    "    for length_check in range(len(line)):\n",
    "        result_temp = 1\n",
    "        if (length_check != 0) :\n",
    "            for position_check in range(len(line)):\n",
    "                result_temp = repeat_check(line[position_check:position_check+length_check],line[position_check:])\n",
    "                if((out_num < length_check * result_temp) and (result_temp != 1)):\n",
    "                    out_num = length_check * result_temp\n",
    "                    out_line = result_temp * line[position_check:position_check+length_check]\n",
    "    return out_line"
   ]
  },
  {
   "cell_type": "code",
   "execution_count": 55,
   "metadata": {},
   "outputs": [
    {
     "data": {
      "text/plain": [
       "'abcabc'"
      ]
     },
     "execution_count": 55,
     "metadata": {},
     "output_type": "execute_result"
    }
   ],
   "source": [
    "repeat_inside(\"abcabcabab\")"
   ]
  },
  {
   "cell_type": "markdown",
   "metadata": {},
   "source": [
    "# 采用正则表达式"
   ]
  },
  {
   "cell_type": "code",
   "execution_count": 59,
   "metadata": {},
   "outputs": [],
   "source": [
    "import re\n",
    "def repeat_inside2(line):\n",
    "    matches = re.findall(r'(?=((.+?)\\2+))',line)\n",
    "    print(matches)\n",
    "    return max((m[0] for m in matches), key = len, default = '')"
   ]
  },
  {
   "cell_type": "code",
   "execution_count": 62,
   "metadata": {},
   "outputs": [
    {
     "name": "stdout",
     "output_type": "stream",
     "text": [
      "[('bb', 'b'), ('dfdf', 'df'), ('aa', 'a')]\n"
     ]
    },
    {
     "data": {
      "text/plain": [
       "'dfdf'"
      ]
     },
     "execution_count": 62,
     "metadata": {},
     "output_type": "execute_result"
    }
   ],
   "source": [
    "repeat_inside2(\"fdjaklfjbbioeqhdfdfaab\")"
   ]
  },
  {
   "cell_type": "code",
   "execution_count": null,
   "metadata": {},
   "outputs": [],
   "source": []
  }
 ],
 "metadata": {
  "kernelspec": {
   "display_name": "Python 3",
   "language": "python",
   "name": "python3"
  },
  "language_info": {
   "codemirror_mode": {
    "name": "ipython",
    "version": 3
   },
   "file_extension": ".py",
   "mimetype": "text/x-python",
   "name": "python",
   "nbconvert_exporter": "python",
   "pygments_lexer": "ipython3",
   "version": "3.6.4"
  }
 },
 "nbformat": 4,
 "nbformat_minor": 2
}
