{
 "cells": [
  {
   "cell_type": "code",
   "execution_count": 13,
   "metadata": {},
   "outputs": [],
   "source": [
    "list0   = ['','I','II','III','IV','V','VI','VII','VIII','IX','X']\n",
    "list10  = ['','X','XX','XXX','XL','L','LX','LXX','LXXX','XC','C']\n",
    "list100 = ['','C','CC','CCC','CD','D','DC','DCC','DCCC','CM','M']\n",
    "list1000= ['','M','MM','MMM']"
   ]
  },
  {
   "cell_type": "code",
   "execution_count": 18,
   "metadata": {},
   "outputs": [],
   "source": [
    "def checkio(value):\n",
    "    str1000 = list1000[value // 1000]\n",
    "    str100 = list100[value%1000 // 100]\n",
    "    str10 = list10[value%100 // 10]\n",
    "    str1 = list0[value%10]\n",
    "    return (str1000+str100+str10+str1)"
   ]
  },
  {
   "cell_type": "code",
   "execution_count": 19,
   "metadata": {},
   "outputs": [
    {
     "data": {
      "text/plain": [
       "'MCXXXI'"
      ]
     },
     "execution_count": 19,
     "metadata": {},
     "output_type": "execute_result"
    }
   ],
   "source": [
    "checkio(1131)"
   ]
  },
  {
   "cell_type": "code",
   "execution_count": null,
   "metadata": {},
   "outputs": [],
   "source": []
  }
 ],
 "metadata": {
  "kernelspec": {
   "display_name": "Python 3",
   "language": "python",
   "name": "python3"
  },
  "language_info": {
   "codemirror_mode": {
    "name": "ipython",
    "version": 3
   },
   "file_extension": ".py",
   "mimetype": "text/x-python",
   "name": "python",
   "nbconvert_exporter": "python",
   "pygments_lexer": "ipython3",
   "version": "3.6.4"
  }
 },
 "nbformat": 4,
 "nbformat_minor": 2
}
