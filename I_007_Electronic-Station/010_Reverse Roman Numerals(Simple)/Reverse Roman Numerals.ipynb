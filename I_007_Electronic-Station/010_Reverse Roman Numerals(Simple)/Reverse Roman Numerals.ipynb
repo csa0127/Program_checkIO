{
 "cells": [
  {
   "cell_type": "code",
   "execution_count": 322,
   "metadata": {},
   "outputs": [],
   "source": [
    "import re\n",
    "dict1 = {\"I\":1,\"II\":2,\"III\":3,\"IV\":4,\"V\":5,\"VI\":6,\"VII\":7,\"VIII\":8,\"IX\":9,\"\":0}\n",
    "dict10 = {\"X\":10,\"XX\":20,\"XXX\":30,\"XL\":40,\"L\":50,\"LX\":60,\"LXX\":70,\"LXXX\":80,\"XC\":90,\"\":0}\n",
    "dict100 = {\"C\":100,\"CC\":200,\"CCC\":300,\"CD\":400,\"D\":500,\"DC\":600,\"DCC\":700,\"DCCC\":800,\"CM\":900,\"\":0}\n",
    "dict1000={\"M\":1000,\"MM\":2000,\"MMM\":3000,\"\":0}\n",
    "def reverse_roman(roman_string):\n",
    "    str_temp = roman_string\n",
    "    str1 = \"\".join(re.findall(\"IX|I|V?\",str_temp))\n",
    "    str_temp = str_temp.replace(str1,\"\")\n",
    "    str10 = \"\".join(re.findall(\"XC|X|L?\",str_temp))\n",
    "    str_temp = str_temp.replace(str10,\"\")\n",
    "    str100 = \"\".join(re.findall(\"CM|C|D?\",str_temp))\n",
    "    str_temp = str_temp.replace(str100,\"\")\n",
    "    print(str_temp,str100,str10,str1)\n",
    "    return dict1000[str_temp]+dict100[str100]+dict10[str10]+dict1[str1]"
   ]
  },
  {
   "cell_type": "code",
   "execution_count": 328,
   "metadata": {},
   "outputs": [
    {
     "name": "stdout",
     "output_type": "stream",
     "text": [
      "M CM XC VII\n"
     ]
    },
    {
     "data": {
      "text/plain": [
       "1997"
      ]
     },
     "execution_count": 328,
     "metadata": {},
     "output_type": "execute_result"
    }
   ],
   "source": [
    "reverse_roman(\"MCMXCVII\")"
   ]
  },
  {
   "cell_type": "code",
   "execution_count": null,
   "metadata": {},
   "outputs": [],
   "source": []
  },
  {
   "cell_type": "code",
   "execution_count": null,
   "metadata": {},
   "outputs": [],
   "source": []
  }
 ],
 "metadata": {
  "kernelspec": {
   "display_name": "Python 3",
   "language": "python",
   "name": "python3"
  },
  "language_info": {
   "codemirror_mode": {
    "name": "ipython",
    "version": 3
   },
   "file_extension": ".py",
   "mimetype": "text/x-python",
   "name": "python",
   "nbconvert_exporter": "python",
   "pygments_lexer": "ipython3",
   "version": "3.6.4"
  }
 },
 "nbformat": 4,
 "nbformat_minor": 2
}
