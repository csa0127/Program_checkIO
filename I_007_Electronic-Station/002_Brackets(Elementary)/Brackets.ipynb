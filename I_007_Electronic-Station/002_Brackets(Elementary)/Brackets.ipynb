{
 "cells": [
  {
   "cell_type": "code",
   "execution_count": 56,
   "metadata": {},
   "outputs": [
    {
     "data": {
      "text/plain": [
       "'((1+(1+1))))'"
      ]
     },
     "execution_count": 56,
     "metadata": {},
     "output_type": "execute_result"
    }
   ],
   "source": [
    "str1 =\"(((1+(1+1))))]\"\n",
    "str1[1:-1]"
   ]
  },
  {
   "cell_type": "code",
   "execution_count": 59,
   "metadata": {},
   "outputs": [],
   "source": [
    "def checkio (exp):\n",
    "    str2 = ''\n",
    "    for i in exp:\n",
    "        if i in '({[':\n",
    "            str2 += i\n",
    "        elif str2 == '' and i in ')]}':\n",
    "            return False\n",
    "        else:\n",
    "            if i == ')':\n",
    "                if str2[-1] != '(': return False\n",
    "                str2 = str2[0:-1]\n",
    "            elif i == ']':\n",
    "                if str2[-1] != '[': return False\n",
    "                str2 = str2[0:-1]\n",
    "            elif i == '}':\n",
    "                if str2[-1] != '{': return False\n",
    "                str2 = str2[0:-1]\n",
    "    if str2 == '': return True\n",
    "    else: return False"
   ]
  },
  {
   "cell_type": "code",
   "execution_count": 60,
   "metadata": {},
   "outputs": [
    {
     "data": {
      "text/plain": [
       "False"
      ]
     },
     "execution_count": 60,
     "metadata": {},
     "output_type": "execute_result"
    }
   ],
   "source": [
    "checkio(str1)"
   ]
  },
  {
   "cell_type": "markdown",
   "metadata": {},
   "source": [
    "# another simple solution"
   ]
  },
  {
   "cell_type": "code",
   "execution_count": 61,
   "metadata": {},
   "outputs": [],
   "source": [
    "def checkio2(expression):\n",
    "    line = \"\".join(i for i in expression if i in \"(){}[]\" )    \n",
    "    while \"{}\" in line or \"[]\" in line or \"()\" in line:        \n",
    "        line = line.replace(\"()\",\"\").replace(\"{}\",\"\").replace(\"[]\",\"\")\n",
    "    if line == \"\":\n",
    "        return True\n",
    "    return False"
   ]
  },
  {
   "cell_type": "code",
   "execution_count": null,
   "metadata": {},
   "outputs": [],
   "source": []
  }
 ],
 "metadata": {
  "kernelspec": {
   "display_name": "Python 3",
   "language": "python",
   "name": "python3"
  },
  "language_info": {
   "codemirror_mode": {
    "name": "ipython",
    "version": 3
   },
   "file_extension": ".py",
   "mimetype": "text/x-python",
   "name": "python",
   "nbconvert_exporter": "python",
   "pygments_lexer": "ipython3",
   "version": "3.6.4"
  }
 },
 "nbformat": 4,
 "nbformat_minor": 2
}
