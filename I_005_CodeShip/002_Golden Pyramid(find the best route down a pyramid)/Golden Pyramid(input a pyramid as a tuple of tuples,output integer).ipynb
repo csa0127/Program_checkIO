{
 "cells": [
  {
   "cell_type": "code",
   "execution_count": 71,
   "metadata": {},
   "outputs": [],
   "source": [
    "py1=(\n",
    "    (1,),\n",
    "    (2, 3),\n",
    "    (3, 3, 1),\n",
    "    (3, 1, 5, 4),\n",
    "    (3, 1, 3, 1, 3),\n",
    "    (2, 2, 2, 2, 2, 2),\n",
    "    (5, 6, 4, 5, 6, 4, 3)\n",
    ")"
   ]
  },
  {
   "cell_type": "code",
   "execution_count": 72,
   "metadata": {},
   "outputs": [],
   "source": [
    "def count_gold(py1):\n",
    "    py2=list()\n",
    "    py2.append([list(x) for x in py1])\n",
    "    py2=py2[0]\n",
    "    for row in sorted(range(0,len(py1)),reverse=True):\n",
    "        if row == 0: break\n",
    "        for col in range(0,len(py2[row-1])):\n",
    "            py2[row-1][col] += max(py2[row][col],py2[row][col+1])\n",
    "    return py2[0][0]\n",
    "        \n",
    "        "
   ]
  },
  {
   "cell_type": "code",
   "execution_count": 73,
   "metadata": {},
   "outputs": [
    {
     "data": {
      "text/plain": [
       "23"
      ]
     },
     "execution_count": 73,
     "metadata": {},
     "output_type": "execute_result"
    }
   ],
   "source": [
    "count_gold(py1)"
   ]
  },
  {
   "cell_type": "code",
   "execution_count": 74,
   "metadata": {},
   "outputs": [],
   "source": [
    "from functools import reduce\n",
    "def count_gold1(p):\n",
    "    return reduce(lambda x,y: tuple(i+max(x[n], x[n+1]) for n,i in enumerate(y)), p[::-1])[0]"
   ]
  },
  {
   "cell_type": "code",
   "execution_count": 75,
   "metadata": {},
   "outputs": [
    {
     "data": {
      "text/plain": [
       "23"
      ]
     },
     "execution_count": 75,
     "metadata": {},
     "output_type": "execute_result"
    }
   ],
   "source": [
    "count_gold1(py1)"
   ]
  },
  {
   "cell_type": "code",
   "execution_count": 79,
   "metadata": {},
   "outputs": [
    {
     "data": {
      "text/plain": [
       "((5, 6, 4, 5, 6, 4, 3),\n",
       " (2, 2, 2, 2, 2, 2),\n",
       " (3, 1, 3, 1, 3),\n",
       " (3, 1, 5, 4),\n",
       " (3, 3, 1),\n",
       " (2, 3),\n",
       " (1,))"
      ]
     },
     "execution_count": 79,
     "metadata": {},
     "output_type": "execute_result"
    }
   ],
   "source": [
    "py1[::-1]"
   ]
  },
  {
   "cell_type": "code",
   "execution_count": null,
   "metadata": {},
   "outputs": [],
   "source": []
  }
 ],
 "metadata": {
  "kernelspec": {
   "display_name": "Python 3",
   "language": "python",
   "name": "python3"
  },
  "language_info": {
   "codemirror_mode": {
    "name": "ipython",
    "version": 3
   },
   "file_extension": ".py",
   "mimetype": "text/x-python",
   "name": "python",
   "nbconvert_exporter": "python",
   "pygments_lexer": "ipython3",
   "version": "3.6.4"
  }
 },
 "nbformat": 4,
 "nbformat_minor": 2
}
