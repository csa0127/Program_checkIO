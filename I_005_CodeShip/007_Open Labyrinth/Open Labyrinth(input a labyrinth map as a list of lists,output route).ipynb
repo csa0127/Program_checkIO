{
 "cells": [
  {
   "cell_type": "markdown",
   "metadata": {},
   "source": [
    "# Solution for shortest way to goal"
   ]
  },
  {
   "cell_type": "code",
   "execution_count": 54,
   "metadata": {},
   "outputs": [],
   "source": [
    "maze = [\n",
    "    [1, 1, 1, 1, 1, 1, 1, 1, 1, 1, 1, 1],\n",
    "    [1, 0, 0, 0, 0, 0, 0, 0, 0, 0, 0, 1],\n",
    "    [1, 0, 1, 1, 1, 1, 1, 1, 0, 1, 1, 1],\n",
    "    [1, 0, 1, 0, 0, 0, 0, 0, 0, 0, 0, 1],\n",
    "    [1, 0, 1, 0, 1, 1, 1, 1, 1, 1, 0, 1],\n",
    "    [1, 0, 1, 0, 1, 0, 0, 0, 0, 0, 0, 1],\n",
    "    [1, 0, 0, 0, 1, 1, 0, 1, 1, 1, 0, 1],\n",
    "    [1, 0, 1, 0, 0, 0, 0, 1, 0, 1, 1, 1],\n",
    "    [1, 0, 1, 1, 0, 1, 0, 0, 0, 0, 0, 1],\n",
    "    [1, 0, 1, 0, 0, 1, 1, 1, 1, 1, 0, 1],\n",
    "    [1, 0, 0, 0, 1, 1, 0, 0, 0, 0, 0, 1],\n",
    "    [1, 1, 1, 1, 1, 1, 1, 1, 1, 1, 1, 1]]"
   ]
  },
  {
   "cell_type": "code",
   "execution_count": 55,
   "metadata": {},
   "outputs": [],
   "source": [
    "def maze2graph(maze):\n",
    "    height = len(maze)\n",
    "    width = len(maze[0])\n",
    "    graph = {(i, j): [] for j in range(width) for i in range(height) if not maze[i][j]}\n",
    "    for row,col in graph.keys():\n",
    "        if(row < height-1 and not maze[row+1][col]):\n",
    "            graph[(row,col)].append((\"S\",(row+1,col)))\n",
    "            graph[(row+1,col)].append((\"N\",(row,col)))\n",
    "        if(col < width-1 and not maze[row][col+1]):\n",
    "            graph[(row,col)].append((\"E\",(row,col+1)))\n",
    "            graph[(row,col+1)].append((\"W\",(row,col)))\n",
    "    return graph"
   ]
  },
  {
   "cell_type": "code",
   "execution_count": 56,
   "metadata": {},
   "outputs": [],
   "source": [
    "from collections import deque\n",
    "def find_path_bfs(maze):\n",
    "    start, goal = (1, 1), (len(maze) - 2, len(maze[0]) - 2)\n",
    "    queue = deque([(\"\", start)])\n",
    "    visited = set()\n",
    "    graph = maze2graph(maze)\n",
    "    while queue:\n",
    "        #print(queue)\n",
    "        path, current = queue.popleft()\n",
    "        if current == goal:\n",
    "            return path\n",
    "        if current in visited:\n",
    "            continue\n",
    "        visited.add(current)\n",
    "        for direction, neighbour in graph[current]:\n",
    "            queue.append((path + direction, neighbour))\n",
    "    return \"NO WAY!\""
   ]
  },
  {
   "cell_type": "code",
   "execution_count": 57,
   "metadata": {},
   "outputs": [
    {
     "data": {
      "text/plain": [
       "'SSSSSEESEEESEEEESS'"
      ]
     },
     "execution_count": 57,
     "metadata": {},
     "output_type": "execute_result"
    }
   ],
   "source": [
    "find_path_bfs(maze)"
   ]
  },
  {
   "cell_type": "code",
   "execution_count": null,
   "metadata": {},
   "outputs": [],
   "source": []
  },
  {
   "cell_type": "markdown",
   "metadata": {},
   "source": [
    "# Solution if not consider the calculation load."
   ]
  },
  {
   "cell_type": "code",
   "execution_count": 41,
   "metadata": {},
   "outputs": [],
   "source": [
    "def checkio(data, x=1, y=1, out=\"\", r=__import__('random').randint):\n",
    "    while not (x, y) == (10, 10):\n",
    "        d, a, b = [('S', x+1, y), ('N', x-1, y), ('W', x, y-1), ('E', x, y+1)][r(0, 3)]\n",
    "        if 0 <= a < 12 and 0 <= b < 12 and not data[a][b]: x, y, out = a, b, out+d\n",
    "    return out"
   ]
  },
  {
   "cell_type": "code",
   "execution_count": 49,
   "metadata": {},
   "outputs": [
    {
     "data": {
      "text/plain": [
       "1"
      ]
     },
     "execution_count": 49,
     "metadata": {},
     "output_type": "execute_result"
    }
   ],
   "source": []
  },
  {
   "cell_type": "code",
   "execution_count": null,
   "metadata": {},
   "outputs": [],
   "source": [
    "\n"
   ]
  }
 ],
 "metadata": {
  "kernelspec": {
   "display_name": "Python 3",
   "language": "python",
   "name": "python3"
  },
  "language_info": {
   "codemirror_mode": {
    "name": "ipython",
    "version": 3
   },
   "file_extension": ".py",
   "mimetype": "text/x-python",
   "name": "python",
   "nbconvert_exporter": "python",
   "pygments_lexer": "ipython3",
   "version": "3.6.4"
  }
 },
 "nbformat": 4,
 "nbformat_minor": 2
}
