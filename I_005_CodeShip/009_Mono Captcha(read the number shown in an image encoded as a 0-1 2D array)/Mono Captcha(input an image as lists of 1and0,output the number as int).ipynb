{
 "cells": [
  {
   "cell_type": "code",
   "execution_count": 86,
   "metadata": {},
   "outputs": [],
   "source": [
    "FONT = (\"--X--XXX-XXX-X-X-XXX--XX-XXX-XXX--XX-XX--\"\n",
    "        \"-XX----X---X-X-X-X---X-----X-X-X-X-X-X-X-\"\n",
    "        \"--X---XX--X--XXX-XX--XXX--X--XXX-XXX-X-X-\"\n",
    "        \"--X--X-----X---X---X-X-X-X---X-X---X-X-X-\"\n",
    "        \"--X--XXX-XXX---X-XX---XX-X---XXX-XX---XX-\")\n",
    "numbers = {'010110010010010':'1','111001011100111':'2','111001010001111':'3',\n",
    "          '101101111001001':'4','111100110001110':'5','011100111101011':'6',\n",
    "          '111001010100100':'7','111101111101111':'8','011101111001110':'9','110101101101011':'0'}"
   ]
  },
  {
   "cell_type": "code",
   "execution_count": 87,
   "metadata": {},
   "outputs": [],
   "source": [
    "image = [[0, 1, 1, 1, 0, 0, 1, 1, 0, 1, 0, 1, 0],\n",
    "         [0, 0, 0, 1, 0, 1, 0, 1, 0, 1, 0, 1, 0],\n",
    "         [0, 0, 1, 0, 0, 1, 1, 1, 0, 1, 1, 1, 0],\n",
    "         [0, 0, 0, 1, 0, 0, 0, 1, 0, 0, 0, 1, 0],\n",
    "         [0, 1, 1, 1, 0, 1, 1, 0, 0, 0, 0, 1, 0]]\n"
   ]
  },
  {
   "cell_type": "code",
   "execution_count": 88,
   "metadata": {},
   "outputs": [],
   "source": [
    "def checkio(image):\n",
    "    valuestr = ''\n",
    "    for i in range(0,len(image[0])//4):\n",
    "        number = []\n",
    "        for j in range(0,len(image)):\n",
    "            number.append(\"\".join(map(lambda x:str(x),image[j][i*4+1:i*4+4])))\n",
    "            number1 = \"\".join(number)\n",
    "        for k in numbers.keys():\n",
    "            count = 0\n",
    "            for cnt in range(0,15):\n",
    "                if(not (k[cnt] is number1[cnt])): count += 1\n",
    "            if(count < 2): valuestr += numbers[k] \n",
    "    return int(valuestr)\n",
    "\n"
   ]
  },
  {
   "cell_type": "code",
   "execution_count": 89,
   "metadata": {},
   "outputs": [
    {
     "data": {
      "text/plain": [
       "394"
      ]
     },
     "execution_count": 89,
     "metadata": {},
     "output_type": "execute_result"
    }
   ],
   "source": [
    "checkio(image)"
   ]
  },
  {
   "cell_type": "code",
   "execution_count": null,
   "metadata": {},
   "outputs": [],
   "source": []
  },
  {
   "cell_type": "code",
   "execution_count": null,
   "metadata": {},
   "outputs": [],
   "source": []
  }
 ],
 "metadata": {
  "kernelspec": {
   "display_name": "Python 3",
   "language": "python",
   "name": "python3"
  },
  "language_info": {
   "codemirror_mode": {
    "name": "ipython",
    "version": 3
   },
   "file_extension": ".py",
   "mimetype": "text/x-python",
   "name": "python",
   "nbconvert_exporter": "python",
   "pygments_lexer": "ipython3",
   "version": "3.6.4"
  }
 },
 "nbformat": 4,
 "nbformat_minor": 2
}
