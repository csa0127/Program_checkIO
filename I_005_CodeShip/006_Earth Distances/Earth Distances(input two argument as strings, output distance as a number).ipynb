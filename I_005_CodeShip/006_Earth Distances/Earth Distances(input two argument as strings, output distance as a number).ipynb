{
 "cells": [
  {
   "cell_type": "code",
   "execution_count": 132,
   "metadata": {},
   "outputs": [],
   "source": [
    "import math\n",
    "import re\n",
    "def distance(first,second):\n",
    "    #calculate the axis\n",
    "    data1 = re.findall(r\"\\d+\\.?\\d*\",first)\n",
    "    data2 = re.findall(r\"\\d+\\.?\\d*\",second)\n",
    "    str1 = first.split(\"″\")\n",
    "    str2 = second.split(\"″\")\n",
    "    lat1 = math.radians((int(data1[0]) + int(data1[1])/60 + int(data1[2])/3600))\n",
    "    lon1 = math.radians((int(data1[3]) + int(data1[4])/60 + int(data1[5])/3600))\n",
    "    lat2 = math.radians((int(data2[0]) + int(data2[1])/60 + int(data2[2])/3600))\n",
    "    lon2 = math.radians((int(data2[3]) + int(data2[4])/60 + int(data2[5])/3600))\n",
    "    if str1[1][0] == 'S': lat1=-lat1\n",
    "    if str1[2] == 'W':lon1 = -lon1\n",
    "    if str2[1][0] == 'S':lat2 = -lat2\n",
    "    if str2[2] == 'W':lon2 = -lon2 \n",
    "    \n",
    "    C=math.sin(lat1)*math.sin(lat2) + math.cos(lat1)*math.cos(lat2)*math.cos(lon1-lon2)\n",
    "    return (round(R*math.acos(C),1))"
   ]
  },
  {
   "cell_type": "code",
   "execution_count": 133,
   "metadata": {},
   "outputs": [
    {
     "data": {
      "text/plain": [
       "15990.2"
      ]
     },
     "execution_count": 133,
     "metadata": {},
     "output_type": "execute_result"
    }
   ],
   "source": [
    "distance(u\"33°51′31″S, 151°12′51″E\", u\"40°46′22″N 73°59′3″W\")"
   ]
  },
  {
   "cell_type": "markdown",
   "metadata": {},
   "source": [
    "# Normal Calculation(But result is not the same as that on checkio)"
   ]
  },
  {
   "cell_type": "code",
   "execution_count": 110,
   "metadata": {},
   "outputs": [],
   "source": [
    "from math import cos, asin, sqrt\n",
    "def distance2(lat1, lon1, lat2, lon2):\n",
    "    p = 0.017453292519943295     #Pi/180\n",
    "    a = 0.5 - cos((lat2 - lat1) * p)/2 + cos(lat1 * p) * cos(lat2 * p) * (1 - cos((lon2 - lon1) * p)) / 2\n",
    "    return 12742 * asin(sqrt(a)) #2*R*asin...\n"
   ]
  },
  {
   "cell_type": "code",
   "execution_count": null,
   "metadata": {},
   "outputs": [],
   "source": []
  }
 ],
 "metadata": {
  "kernelspec": {
   "display_name": "Python 3",
   "language": "python",
   "name": "python3"
  },
  "language_info": {
   "codemirror_mode": {
    "name": "ipython",
    "version": 3
   },
   "file_extension": ".py",
   "mimetype": "text/x-python",
   "name": "python",
   "nbconvert_exporter": "python",
   "pygments_lexer": "ipython3",
   "version": "3.6.4"
  }
 },
 "nbformat": 4,
 "nbformat_minor": 2
}
