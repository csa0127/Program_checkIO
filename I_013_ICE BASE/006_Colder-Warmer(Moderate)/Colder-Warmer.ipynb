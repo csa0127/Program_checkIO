{
 "cells": [
  {
   "cell_type": "code",
   "execution_count": null,
   "metadata": {},
   "outputs": [],
   "source": []
  },
  {
   "cell_type": "markdown",
   "metadata": {},
   "source": [
    "for checking"
   ]
  },
  {
   "cell_type": "code",
   "execution_count": 4,
   "metadata": {},
   "outputs": [],
   "source": [
    "from math import hypot\n",
    "MAX_STEP = 12\n",
    "\n",
    "def check_solution(func, goal, start):\n",
    "    prev_steps = [start]\n",
    "    for step in range(MAX_STEP):\n",
    "        row, col = func([s[:] for s in prev_steps])\n",
    "        if [row, col] == goal:\n",
    "            return True\n",
    "        if 10 <= row or 0 > row or 10 <= col or 0 > col:\n",
    "            print(\"You gave wrong coordinates.\")\n",
    "            return False\n",
    "        prev_distance = hypot(prev_steps[-1][0] - goal[0], prev_steps[-1][1] - goal[1])\n",
    "        distance = hypot(row - goal[0], col - goal[1])\n",
    "        alteration = 0 if prev_distance == distance else (1 if prev_distance > distance else -1)\n",
    "        prev_steps.append([row, col, alteration])\n",
    "    print(\"Too many steps\")\n",
    "    return False"
   ]
  },
  {
   "cell_type": "code",
   "execution_count": 15,
   "metadata": {},
   "outputs": [
    {
     "data": {
      "text/plain": [
       "True"
      ]
     },
     "execution_count": 15,
     "metadata": {},
     "output_type": "execute_result"
    }
   ],
   "source": [
    "check_solution(checkio1,[0,1],[5,5,0])"
   ]
  },
  {
   "cell_type": "markdown",
   "metadata": {},
   "source": [
    "### every time 12 steps to check, smart"
   ]
  },
  {
   "cell_type": "code",
   "execution_count": 14,
   "metadata": {},
   "outputs": [],
   "source": [
    "def checkio1(steps):\n",
    "    if len(steps) == 12:\n",
    "        x = sum([x[2]+1 for x in steps[2:7]])\n",
    "        y = sum([x[2]+1 for x in steps[7:12]])\n",
    "        return [x if x < 10 else 9, y if y < 10 else 9]\n",
    "    r = \"0020406080909294969899\"\n",
    "    #print(steps)\n",
    "    return [int(r[2*len(steps)-2]), int(r[2*len(steps)-1])]"
   ]
  },
  {
   "cell_type": "code",
   "execution_count": null,
   "metadata": {},
   "outputs": [],
   "source": []
  },
  {
   "cell_type": "code",
   "execution_count": null,
   "metadata": {},
   "outputs": [],
   "source": []
  },
  {
   "cell_type": "code",
   "execution_count": null,
   "metadata": {},
   "outputs": [],
   "source": []
  }
 ],
 "metadata": {
  "kernelspec": {
   "display_name": "Python 3",
   "language": "python",
   "name": "python3"
  },
  "language_info": {
   "codemirror_mode": {
    "name": "ipython",
    "version": 3
   },
   "file_extension": ".py",
   "mimetype": "text/x-python",
   "name": "python",
   "nbconvert_exporter": "python",
   "pygments_lexer": "ipython3",
   "version": "3.6.4"
  }
 },
 "nbformat": 4,
 "nbformat_minor": 2
}
