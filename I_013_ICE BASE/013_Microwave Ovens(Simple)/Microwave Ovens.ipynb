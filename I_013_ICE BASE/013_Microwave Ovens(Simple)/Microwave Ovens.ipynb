{
 "cells": [
  {
   "cell_type": "markdown",
   "metadata": {},
   "source": [
    "Input: methods of the RemoteControl class and time.\n",
    "\n",
    "Output: time on the display of the microwave."
   ]
  },
  {
   "cell_type": "code",
   "execution_count": null,
   "metadata": {},
   "outputs": [],
   "source": []
  },
  {
   "cell_type": "code",
   "execution_count": 168,
   "metadata": {},
   "outputs": [],
   "source": [
    "class MicrowaveBase:\n",
    "    pass\n",
    "\n",
    "class Microwave1(MicrowaveBase):\n",
    "    def __init__(self):\n",
    "        pass\n",
    "    def show_time(self,time):\n",
    "        return '_'+time[1:]\n",
    "\n",
    "class Microwave2(MicrowaveBase):\n",
    "    def __init__(self):\n",
    "        pass\n",
    "    def show_time(self,time):\n",
    "        return time[0:-1]+'_'\n",
    "\n",
    "class Microwave3(MicrowaveBase):\n",
    "    def __init__(self):\n",
    "        pass\n",
    "    def show_time(self,time):\n",
    "        return time\n",
    "\n",
    "class RemoteControl:\n",
    "    def __init__(self,microwave):\n",
    "        self.time = '00:00'\n",
    "        self.name = microwave\n",
    "        \n",
    "    def time_limit(self):\n",
    "        if(int(self.time[0:-3]) >= 90): self.time = '90:00' \n",
    "        elif (int(self.time[0:2])< 0): self.time = '00:00' \n",
    "        return self.time\n",
    "        \n",
    "    def set_time(self,time):\n",
    "        self.time = time\n",
    "        self.time = self.time_limit()\n",
    "    \n",
    "    def add_time(self,time):\n",
    "        if time[-1] == 's':\n",
    "            m = int(time[0:-1]) // 60\n",
    "            s = int(time[0:-1]) % 60\n",
    "            m_new = int(self.time[0:2]) + m\n",
    "            s_new = int(self.time[3:5]) + s\n",
    "            if(s_new >= 60):\n",
    "                s_new -= 60\n",
    "                m_new += 1\n",
    "            \n",
    "        elif time[-1] == 'm':\n",
    "            m_new = int(self.time[0:2]) + int(time[0:-1])\n",
    "            s_new = int(self.time[3:5])\n",
    "        if(m_new < 10) : m_str = '0' + str(m_new)\n",
    "        else: m_str = str(m_new)\n",
    "        if(s_new < 10) : s_str = '0'+ str(s_new)\n",
    "        else: s_str = str(s_new)\n",
    "            \n",
    "        self.time = m_str + ':' + s_str  \n",
    "        \n",
    "        print(self.time)\n",
    "        self.time = self.time_limit()\n",
    "        print(self.time)\n",
    "    def del_time(self,time):\n",
    "        if time[-1] == 's':\n",
    "            m = int(time[0:-1]) // 60\n",
    "            s = int(time[0:-1]) % 60\n",
    "            m_new = int(self.time[0:2]) - m\n",
    "            s_new = int(self.time[3:5]) - s\n",
    "            if(s_new < 0):\n",
    "                s_new += 60\n",
    "                m_new -= 1\n",
    "            \n",
    "        elif time[-1] == 'm':\n",
    "            m_new = int(self.time[0:2]) - int(time[0:-1])\n",
    "            s_new = int(self.time[3:5])\n",
    "            \n",
    "        if(0<=m_new < 10) : m_str = '0' + str(m_new)\n",
    "        else: m_str = str(m_new)\n",
    "        if(s_new < 10) : s_str = '0'+ str(s_new)\n",
    "        else: s_str = str(s_new)\n",
    "            \n",
    "        self.time = m_str + ':' + s_str    \n",
    "        self.time = self.time_limit()\n",
    "        \n",
    "        \n",
    "    def show_time(self):\n",
    "        return self.name.show_time(self.time)\n"
   ]
  },
  {
   "cell_type": "code",
   "execution_count": 169,
   "metadata": {},
   "outputs": [
    {
     "name": "stdout",
     "output_type": "stream",
     "text": [
      "90:30\n",
      "90:00\n",
      "110:00\n",
      "90:00\n"
     ]
    },
    {
     "data": {
      "text/plain": [
       "'90:0_'"
      ]
     },
     "execution_count": 169,
     "metadata": {},
     "output_type": "execute_result"
    }
   ],
   "source": [
    "microwave_2 = Microwave2()\n",
    "rc_2 = RemoteControl(microwave_2)\n",
    "rc_2.set_time(\"89:00\")\n",
    "rc_2.add_time(\"90s\")\n",
    "rc_2.add_time(\"20m\")\n",
    "rc_2.show_time()"
   ]
  },
  {
   "cell_type": "code",
   "execution_count": null,
   "metadata": {},
   "outputs": [],
   "source": []
  },
  {
   "cell_type": "code",
   "execution_count": null,
   "metadata": {},
   "outputs": [],
   "source": []
  }
 ],
 "metadata": {
  "kernelspec": {
   "display_name": "Python 3",
   "language": "python",
   "name": "python3"
  },
  "language_info": {
   "codemirror_mode": {
    "name": "ipython",
    "version": 3
   },
   "file_extension": ".py",
   "mimetype": "text/x-python",
   "name": "python",
   "nbconvert_exporter": "python",
   "pygments_lexer": "ipython3",
   "version": "3.6.4"
  }
 },
 "nbformat": 4,
 "nbformat_minor": 2
}
