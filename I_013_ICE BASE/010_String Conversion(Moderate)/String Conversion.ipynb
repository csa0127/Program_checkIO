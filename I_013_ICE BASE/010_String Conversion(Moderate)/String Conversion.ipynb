{
 "cells": [
  {
   "cell_type": "markdown",
   "metadata": {},
   "source": [
    "Input: two arguments, two strings.\n",
    "\n",
    "Output: int, minimum number of operations."
   ]
  },
  {
   "cell_type": "code",
   "execution_count": 4,
   "metadata": {},
   "outputs": [],
   "source": [
    "line1,line2 = 'line1', '1enil'"
   ]
  },
  {
   "cell_type": "code",
   "execution_count": 11,
   "metadata": {},
   "outputs": [],
   "source": [
    "def steps_to_convert(line1, line2):\n",
    "    if line1 == line2 == '': return 0\n",
    "    if line1 == '': return len(line2)\n",
    "    if line2 == '': return len(line1)\n",
    "    \n",
    "    if(line1[0] == line2[0]): return steps_to_convert(line1[1:],line2[1:])\n",
    "    \n",
    "    n1 = steps_to_convert(line1[1:], line2) #delete\n",
    "    n2 = steps_to_convert(line2[0]+line1[1:], line2) #replace\n",
    "    n3 = steps_to_convert(line2[0]+line1,line2) #add\n",
    "    \n",
    "    return min(n1,n2,n3)+1"
   ]
  },
  {
   "cell_type": "code",
   "execution_count": 12,
   "metadata": {},
   "outputs": [
    {
     "data": {
      "text/plain": [
       "4"
      ]
     },
     "execution_count": 12,
     "metadata": {},
     "output_type": "execute_result"
    }
   ],
   "source": [
    "steps_to_convert(line1,line2)"
   ]
  },
  {
   "cell_type": "code",
   "execution_count": null,
   "metadata": {},
   "outputs": [],
   "source": []
  }
 ],
 "metadata": {
  "kernelspec": {
   "display_name": "Python 3",
   "language": "python",
   "name": "python3"
  },
  "language_info": {
   "codemirror_mode": {
    "name": "ipython",
    "version": 3
   },
   "file_extension": ".py",
   "mimetype": "text/x-python",
   "name": "python",
   "nbconvert_exporter": "python",
   "pygments_lexer": "ipython3",
   "version": "3.6.4"
  }
 },
 "nbformat": 4,
 "nbformat_minor": 2
}
