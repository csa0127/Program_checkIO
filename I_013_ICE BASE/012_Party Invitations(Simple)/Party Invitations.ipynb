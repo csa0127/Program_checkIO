{
 "cells": [
  {
   "cell_type": "markdown",
   "metadata": {},
   "source": [
    "Input: The Party class methods and friends.\n",
    "\n",
    "Output: The text of the last invite received by a person."
   ]
  },
  {
   "cell_type": "code",
   "execution_count": null,
   "metadata": {},
   "outputs": [],
   "source": []
  },
  {
   "cell_type": "code",
   "execution_count": 45,
   "metadata": {},
   "outputs": [],
   "source": [
    "class Friend:\n",
    "    def __init__(self,friendName):\n",
    "        self.invite = 'No party...'\n",
    "        \n",
    "    def show_invite(self):\n",
    "        return self.invite\n",
    "    \n",
    "class Party:\n",
    "    def __init__(self,partyName):\n",
    "        self.partyName = partyName\n",
    "        self.obAddress = []\n",
    "        \n",
    "    def add_friend(self,friend):\n",
    "        self.obAddress.append(friend)\n",
    "        \n",
    "    def del_friend(self,friend):\n",
    "        self.obAddress.remove(friend)\n",
    "    \n",
    "    def send_invites(self,invite):\n",
    "        for address in self.obAddress:\n",
    "            address.invite = self.partyName + ': ' + invite\n",
    "    \n"
   ]
  },
  {
   "cell_type": "code",
   "execution_count": 46,
   "metadata": {},
   "outputs": [
    {
     "data": {
      "text/plain": [
       "True"
      ]
     },
     "execution_count": 46,
     "metadata": {},
     "output_type": "execute_result"
    }
   ],
   "source": [
    "party = Party(\"Midnight Pub\")\n",
    "nick = Friend(\"Nick\")\n",
    "john = Friend(\"John\")\n",
    "lucy = Friend(\"Lucy\")\n",
    "chuck = Friend(\"Chuck\")\n",
    "\n",
    "party.add_friend(nick)\n",
    "party.add_friend(john)\n",
    "party.add_friend(lucy)\n",
    "party.send_invites(\"Friday, 9:00 PM\")\n",
    "party.del_friend(nick)\n",
    "party.send_invites(\"Saturday, 10:00 AM\")\n",
    "party.add_friend(chuck)\n",
    "\n",
    "\n",
    "john.show_invite() == \"Midnight Pub: Saturday, 10:00 AM\"\n",
    "lucy.show_invite() == \"Midnight Pub: Saturday, 10:00 AM\"\n",
    "nick.show_invite() == \"Midnight Pub: Friday, 9:00 PM\"\n",
    "chuck.show_invite() == \"No party...\""
   ]
  },
  {
   "cell_type": "code",
   "execution_count": 42,
   "metadata": {},
   "outputs": [
    {
     "data": {
      "text/plain": [
       "'Midnight Pub: Friday, 9:00 PM'"
      ]
     },
     "execution_count": 42,
     "metadata": {},
     "output_type": "execute_result"
    }
   ],
   "source": []
  },
  {
   "cell_type": "code",
   "execution_count": null,
   "metadata": {},
   "outputs": [],
   "source": []
  }
 ],
 "metadata": {
  "kernelspec": {
   "display_name": "Python 3",
   "language": "python",
   "name": "python3"
  },
  "language_info": {
   "codemirror_mode": {
    "name": "ipython",
    "version": 3
   },
   "file_extension": ".py",
   "mimetype": "text/x-python",
   "name": "python",
   "nbconvert_exporter": "python",
   "pygments_lexer": "ipython3",
   "version": "3.6.4"
  }
 },
 "nbformat": 4,
 "nbformat_minor": 2
}
