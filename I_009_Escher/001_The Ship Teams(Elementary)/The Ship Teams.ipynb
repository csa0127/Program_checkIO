{
 "cells": [
  {
   "cell_type": "markdown",
   "metadata": {},
   "source": [
    "## Solution here(be careful that list.append() return None)"
   ]
  },
  {
   "cell_type": "code",
   "execution_count": 1,
   "metadata": {},
   "outputs": [],
   "source": [
    "dict1 = {\n",
    "        'Smith': 34, \n",
    "        'Wesson': 22, \n",
    "        'Coleman': 45, \n",
    "        'Abrahams': 19}"
   ]
  },
  {
   "cell_type": "code",
   "execution_count": 287,
   "metadata": {},
   "outputs": [],
   "source": [
    "def two_teams(sailors):\n",
    "    list1 = [(list(k for k,v in sailors.items() if (v < 20) or (v > 40)))]\n",
    "    list2 = (list(k for k,v in sailors.items() if (v >= 20) and (v <= 40)))\n",
    "    list2.sort()\n",
    "    list1[0].sort()\n",
    "    list1.append(list2)\n",
    "    return list1\n",
    "        "
   ]
  },
  {
   "cell_type": "code",
   "execution_count": 288,
   "metadata": {},
   "outputs": [
    {
     "data": {
      "text/plain": [
       "[['Abrahams', 'Coleman'], ['Smith', 'Wesson']]"
      ]
     },
     "execution_count": 288,
     "metadata": {},
     "output_type": "execute_result"
    }
   ],
   "source": [
    "two_teams(dict1)"
   ]
  },
  {
   "cell_type": "markdown",
   "metadata": {},
   "source": [
    "## Another solution"
   ]
  },
  {
   "cell_type": "code",
   "execution_count": 290,
   "metadata": {},
   "outputs": [],
   "source": [
    "def two_teams2(sailors):\n",
    "    return [sorted((list(k for k,v in sailors.items() if (v < 20) or (v > 40)))), sorted(list(k for k,v in sailors.items() if (v >= 20) and (v <= 40)))]"
   ]
  },
  {
   "cell_type": "code",
   "execution_count": 291,
   "metadata": {},
   "outputs": [
    {
     "data": {
      "text/plain": [
       "[['Abrahams', 'Coleman'], ['Smith', 'Wesson']]"
      ]
     },
     "execution_count": 291,
     "metadata": {},
     "output_type": "execute_result"
    }
   ],
   "source": [
    "two_teams(dict1)"
   ]
  },
  {
   "cell_type": "code",
   "execution_count": null,
   "metadata": {},
   "outputs": [],
   "source": []
  }
 ],
 "metadata": {
  "kernelspec": {
   "display_name": "Python 3",
   "language": "python",
   "name": "python3"
  },
  "language_info": {
   "codemirror_mode": {
    "name": "ipython",
    "version": 3
   },
   "file_extension": ".py",
   "mimetype": "text/x-python",
   "name": "python",
   "nbconvert_exporter": "python",
   "pygments_lexer": "ipython3",
   "version": "3.6.4"
  }
 },
 "nbformat": 4,
 "nbformat_minor": 2
}
