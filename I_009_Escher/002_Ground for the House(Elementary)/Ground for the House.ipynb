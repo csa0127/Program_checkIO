{
 "cells": [
  {
   "cell_type": "code",
   "execution_count": 225,
   "metadata": {},
   "outputs": [],
   "source": [
    "pla ='''0000\n",
    "0000\n",
    "'''"
   ]
  },
  {
   "cell_type": "code",
   "execution_count": 229,
   "metadata": {},
   "outputs": [],
   "source": [
    "def house(plan):\n",
    "    list1 = plan.split(\"\\n\")\n",
    "    ## from here solve the row\n",
    "    list1.remove(\"\") if \"\" in list1 else list1\n",
    "    list1.remove(\"\") if \"\" in list1 else list1\n",
    "    list11 = []\n",
    "    for i in range(0,len(list1)):\n",
    "        if(list1[i] == '0'*len(list1[i])): pass\n",
    "        else: \n",
    "            list11 = list1[i:]\n",
    "            break\n",
    "    list12 = []\n",
    "    for i in reversed(range(0,len(list11))):\n",
    "        if(list11[i] == '0'*len(list11[i])): pass\n",
    "        else: \n",
    "            list12 = list11[0:i+1]\n",
    "            break\n",
    "    if(list12 == []): return 0\n",
    "    ## from here solve the column\n",
    "    list2 = list(zip(*list12))\n",
    "    result_count_start = 0\n",
    "    result_count = 0\n",
    "    for x in range(0,len(list2)):\n",
    "        if(\"\".join(list2[x]) != \"0\"*len(list2[x])):\n",
    "            result_count_start = x\n",
    "            break\n",
    "    for x in reversed(range(0,len(list2))):\n",
    "        if(\"\".join(list2[x]) != \"0\"*len(list2[x])):\n",
    "            result_count = (x-result_count_start)+1\n",
    "            break\n",
    "    return (result_count * len(list2[0]))"
   ]
  },
  {
   "cell_type": "code",
   "execution_count": 230,
   "metadata": {},
   "outputs": [
    {
     "data": {
      "text/plain": [
       "0"
      ]
     },
     "execution_count": 230,
     "metadata": {},
     "output_type": "execute_result"
    }
   ],
   "source": [
    "house(pla)"
   ]
  },
  {
   "cell_type": "code",
   "execution_count": null,
   "metadata": {},
   "outputs": [],
   "source": []
  }
 ],
 "metadata": {
  "kernelspec": {
   "display_name": "Python 3",
   "language": "python",
   "name": "python3"
  },
  "language_info": {
   "codemirror_mode": {
    "name": "ipython",
    "version": 3
   },
   "file_extension": ".py",
   "mimetype": "text/x-python",
   "name": "python",
   "nbconvert_exporter": "python",
   "pygments_lexer": "ipython3",
   "version": "3.6.4"
  }
 },
 "nbformat": 4,
 "nbformat_minor": 2
}
