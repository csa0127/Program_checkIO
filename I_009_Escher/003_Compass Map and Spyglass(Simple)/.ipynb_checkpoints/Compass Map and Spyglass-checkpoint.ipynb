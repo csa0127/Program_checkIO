{
 "cells": [
  {
   "cell_type": "code",
   "execution_count": 11,
   "metadata": {},
   "outputs": [],
   "source": [
    "nav = [[ 0,  0, 0,  0,  0,  0,  0],\n",
    "                       [ 0,  0, 0, 'M', 0, 'S', 0],\n",
    "                       [ 0,  0, 0,  0,  0,  0,  0],\n",
    "                       [ 0,  0, 0, 'C', 0,  0,  0],\n",
    "                       [ 0, 'Y',0,  0,  0,  0,  0],\n",
    "                       [ 0,  0, 0,  0,  0,  0,  0]]"
   ]
  },
  {
   "cell_type": "code",
   "execution_count": 12,
   "metadata": {},
   "outputs": [],
   "source": [
    "def dist(a,b):\n",
    "    return max(abs(a[0]-b[0]),abs(a[1]-b[1]))\n",
    "def navigation(seaside):\n",
    "    y = []\n",
    "    c = []\n",
    "    m = []\n",
    "    s = []\n",
    "    for a in range(len(seaside)):\n",
    "        for b in range(len(seaside[a])):\n",
    "            if seaside[a][b] == 'Y': y =[a,b]\n",
    "            elif seaside[a][b] == 'C': c =[a,b]\n",
    "            elif seaside[a][b] == 'M': m = [a,b]\n",
    "            elif seaside[a][b] == 'S': s = [a,b]\n",
    "    return dist(y,c)+dist(y,m)+dist(y,s)"
   ]
  },
  {
   "cell_type": "code",
   "execution_count": 13,
   "metadata": {},
   "outputs": [
    {
     "data": {
      "text/plain": [
       "9"
      ]
     },
     "execution_count": 13,
     "metadata": {},
     "output_type": "execute_result"
    }
   ],
   "source": [
    "navigation(nav)"
   ]
  },
  {
   "cell_type": "code",
   "execution_count": null,
   "metadata": {},
   "outputs": [],
   "source": []
  }
 ],
 "metadata": {
  "kernelspec": {
   "display_name": "Python 3",
   "language": "python",
   "name": "python3"
  },
  "language_info": {
   "codemirror_mode": {
    "name": "ipython",
    "version": 3
   },
   "file_extension": ".py",
   "mimetype": "text/x-python",
   "name": "python",
   "nbconvert_exporter": "python",
   "pygments_lexer": "ipython3",
   "version": "3.6.4"
  }
 },
 "nbformat": 4,
 "nbformat_minor": 2
}
