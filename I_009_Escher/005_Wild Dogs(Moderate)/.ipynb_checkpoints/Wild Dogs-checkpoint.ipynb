{
 "cells": [
  {
   "cell_type": "code",
   "execution_count": 138,
   "metadata": {},
   "outputs": [],
   "source": [
    "from collections import Counter\n",
    "import math\n",
    "def dist(distance_all,list_input):\n",
    "    for distance_one in distance_all:\n",
    "        point_one = list_input[list_input.index(distance_one[0])-2]\n",
    "        \n",
    "        y_distance = point_one[1] - distance_one[0][1] * point_one[0]/distance_one[0][0]\n",
    "        x_distance = point_one[0] - distance_one[0][0] * point_one[1]/distance_one[0][1]\n",
    "        if (x_distance == 0 and y_distance == 0): result = 0\n",
    "        else:\n",
    "            result = x_distance*y_distance / math.sqrt(x_distance*x_distance + y_distance*y_distance)\n",
    "            result = abs(round(result,2))\n",
    "        yield result\n",
    "    \n",
    "def wild_dogs(coords):\n",
    "    coords.sort()\n",
    "    \n",
    "    list1 = []\n",
    "    for i in range(len(coords)):\n",
    "        for j in range(i+1,len(coords)):\n",
    "            list1.append(tuple(coords[i]))\n",
    "            list1.append(tuple(coords[j]))\n",
    "            if(coords[j][0] != coords[i][0]):\n",
    "                list1.append(tuple([1, (coords[j][1] - coords[i][1])/(coords[j][0] - coords[i][0])]))\n",
    "            else:\n",
    "                list1.append(tuple([0,coords[j][1] - coords[i][1]]))\n",
    "    distance = Counter(list1)\n",
    "    for value in coords:\n",
    "        distance.pop(tuple(value))\n",
    "    answer = sorted(distance.items(),key=lambda item:item[1])\n",
    "    answer_out = []\n",
    "    for i in reversed(range(len(answer))):\n",
    "        if(answer[i][1] == answer[len(answer)-1][1]):\n",
    "            answer_out.append(answer[i])\n",
    "    return min(list(dist(answer_out,list1)))       "
   ]
  },
  {
   "cell_type": "code",
   "execution_count": 141,
   "metadata": {},
   "outputs": [],
   "source": [
    "coords = [[10,23],[4,5],[7,14],[10,110]]"
   ]
  },
  {
   "cell_type": "code",
   "execution_count": 142,
   "metadata": {},
   "outputs": [
    {
     "data": {
      "text/plain": [
       "2.21"
      ]
     },
     "execution_count": 142,
     "metadata": {},
     "output_type": "execute_result"
    }
   ],
   "source": [
    "wild_dogs(coords)"
   ]
  },
  {
   "cell_type": "code",
   "execution_count": null,
   "metadata": {},
   "outputs": [],
   "source": []
  },
  {
   "cell_type": "code",
   "execution_count": null,
   "metadata": {},
   "outputs": [],
   "source": []
  }
 ],
 "metadata": {
  "kernelspec": {
   "display_name": "Python 3",
   "language": "python",
   "name": "python3"
  },
  "language_info": {
   "codemirror_mode": {
    "name": "ipython",
    "version": 3
   },
   "file_extension": ".py",
   "mimetype": "text/x-python",
   "name": "python",
   "nbconvert_exporter": "python",
   "pygments_lexer": "ipython3",
   "version": "3.6.4"
  }
 },
 "nbformat": 4,
 "nbformat_minor": 2
}
