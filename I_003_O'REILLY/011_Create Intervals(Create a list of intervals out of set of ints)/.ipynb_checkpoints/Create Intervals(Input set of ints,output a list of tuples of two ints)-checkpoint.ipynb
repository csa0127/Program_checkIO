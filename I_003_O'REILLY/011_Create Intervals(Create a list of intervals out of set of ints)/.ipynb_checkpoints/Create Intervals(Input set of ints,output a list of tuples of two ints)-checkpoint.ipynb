{
 "cells": [
  {
   "cell_type": "markdown",
   "metadata": {},
   "source": [
    "# Solution(normal)"
   ]
  },
  {
   "cell_type": "code",
   "execution_count": 44,
   "metadata": {},
   "outputs": [],
   "source": [
    "set1 = {1, 2, 3, 6, 7, 8, 4, 5,12,13,17}\n"
   ]
  },
  {
   "cell_type": "code",
   "execution_count": 34,
   "metadata": {},
   "outputs": [],
   "source": [
    "def create_intervals(data):\n",
    "    \n",
    "    list1 = sorted(list(data))\n",
    "    values_old = list1[0]\n",
    "    values_new = list1[0]\n",
    "    list2=[]\n",
    "    list2.append(values_old)\n",
    "    for values in list1:\n",
    "        if((values != values_new + 1)and(values != values_new) ): \n",
    "            list2.append(values_new)\n",
    "            values_old = values\n",
    "            list2.append(values_old)\n",
    "        values_new = values\n",
    "    list2.append(list1[len(list1)-1])\n",
    "    list3 = []\n",
    "    for i in range(0,len(list2),2):\n",
    "        list3.append((list2[i],list2[i+1]))\n",
    "    return list3"
   ]
  },
  {
   "cell_type": "code",
   "execution_count": 37,
   "metadata": {},
   "outputs": [
    {
     "data": {
      "text/plain": [
       "[(1, 8)]"
      ]
     },
     "execution_count": 37,
     "metadata": {},
     "output_type": "execute_result"
    }
   ],
   "source": [
    "create_intervals2(set1)"
   ]
  },
  {
   "cell_type": "markdown",
   "metadata": {},
   "source": [
    "# Solution by enumerate and groupby"
   ]
  },
  {
   "cell_type": "code",
   "execution_count": 47,
   "metadata": {},
   "outputs": [],
   "source": [
    "from itertools import groupby\n",
    "\n",
    "def create_intervals2(data):\n",
    "    return [(r[0], r[-1]) for r in (list(zip(*g))[1] for _, g in groupby(enumerate(sorted(data)), lambda i: i[1] - i[0]))]"
   ]
  },
  {
   "cell_type": "code",
   "execution_count": 65,
   "metadata": {},
   "outputs": [
    {
     "data": {
      "text/plain": [
       "[(1, 8), (12, 13), (17, 17)]"
      ]
     },
     "execution_count": 65,
     "metadata": {},
     "output_type": "execute_result"
    }
   ],
   "source": [
    "[(r[0],r[-1]) for r in (list(zip(*g))[1] for _, g in groupby(enumerate(sorted(set1)), lambda i: i[1] - i[0]))]"
   ]
  },
  {
   "cell_type": "code",
   "execution_count": 70,
   "metadata": {},
   "outputs": [
    {
     "name": "stdout",
     "output_type": "stream",
     "text": [
      "[(0, 1, 2, 3, 4, 5, 6, 7), (1, 2, 3, 4, 5, 6, 7, 8)]\n",
      "[(8, 9), (12, 13)]\n",
      "[(10,), (17,)]\n"
     ]
    }
   ],
   "source": [
    "for _, g in groupby(enumerate(sorted(set1)), lambda i: i[1] - i[0]):\n",
    "    print (list(zip(*g))) "
   ]
  },
  {
   "cell_type": "code",
   "execution_count": 71,
   "metadata": {},
   "outputs": [
    {
     "data": {
      "text/plain": [
       "<itertools.groupby at 0x1abd30eea48>"
      ]
     },
     "execution_count": 71,
     "metadata": {},
     "output_type": "execute_result"
    }
   ],
   "source": [
    "groupby(enumerate(sorted(set1)), lambda i: i[1] - i[0])"
   ]
  },
  {
   "cell_type": "code",
   "execution_count": null,
   "metadata": {},
   "outputs": [],
   "source": []
  }
 ],
 "metadata": {
  "kernelspec": {
   "display_name": "Python 3",
   "language": "python",
   "name": "python3"
  }
 },
 "nbformat": 4,
 "nbformat_minor": 2
}
