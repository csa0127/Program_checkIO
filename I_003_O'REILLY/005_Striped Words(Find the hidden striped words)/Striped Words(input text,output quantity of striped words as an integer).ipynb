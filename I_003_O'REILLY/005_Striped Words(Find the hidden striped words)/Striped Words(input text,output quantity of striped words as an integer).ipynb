{
 "cells": [
  {
   "cell_type": "code",
   "execution_count": 81,
   "metadata": {},
   "outputs": [],
   "source": [
    "text =\"Dog,cat,mouse, bird.Human.\""
   ]
  },
  {
   "cell_type": "code",
   "execution_count": 82,
   "metadata": {},
   "outputs": [],
   "source": [
    "VOWELS = \"AEIOUY\"\n",
    "CONSONANTS = \"BCDFGHJKLMNPQRSTVWXZ\"\n",
    "import string\n",
    "def test_str(test):\n",
    "    val_old = 0\n",
    "    val_new = 0\n",
    "    if test.isalpha() == False : return 0\n",
    "    if len(test)== 1:return 0\n",
    "    for val in test:\n",
    "        val_new = 1 if val in VOWELS else -1\n",
    "        if val_old == val_new: return 0\n",
    "        val_old = val_new\n",
    "    return 1\n",
    "\n",
    "def checkio(text):\n",
    "    for p in string.punctuation:\n",
    "        text = text.replace(p,' ')\n",
    "    count = 0\n",
    "    for t in text.upper().split(' '):\n",
    "        count += test_str(t)\n",
    "    return count"
   ]
  },
  {
   "cell_type": "code",
   "execution_count": 83,
   "metadata": {},
   "outputs": [
    {
     "name": "stdout",
     "output_type": "stream",
     "text": [
      "DOG\n",
      "1\n",
      "CAT\n",
      "2\n",
      "MOUSE\n",
      "2\n",
      "\n",
      "2\n",
      "BIRD\n",
      "2\n",
      "HUMAN\n",
      "3\n",
      "\n",
      "3\n"
     ]
    },
    {
     "data": {
      "text/plain": [
       "3"
      ]
     },
     "execution_count": 83,
     "metadata": {},
     "output_type": "execute_result"
    }
   ],
   "source": [
    "checkio(text)"
   ]
  },
  {
   "cell_type": "code",
   "execution_count": null,
   "metadata": {},
   "outputs": [],
   "source": []
  }
 ],
 "metadata": {
  "kernelspec": {
   "display_name": "Python 3",
   "language": "python",
   "name": "python3"
  },
  "language_info": {
   "codemirror_mode": {
    "name": "ipython",
    "version": 3
   },
   "file_extension": ".py",
   "mimetype": "text/x-python",
   "name": "python",
   "nbconvert_exporter": "python",
   "pygments_lexer": "ipython3",
   "version": "3.6.4"
  }
 },
 "nbformat": 4,
 "nbformat_minor": 2
}
