{
 "cells": [
  {
   "cell_type": "code",
   "execution_count": 33,
   "metadata": {},
   "outputs": [],
   "source": [
    "grid = ('X...',\n",
    "       '..X.',\n",
    "       'X..X',\n",
    "       '....')\n",
    "pasd=    ('itdf',\n",
    "         'gdce',\n",
    "         'aton',\n",
    "         'qrdi')"
   ]
  },
  {
   "cell_type": "code",
   "execution_count": 64,
   "metadata": {},
   "outputs": [
    {
     "name": "stdout",
     "output_type": "stream",
     "text": [
      ".X.X......X..X..\n",
      "[('.', 'X', '.', 'X'), ('.', '.', '.', '.'), ('.', '.', 'X', '.'), ('.', 'X', '.', '.')]\n",
      "['.X.X', '....', '..X.', '.X..']\n"
     ]
    }
   ],
   "source": [
    "temp4 = \"\"\n",
    "temp1 =\"\".join(gri)\n",
    "temp2 =\"\".join(pas)\n",
    "temp3 = [temp1,temp2]\n",
    "temp3 = list(zip(*temp3))\n",
    "list1 =(CW90(grid))\n",
    "text = \"\"\n",
    "for l in list1:\n",
    "    text += \"\".join(l)\n",
    "text1 = list(\"\".join(x) for x in list1)\n",
    "print(text)\n",
    "print(list1)\n",
    "print(text1)\n",
    "#for x in temp3:\n",
    "#    if x[0] == 'X': temp4=temp4+x[1]\n"
   ]
  },
  {
   "cell_type": "markdown",
   "metadata": {},
   "source": [
    "# Solution 1"
   ]
  },
  {
   "cell_type": "code",
   "execution_count": 65,
   "metadata": {},
   "outputs": [],
   "source": [
    "CW90 = lambda x: list(zip(*x[::-1]))\n",
    "def get_answer(gri,pas):\n",
    "    answer = \"\"\n",
    "    temp = list(zip(*[\"\".join(gri),\"\".join(pas)]))\n",
    "    for x in temp:\n",
    "        if x[0] == 'X': answer+= x[1]\n",
    "    return answer\n",
    "\n",
    "def recall_password(cipher_grille,ciphered_password):\n",
    "    answer = \"\"\n",
    "    answer += get_answer(cipher_grille,ciphered_password)\n",
    "    listx = cipher_grille\n",
    "    for i in range(3):\n",
    "        listx = CW90(listx)\n",
    "        answer += get_answer(list(\"\".join(x) for x in listx),ciphered_password)\n",
    "    return answer\n",
    "    "
   ]
  },
  {
   "cell_type": "code",
   "execution_count": 66,
   "metadata": {},
   "outputs": [
    {
     "data": {
      "text/plain": [
       "'icantforgetiddqd'"
      ]
     },
     "execution_count": 66,
     "metadata": {},
     "output_type": "execute_result"
    }
   ],
   "source": [
    "recall_password(grid,pasd)"
   ]
  },
  {
   "cell_type": "code",
   "execution_count": null,
   "metadata": {},
   "outputs": [],
   "source": []
  }
 ],
 "metadata": {
  "kernelspec": {
   "display_name": "Python 3",
   "language": "python",
   "name": "python3"
  },
  "language_info": {
   "codemirror_mode": {
    "name": "ipython",
    "version": 3
   },
   "file_extension": ".py",
   "mimetype": "text/x-python",
   "name": "python",
   "nbconvert_exporter": "python",
   "pygments_lexer": "ipython3",
   "version": "3.6.4"
  }
 },
 "nbformat": 4,
 "nbformat_minor": 2
}
