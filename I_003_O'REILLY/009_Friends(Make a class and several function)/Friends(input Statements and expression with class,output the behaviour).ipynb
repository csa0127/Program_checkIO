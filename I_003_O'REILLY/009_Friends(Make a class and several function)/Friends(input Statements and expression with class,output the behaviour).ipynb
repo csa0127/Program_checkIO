{
 "cells": [
  {
   "cell_type": "markdown",
   "metadata": {},
   "source": [
    "# Make a class and several functions by input data set"
   ]
  },
  {
   "cell_type": "code",
   "execution_count": 95,
   "metadata": {
    "scrolled": true
   },
   "outputs": [
    {
     "name": "stdout",
     "output_type": "stream",
     "text": [
      "[{'a', 'b'}, {'c', 'b'}, {'c', 'a'}, {'a', 'c'}]\n"
     ]
    },
    {
     "data": {
      "text/plain": [
       "{'b', 'c'}"
      ]
     },
     "execution_count": 95,
     "metadata": {},
     "output_type": "execute_result"
    }
   ],
   "source": [
    "letter_friends = Friends(({\"a\", \"b\"}, {\"b\", \"c\"}, {\"c\", \"a\"}, {\"a\", \"c\"}))\n",
    "letter_friends.connected(\"a\")"
   ]
  },
  {
   "cell_type": "code",
   "execution_count": null,
   "metadata": {},
   "outputs": [],
   "source": []
  },
  {
   "cell_type": "code",
   "execution_count": 94,
   "metadata": {},
   "outputs": [],
   "source": [
    "from functools import reduce\n",
    "class Friends:\n",
    "    def __init__(self, connections):\n",
    "        self.data = list(connections)\n",
    "        print (self.data)\n",
    "        #raise NotImplementedError\n",
    "\n",
    "    def add(self, connection):\n",
    "        if connection in self.data: return False\n",
    "        else:\n",
    "            self.data.append((connection))\n",
    "            return True \n",
    "\n",
    "    def remove(self, connection):\n",
    "        if connection in self.data:\n",
    "            self.data.remove(connection)\n",
    "            return True\n",
    "        else:\n",
    "            return False\n",
    "\n",
    "    def names(self):\n",
    "        resultSet = reduce(lambda x,y:x|y, self.data)\n",
    "        return resultSet\n",
    "\n",
    "    def connected(self, name):\n",
    "        resultList = []\n",
    "        for setNames in self.data:\n",
    "            if name in setNames:\n",
    "                resultList.append(setNames.difference({name}))\n",
    "        return (reduce(lambda x,y:x|y,resultList) if resultList else set(resultList))"
   ]
  },
  {
   "cell_type": "code",
   "execution_count": null,
   "metadata": {},
   "outputs": [],
   "source": []
  },
  {
   "cell_type": "code",
   "execution_count": null,
   "metadata": {},
   "outputs": [],
   "source": []
  }
 ],
 "metadata": {
  "kernelspec": {
   "display_name": "Python 3",
   "language": "python",
   "name": "python3"
  },
  "language_info": {
   "codemirror_mode": {
    "name": "ipython",
    "version": 3
   },
   "file_extension": ".py",
   "mimetype": "text/x-python",
   "name": "python",
   "nbconvert_exporter": "python",
   "pygments_lexer": "ipython3",
   "version": "3.6.4"
  }
 },
 "nbformat": 4,
 "nbformat_minor": 2
}
