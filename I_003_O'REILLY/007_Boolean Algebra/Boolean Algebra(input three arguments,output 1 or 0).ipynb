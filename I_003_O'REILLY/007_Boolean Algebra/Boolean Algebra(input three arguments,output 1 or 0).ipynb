{
 "cells": [
  {
   "cell_type": "markdown",
   "metadata": {},
   "source": [
    "# realize function:\n",
    "x | y | x∧y | x∨y | x→y | x⊕y | x≡y |\n",
    "---|---|----|-----|-----|------|-----|\n",
    " 0 | 0 |  0  |  0  |  1  |  0  |  1  |\n",
    " 1 | 0 |  0  |  1  |  0  |  1  |  0  |\n",
    " 0 | 1 |  0  |  1  |  1  |  1  |  0  |\n",
    " 1 | 1 |  1  |  1  |  1  |  0  |  1  |"
   ]
  },
  {
   "cell_type": "code",
   "execution_count": 3,
   "metadata": {},
   "outputs": [],
   "source": [
    "OPN = (\"conjunction\", \"disjunction\", \"implication\", \"exclusive\", \"equivalence\")\n",
    "\n",
    "def boolean(x, y, op):\n",
    "    result = 0\n",
    "    if op == OPN[0]:\n",
    "        result = x and y\n",
    "    elif op == OPN[1]:\n",
    "        result = x or y\n",
    "    elif op == OPN[2]:\n",
    "        result = not(x) or y\n",
    "    elif op == OPN[3]:\n",
    "        result = x ^ y\n",
    "    elif op == OPN[4]:\n",
    "        result = not(x ^ y)\n",
    "    else :\n",
    "        result = 0\n",
    "    return result"
   ]
  },
  {
   "cell_type": "code",
   "execution_count": 9,
   "metadata": {},
   "outputs": [
    {
     "data": {
      "text/plain": [
       "(True, 'same?')"
      ]
     },
     "execution_count": 9,
     "metadata": {},
     "output_type": "execute_result"
    }
   ],
   "source": [
    "#boolean(1, 0, \"conjunction\") == 0, \"and\"\n",
    "#boolean(1, 0, \"disjunction\") == 1, \"or\"\n",
    "#boolean(1, 1, \"implication\") == 1, \"material\"\n",
    "#boolean(0, 1, \"exclusive\") == 1, \"xor\"\n",
    "#boolean(0, 1, \"equivalence\") == 0, \"same?\""
   ]
  },
  {
   "cell_type": "code",
   "execution_count": null,
   "metadata": {},
   "outputs": [],
   "source": []
  }
 ],
 "metadata": {
  "kernelspec": {
   "display_name": "Python 3",
   "language": "python",
   "name": "python3"
  },
  "language_info": {
   "codemirror_mode": {
    "name": "ipython",
    "version": 3
   },
   "file_extension": ".py",
   "mimetype": "text/x-python",
   "name": "python",
   "nbconvert_exporter": "python",
   "pygments_lexer": "ipython3",
   "version": "3.6.4"
  }
 },
 "nbformat": 4,
 "nbformat_minor": 2
}
