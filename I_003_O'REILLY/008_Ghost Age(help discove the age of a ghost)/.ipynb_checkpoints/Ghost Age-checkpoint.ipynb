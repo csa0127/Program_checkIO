{
 "cells": [
  {
   "cell_type": "code",
   "execution_count": null,
   "metadata": {},
   "outputs": [],
   "source": [
    " "
   ]
  },
  {
   "cell_type": "code",
   "execution_count": 23,
   "metadata": {},
   "outputs": [],
   "source": []
  },
  {
   "cell_type": "code",
   "execution_count": 25,
   "metadata": {},
   "outputs": [
    {
     "data": {
      "text/plain": [
       "['1',\n",
       " '1',\n",
       " '2',\n",
       " '3',\n",
       " '5',\n",
       " '8',\n",
       " '13',\n",
       " '21',\n",
       " '34',\n",
       " '55',\n",
       " '89',\n",
       " '144',\n",
       " '233',\n",
       " '377',\n",
       " '610',\n",
       " '987',\n",
       " '1597',\n",
       " '2584',\n",
       " '4181',\n",
       " '6765']"
      ]
     },
     "execution_count": 25,
     "metadata": {},
     "output_type": "execute_result"
    }
   ],
   "source": [
    "l1 = Fibonacci()\n",
    "l1"
   ]
  },
  {
   "cell_type": "code",
   "execution_count": 40,
   "metadata": {},
   "outputs": [],
   "source": [
    "def Fibonacci():\n",
    "    result = []\n",
    "    number_base = 1\n",
    "    number_new = 1\n",
    "    result.append(str(number_base))\n",
    "    result.append(str(number_new))\n",
    "    while (number_new+number_base) < 10000:\n",
    "        number_app = number_base +number_new\n",
    "        result.append(str(number_app))\n",
    "        number_base = number_new\n",
    "        number_new = number_app\n",
    "    return result\n",
    "\n",
    "def checkio(opacity):\n",
    "    l2 = Fibonacci()\n",
    "    number = 0\n",
    "    if (10000-opacity) ==0: return 0\n",
    "    for i in range(1,10000):\n",
    "        number=number+i if str(i) in l2 else number-1\n",
    "        if number==(10000-opacity): return i\n",
    "    return 0"
   ]
  },
  {
   "cell_type": "code",
   "execution_count": 43,
   "metadata": {},
   "outputs": [
    {
     "data": {
      "text/plain": [
       "0"
      ]
     },
     "execution_count": 43,
     "metadata": {},
     "output_type": "execute_result"
    }
   ],
   "source": [
    "checkio(10000)"
   ]
  },
  {
   "cell_type": "markdown",
   "metadata": {},
   "source": [
    "# another way to adjust fibonacci"
   ]
  },
  {
   "cell_type": "code",
   "execution_count": 47,
   "metadata": {},
   "outputs": [],
   "source": [
    "def Fibonacci2(n):\n",
    "    return ((Fibonacci2(n-1) + Fibonacci2(n-2)) if n>1 else n)\n",
    "l3=[]\n",
    "for i in range(1,22):\n",
    "    l3.append(Fibonacci2(i))"
   ]
  },
  {
   "cell_type": "code",
   "execution_count": 48,
   "metadata": {},
   "outputs": [
    {
     "data": {
      "text/plain": [
       "[1,\n",
       " 1,\n",
       " 2,\n",
       " 3,\n",
       " 5,\n",
       " 8,\n",
       " 13,\n",
       " 21,\n",
       " 34,\n",
       " 55,\n",
       " 89,\n",
       " 144,\n",
       " 233,\n",
       " 377,\n",
       " 610,\n",
       " 987,\n",
       " 1597,\n",
       " 2584,\n",
       " 4181,\n",
       " 6765,\n",
       " 10946]"
      ]
     },
     "execution_count": 48,
     "metadata": {},
     "output_type": "execute_result"
    }
   ],
   "source": [
    "l3"
   ]
  },
  {
   "cell_type": "code",
   "execution_count": null,
   "metadata": {},
   "outputs": [],
   "source": []
  }
 ],
 "metadata": {
  "kernelspec": {
   "display_name": "Python 3",
   "language": "python",
   "name": "python3"
  }
 },
 "nbformat": 4,
 "nbformat_minor": 2
}
